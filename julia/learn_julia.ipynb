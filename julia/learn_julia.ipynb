{
 "cells": [
  {
   "cell_type": "markdown",
   "id": "9b24ffbf-c78d-4d10-b2c6-78738edd946d",
   "metadata": {},
   "source": [
    "# Learning Julia\n",
    "A short introduction to Julia following the book [Think Julia: How to Think Like a Computer Scientist](https://benlauwens.github.io/ThinkJulia.jl/latest/book.html#chap06), by Ben Lauwens and Allen Downey.\r\n"
   ]
  },
  {
   "cell_type": "code",
   "execution_count": 2,
   "id": "ab83fa29-1392-4e7f-b788-2bd44c50b96b",
   "metadata": {},
   "outputs": [],
   "source": [
    "using Pkg"
   ]
  },
  {
   "cell_type": "markdown",
   "id": "429a410f-195e-48dd-9cda-329b966add5a",
   "metadata": {},
   "source": [
    "## Conditionals"
   ]
  },
  {
   "cell_type": "code",
   "execution_count": 17,
   "id": "80961d42-be0d-409c-a114-aac2eba71315",
   "metadata": {},
   "outputs": [
    {
     "name": "stdout",
     "output_type": "stream",
     "text": [
      "x is positive"
     ]
    }
   ],
   "source": [
    "x = 9\n",
    "if x > 0\n",
    "    print(\"x is positive\")\n",
    "end"
   ]
  },
  {
   "cell_type": "code",
   "execution_count": 33,
   "id": "8768cea0-01a4-4608-a36e-bc57ffece643",
   "metadata": {},
   "outputs": [
    {
     "name": "stdout",
     "output_type": "stream",
     "text": [
      "a"
     ]
    }
   ],
   "source": [
    "choice = 'a' # this is a Char\n",
    "if choice == 'a'\n",
    "    print(\"a\")\n",
    "elseif choice == 'b'\n",
    "    print(\"b\")\n",
    "elseif choice == 'c'\n",
    "    print(\"c\")\n",
    "end"
   ]
  },
  {
   "cell_type": "markdown",
   "id": "0757b71f-3774-4ee2-b61b-8e7ea11eff66",
   "metadata": {},
   "source": [
    "## Functions"
   ]
  },
  {
   "cell_type": "code",
   "execution_count": 19,
   "id": "48b12e47-ed05-451e-a359-b4706fb5dd25",
   "metadata": {},
   "outputs": [
    {
     "data": {
      "text/plain": [
       "square (generic function with 1 method)"
      ]
     },
     "execution_count": 19,
     "metadata": {},
     "output_type": "execute_result"
    }
   ],
   "source": [
    "function square(a)\n",
    "    # Computes the square of the argument\n",
    "    b = a * a\n",
    "    return a, b\n",
    "end "
   ]
  },
  {
   "cell_type": "code",
   "execution_count": 23,
   "id": "f822833d-f14b-4da7-a8cb-d2ae8cfc4e27",
   "metadata": {},
   "outputs": [
    {
     "data": {
      "text/plain": [
       "(4, 16)"
      ]
     },
     "execution_count": 23,
     "metadata": {},
     "output_type": "execute_result"
    }
   ],
   "source": [
    "square(4)"
   ]
  }
 ],
 "metadata": {
  "kernelspec": {
   "display_name": "Julia 1.5.1",
   "language": "julia",
   "name": "julia-1.5"
  },
  "language_info": {
   "file_extension": ".jl",
   "mimetype": "application/julia",
   "name": "julia",
   "version": "1.5.1"
  }
 },
 "nbformat": 4,
 "nbformat_minor": 5
}
