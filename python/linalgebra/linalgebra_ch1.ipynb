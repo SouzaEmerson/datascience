{
 "cells": [
  {
   "cell_type": "markdown",
   "id": "9105420b",
   "metadata": {},
   "source": [
    "# Linear Algebra\n",
    "This notebook contains examples of linear algebra in Python. The examples are based on Gilbert Strang's book [Introduction to Linear Algebra, 5th Edition](https://math.mit.edu/~gs/linearalgebra/) and on Robert Johansson's book [Numerical Python](https://jrjohansson.github.io/numericalpython.html)."
   ]
  },
  {
   "cell_type": "code",
   "execution_count": 12,
   "id": "02642e2c",
   "metadata": {},
   "outputs": [],
   "source": [
    "import numpy as np\n",
    "import math\n",
    "import matplotlib.pyplot as plt"
   ]
  },
  {
   "cell_type": "markdown",
   "id": "38696b67",
   "metadata": {},
   "source": [
    "## Chapter 1"
   ]
  },
  {
   "cell_type": "markdown",
   "id": "14367992",
   "metadata": {},
   "source": [
    "### 1.1 Vectors and Linear Combinations"
   ]
  },
  {
   "cell_type": "code",
   "execution_count": 6,
   "id": "7321c736",
   "metadata": {},
   "outputs": [
    {
     "data": {
      "text/plain": [
       "(array([1, 1]), array([2, 3]))"
      ]
     },
     "execution_count": 6,
     "metadata": {},
     "output_type": "execute_result"
    }
   ],
   "source": [
    "v = np.array([1,1])\n",
    "w = np.array([2,3])"
   ]
  },
  {
   "cell_type": "markdown",
   "id": "3dd71d29",
   "metadata": {},
   "source": [
    "we can add two vectors"
   ]
  },
  {
   "cell_type": "code",
   "execution_count": 8,
   "id": "6ea79ae8",
   "metadata": {},
   "outputs": [
    {
     "data": {
      "text/plain": [
       "array([3, 4])"
      ]
     },
     "execution_count": 8,
     "metadata": {},
     "output_type": "execute_result"
    }
   ],
   "source": [
    "v + w"
   ]
  },
  {
   "cell_type": "markdown",
   "id": "1b664a55",
   "metadata": {},
   "source": [
    "we can multiply a vector by a scalar"
   ]
  },
  {
   "cell_type": "code",
   "execution_count": 9,
   "id": "f1a51219",
   "metadata": {},
   "outputs": [
    {
     "data": {
      "text/plain": [
       "array([2, 2])"
      ]
     },
     "execution_count": 9,
     "metadata": {},
     "output_type": "execute_result"
    }
   ],
   "source": [
    "2 * v"
   ]
  },
  {
   "cell_type": "markdown",
   "id": "92622bf0",
   "metadata": {},
   "source": [
    "we can compute a linear combination of two vectors"
   ]
  },
  {
   "cell_type": "code",
   "execution_count": 43,
   "id": "90f7d9b9",
   "metadata": {},
   "outputs": [
    {
     "data": {
      "image/png": "[encoded data removed]",
      "text/plain": [
       "<Figure size 432x288 with 1 Axes>"
      ]
     },
     "metadata": {
      "needs_background": "light"
     },
     "output_type": "display_data"
    }
   ],
   "source": [
    "V = np.array([v, w, v + w])\n",
    "origin = np.array([[0, 0, 0],[0, 0, 0]]) # origin point\n",
    "fig, ax = plt.subplots()\n",
    "ax.quiver(*origin, V[:,0], V[:,1], color=['r','b','g'], scale=10)\n",
    "ax.set(xlim=(0, 0.2), ylim=(0, 0.3))\n",
    "plt.xlabel('x')\n",
    "plt.ylabel('y')\n",
    "plt.show()\n"
   ]
  },
  {
   "cell_type": "markdown",
   "id": "8cfe903f",
   "metadata": {},
   "source": [
    "### 1.2 Lengths and Dot products\n",
    "The inner product of two vectors is implemented in NumPy by the dot() function."
   ]
  },
  {
   "cell_type": "code",
   "execution_count": 20,
   "id": "59305e51",
   "metadata": {},
   "outputs": [
    {
     "data": {
      "text/plain": [
       "(3, 2)"
      ]
     },
     "execution_count": 20,
     "metadata": {},
     "output_type": "execute_result"
    }
   ],
   "source": [
    "data = np.array([[1, 2], [3, 4], [5, 6]])\n",
    "rows, cols = data.shape\n",
    "rows, cols"
   ]
  },
  {
   "cell_type": "markdown",
   "id": "200ad0db",
   "metadata": {},
   "source": [
    "Two vectors whose internal product is zero are orthogonal"
   ]
  },
  {
   "cell_type": "code",
   "execution_count": 9,
   "id": "20ff3e58",
   "metadata": {},
   "outputs": [
    {
     "data": {
      "text/plain": [
       "0"
      ]
     },
     "execution_count": 9,
     "metadata": {},
     "output_type": "execute_result"
    }
   ],
   "source": [
    "v = np.array([1, 3, 2])\n",
    "w = np.array([4, -4, 4])\n",
    "np.dot(v, w)"
   ]
  },
  {
   "cell_type": "markdown",
   "id": "b338209e",
   "metadata": {},
   "source": [
    "The length of a vector is defined as $||\\vec{v}|| = \\sqrt{\\vec{v} \\cdot \\vec{v}} $"
   ]
  },
  {
   "cell_type": "code",
   "execution_count": 13,
   "id": "d0540e9f",
   "metadata": {},
   "outputs": [
    {
     "data": {
      "text/plain": [
       "3.7416573867739413"
      ]
     },
     "execution_count": 13,
     "metadata": {},
     "output_type": "execute_result"
    }
   ],
   "source": [
    "math.sqrt(np.dot(v,v))"
   ]
  },
  {
   "cell_type": "markdown",
   "id": "79216113",
   "metadata": {},
   "source": [
    "so that the unit vector\n",
    "\n",
    "$$ \\frac{\\vec{v}}{||\\vec{v}||} $$\n",
    "\n",
    "has length 1"
   ]
  },
  {
   "cell_type": "markdown",
   "id": "17eeb99d",
   "metadata": {},
   "source": [
    "The angle $\\theta$ between two vectors $\\vec{v}$ and $\\vec{w}$ is defined as\n",
    "\n",
    "$$ \\cos{\\theta} = \\frac{\\vec{v} \\cdot \\vec{w}}{||\\vec{v}|| ||\\vec{w}||} $$"
   ]
  },
  {
   "cell_type": "code",
   "execution_count": 16,
   "id": "550c437f",
   "metadata": {},
   "outputs": [
    {
     "data": {
      "text/plain": [
       "0.7071067811865475"
      ]
     },
     "execution_count": 16,
     "metadata": {},
     "output_type": "execute_result"
    }
   ],
   "source": [
    "v = np.array([1, 0])\n",
    "w = np.array([1, 1])\n",
    "len_v = math.sqrt(np.dot(v, v))\n",
    "len_w = math.sqrt(np.dot(w, w))\n",
    "np.dot(v, w) / (len_v * len_w)"
   ]
  },
  {
   "cell_type": "markdown",
   "id": "a095e2a2",
   "metadata": {},
   "source": [
    "### 1.3 Matrices\n",
    "A matrix is a list of vectors\n",
    "\n",
    "$$ A = \\begin{bmatrix} 1 & 2 \\\\ 3 & 4 \\\\ 5 & 6 \\end{bmatrix}$$\n",
    "\n",
    "We can combine the matrix vectors by computig the inner product between the matrix and a vector, e.g. $\\vec{x} = [7, 8]$ that represent how we want to combine the matrix vectors\n",
    "\n",
    "$$ \\begin{bmatrix} 1 & 2 \\\\ 3 & 4 \\\\ 5 & 6 \\end{bmatrix} \\begin{bmatrix} 7 \\\\ 8 \\end{bmatrix} = \\begin{bmatrix} 23 \\\\ 53 \\\\ 83 \\end{bmatrix}$$"
   ]
  },
  {
   "cell_type": "code",
   "execution_count": 22,
   "id": "9cf3b36d",
   "metadata": {},
   "outputs": [
    {
     "data": {
      "text/plain": [
       "(3, 2)"
      ]
     },
     "execution_count": 22,
     "metadata": {},
     "output_type": "execute_result"
    }
   ],
   "source": [
    "A = np.array([[1, 2], [3, 4], [5, 6]])\n",
    "A.shape # rows, columns"
   ]
  },
  {
   "cell_type": "code",
   "execution_count": 25,
   "id": "4a5edfb1",
   "metadata": {},
   "outputs": [
    {
     "data": {
      "text/plain": [
       "array([23, 53, 83])"
      ]
     },
     "execution_count": 25,
     "metadata": {},
     "output_type": "execute_result"
    }
   ],
   "source": [
    "x = np.array([7, 8])\n",
    "np.dot(A, x)"
   ]
  },
  {
   "cell_type": "code",
   "execution_count": null,
   "id": "2856f488",
   "metadata": {},
   "outputs": [],
   "source": []
  }
 ],
 "metadata": {
  "kernelspec": {
   "display_name": "Python 3 (ipykernel)",
   "language": "python",
   "name": "python3"
  },
  "language_info": {
   "codemirror_mode": {
    "name": "ipython",
    "version": 3
   },
   "file_extension": ".py",
   "mimetype": "text/x-python",
   "name": "python",
   "nbconvert_exporter": "python",
   "pygments_lexer": "ipython3",
   "version": "3.7.12"
  }
 },
 "nbformat": 4,
 "nbformat_minor": 5
}
