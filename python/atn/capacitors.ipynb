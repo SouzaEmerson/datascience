{
 "cells": [
  {
   "cell_type": "markdown",
   "metadata": {},
   "source": [
    "# Capacitors"
   ]
  },
  {
   "cell_type": "code",
   "execution_count": 2,
   "metadata": {},
   "outputs": [
    {
     "data": {
      "text/plain": [
       "'1.4.3'"
      ]
     },
     "execution_count": 2,
     "metadata": {},
     "output_type": "execute_result"
    }
   ],
   "source": [
    "import pandas as pd\n",
    "import numpy as np\n",
    "from datetime import datetime\n",
    "from pandas import Series, DataFrame\n",
    "%matplotlib inline\n",
    "import matplotlib.pyplot as plt\n",
    "plt.style.use('seaborn-whitegrid')\n",
    "pd.__version__"
   ]
  },
  {
   "cell_type": "markdown",
   "metadata": {},
   "source": [
    "### Read the data"
   ]
  },
  {
   "cell_type": "code",
   "execution_count": 4,
   "metadata": {},
   "outputs": [
    {
     "name": "stderr",
     "output_type": "stream",
     "text": [
      "C:\\Users\\Luigi\\AppData\\Local\\Temp\\ipykernel_18948\\1313487762.py:1: DtypeWarning: Columns (21) have mixed types. Specify dtype option on import or set low_memory=False.\n",
      "  sales = pd.read_csv('datasets/PurchaseData_20180319.csv')\n"
     ]
    }
   ],
   "source": [
    "sales = pd.read_csv('datasets/PurchaseData_20180319.csv')"
   ]
  },
  {
   "cell_type": "markdown",
   "metadata": {},
   "source": [
    "# Capacitors Data Analysis\n",
    "In order to predict the price (POP_UnitPrice) and the delivery time (PO_Date) of a capacitor we have received from ATN, with the data, a list of features that should be relevant for the task at hand and a set of rules. The relevant features are a subset of the fields in the data set.\n",
    "\n",
    "1. Component number (ComponentNumber_MAT_Flight)\n",
    "2. Specification name (SpecificationName)\n",
    "3. Family path (FamilyPath_Flight)\n",
    "4. Style (Style_Flight)\n",
    "5. Quality level (QLevel_Flight)\n",
    "6. Package class (PACKAGECLASS)\n",
    "7. Package (PACKAGE)\n",
    "8. Capacitance (CAPACITANCE_N)\n",
    "9. Capacitance case (CAPE_CASE)\n",
    "10. Tolerance (TOLERANCE_N)\n",
    "11. DC rated voltage (DC_RATED_VOLTAGE_N)\n",
    "12. Quality Value Name (QualityValueName)\n",
    "13. Manufacturer (MnfrDoeeetName)\n",
    "14. Quantity (POP_Qty)\n",
    "15. Date of purchase (PO_Date)\n",
    "16. Unit price (POP_UnitPrice)\n",
    "17. Date of delivery (POP_DeliveryDate)"
   ]
  },
  {
   "cell_type": "markdown",
   "metadata": {},
   "source": [
    "## Data preparation for capacitors\n",
    "Before implementing the algorithm to predict unit price and delivery time for a capacitor, we have to extract the records from the sale orders data set and apply the following transformation\n",
    "\n",
    "1. Select the records about capacitors (family root -> capacitors)\n",
    "2. Extract the most specific family of the component from the hierarchy (family path)\n",
    "3. Filter out the records that are about services (remove price label -> material unit price or pop_quantity_unit -> ST)\n",
    "4. Transform all the prices in euro\n",
    "5. Update the all the unit prices applying an increase of 5 % per year (using the compund interest formula) \n",
    "\n",
    "After the data is prepared we can implement the algorithms \n",
    "\n",
    "1. Price prediction\n",
    "\n",
    "2. Delivery time prediction"
   ]
  },
  {
   "cell_type": "markdown",
   "metadata": {},
   "source": [
    "#### Use only records without charges"
   ]
  },
  {
   "cell_type": "code",
   "execution_count": 5,
   "metadata": {},
   "outputs": [
    {
     "data": {
      "text/plain": [
       "18508"
      ]
     },
     "execution_count": 5,
     "metadata": {},
     "output_type": "execute_result"
    }
   ],
   "source": [
    "sales = sales[sales['PRICE LABEL'] == 'MATERIAL UNIT PRICE']\n",
    "sales.index.size"
   ]
  },
  {
   "cell_type": "markdown",
   "metadata": {},
   "source": [
    "#### Select the records about capacitors"
   ]
  },
  {
   "cell_type": "code",
   "execution_count": 6,
   "metadata": {},
   "outputs": [
    {
     "name": "stdout",
     "output_type": "stream",
     "text": [
      "Number of records for resistor: 8027\n"
     ]
    }
   ],
   "source": [
    "resistor_records = sales[sales['FamilyRoot'] == 'Resistors']\n",
    "num_resistor_records = resistor_records.index.size\n",
    "print(\"Number of records for resistor: \" + str(num_resistor_records))"
   ]
  },
  {
   "cell_type": "code",
   "execution_count": null,
   "metadata": {},
   "outputs": [],
   "source": []
  }
 ],
 "metadata": {
  "kernelspec": {
   "display_name": "Python 3 (ipykernel)",
   "language": "python",
   "name": "python3"
  },
  "language_info": {
   "codemirror_mode": {
    "name": "ipython",
    "version": 3
   },
   "file_extension": ".py",
   "mimetype": "text/x-python",
   "name": "python",
   "nbconvert_exporter": "python",
   "pygments_lexer": "ipython3",
   "version": "3.9.13"
  }
 },
 "nbformat": 4,
 "nbformat_minor": 2
}
