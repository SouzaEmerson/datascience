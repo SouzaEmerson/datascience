{
 "cells": [
  {
   "cell_type": "markdown",
   "metadata": {},
   "source": [
    "# Intro to Pandas\n",
    "Pandas is a package used to work with tabular data. In this notebook we will some examples of the main functionalities. For a detailed account of what is possible with Pandas you can read the free online textbook [Python for Data Analysis, 3rd edition](https://wesmckinney.com/book/) by Wes McKinney."
   ]
  },
  {
   "cell_type": "code",
   "execution_count": 1,
   "metadata": {},
   "outputs": [
    {
     "name": "stdout",
     "output_type": "stream",
     "text": [
      "numpy version: 1.24.3\n",
      "pandas version: 1.5.3\n"
     ]
    }
   ],
   "source": [
    "import numpy as np\n",
    "import pandas as pd\n",
    "print(\"numpy version: %s\"%np.__version__)\n",
    "print(\"pandas version: %s\"%pd.__version__)"
   ]
  },
  {
   "cell_type": "markdown",
   "metadata": {},
   "source": [
    "## Series\n",
    "A Series is an indexed collection of objects. By default a Series index is based on integer numbers starting from 0 but we can use a different index, such as a set of chars or dates."
   ]
  },
  {
   "cell_type": "code",
   "execution_count": 2,
   "metadata": {},
   "outputs": [],
   "source": [
    "city_names = pd.Series(['San Francisco', 'San Jose', 'Sacramento'], index=['a', 'b', 'c'])\n",
    "populations = pd.Series([852469, 1015785, 485199], index=['a', 'b', 'c'])"
   ]
  },
  {
   "cell_type": "markdown",
   "metadata": {},
   "source": [
    "## DataFrame\n",
    "DataFrame is the class that provides a powerful set of functions to use when working with tabular data. It is a data structure defined as a collection of columns with a common index. By default a DataFrame index is based on integer numbers, like for the Series object, starting from 0 but we can use a different index as well. If we use Series as columns the DataFrame index will be the same as that used in the Series objects. As an example we build a DataDrame from two Series objects"
   ]
  },
  {
   "cell_type": "code",
   "execution_count": 3,
   "metadata": {},
   "outputs": [],
   "source": [
    "cities = pd.DataFrame({ 'city name': city_names, 'population': populations })"
   ]
  },
  {
   "cell_type": "markdown",
   "metadata": {},
   "source": [
    "We can add two more columns, one with data and a second one with a definition of the data computed from two columns that already exist in the DataFrame:"
   ]
  },
  {
   "cell_type": "code",
   "execution_count": 4,
   "metadata": {},
   "outputs": [
    {
     "data": {
      "text/html": [
       "<div>\n",
       "<style scoped>\n",
       "    .dataframe tbody tr th:only-of-type {\n",
       "        vertical-align: middle;\n",
       "    }\n",
       "\n",
       "    .dataframe tbody tr th {\n",
       "        vertical-align: top;\n",
       "    }\n",
       "\n",
       "    .dataframe thead th {\n",
       "        text-align: right;\n",
       "    }\n",
       "</style>\n",
       "<table border=\"1\" class=\"dataframe\">\n",
       "  <thead>\n",
       "    <tr style=\"text-align: right;\">\n",
       "      <th></th>\n",
       "      <th>city name</th>\n",
       "      <th>population</th>\n",
       "      <th>area</th>\n",
       "      <th>density</th>\n",
       "    </tr>\n",
       "  </thead>\n",
       "  <tbody>\n",
       "    <tr>\n",
       "      <th>a</th>\n",
       "      <td>San Francisco</td>\n",
       "      <td>852469</td>\n",
       "      <td>46.87</td>\n",
       "      <td>18187.945381</td>\n",
       "    </tr>\n",
       "    <tr>\n",
       "      <th>b</th>\n",
       "      <td>San Jose</td>\n",
       "      <td>1015785</td>\n",
       "      <td>176.53</td>\n",
       "      <td>5754.177760</td>\n",
       "    </tr>\n",
       "    <tr>\n",
       "      <th>c</th>\n",
       "      <td>Sacramento</td>\n",
       "      <td>485199</td>\n",
       "      <td>97.92</td>\n",
       "      <td>4955.055147</td>\n",
       "    </tr>\n",
       "  </tbody>\n",
       "</table>\n",
       "</div>"
      ],
      "text/plain": [
       "       city name  population    area       density\n",
       "a  San Francisco      852469   46.87  18187.945381\n",
       "b       San Jose     1015785  176.53   5754.177760\n",
       "c     Sacramento      485199   97.92   4955.055147"
      ]
     },
     "execution_count": 4,
     "metadata": {},
     "output_type": "execute_result"
    }
   ],
   "source": [
    "cities['area'] = pd.Series([46.87, 176.53, 97.92], index=['a', 'b', 'c'])\n",
    "cities['density'] = cities['population'] / cities['area']\n",
    "cities"
   ]
  },
  {
   "cell_type": "markdown",
   "metadata": {},
   "source": [
    "We can perfom statistical computation using the same kind of functions that are also available for a NumPy array such as the mean value of one or more columns."
   ]
  },
  {
   "cell_type": "code",
   "execution_count": 5,
   "metadata": {},
   "outputs": [
    {
     "name": "stdout",
     "output_type": "stream",
     "text": [
      "Cities mean area: 107.11\n",
      "Cities mean population: 784484\n"
     ]
    }
   ],
   "source": [
    "mean_area, mean_population = cities[['area', 'population']].mean()\n",
    "print(\"Cities mean area: {0:.2f}\\nCities mean population: {1:.0f}\".format(mean_area, mean_population))"
   ]
  },
  {
   "cell_type": "markdown",
   "metadata": {},
   "source": [
    "We can select a column by its name"
   ]
  },
  {
   "cell_type": "code",
   "execution_count": 6,
   "metadata": {},
   "outputs": [
    {
     "data": {
      "text/plain": [
       "a    San Francisco\n",
       "b         San Jose\n",
       "c       Sacramento\n",
       "Name: city name, dtype: object"
      ]
     },
     "execution_count": 6,
     "metadata": {},
     "output_type": "execute_result"
    }
   ],
   "source": [
    "cities['city name']"
   ]
  },
  {
   "cell_type": "markdown",
   "metadata": {},
   "source": [
    "and a row by its index"
   ]
  },
  {
   "cell_type": "code",
   "execution_count": 7,
   "metadata": {},
   "outputs": [
    {
     "data": {
      "text/plain": [
       "city name       San Jose\n",
       "population       1015785\n",
       "area              176.53\n",
       "density       5754.17776\n",
       "Name: b, dtype: object"
      ]
     },
     "execution_count": 7,
     "metadata": {},
     "output_type": "execute_result"
    }
   ],
   "source": [
    "cities.loc['b']"
   ]
  },
  {
   "cell_type": "markdown",
   "metadata": {},
   "source": [
    "or just one element by its column name and row index "
   ]
  },
  {
   "cell_type": "code",
   "execution_count": 8,
   "metadata": {},
   "outputs": [
    {
     "data": {
      "text/plain": [
       "'San Jose'"
      ]
     },
     "execution_count": 8,
     "metadata": {},
     "output_type": "execute_result"
    }
   ],
   "source": [
    "cities['city name']['b']"
   ]
  },
  {
   "cell_type": "markdown",
   "metadata": {},
   "source": [
    "or its row index and column name"
   ]
  },
  {
   "cell_type": "code",
   "execution_count": 9,
   "metadata": {},
   "outputs": [
    {
     "data": {
      "text/plain": [
       "'San Jose'"
      ]
     },
     "execution_count": 9,
     "metadata": {},
     "output_type": "execute_result"
    }
   ],
   "source": [
    "cities.loc['b']['city name']"
   ]
  },
  {
   "cell_type": "markdown",
   "metadata": {},
   "source": [
    "or finally by the row index position, and the column index position "
   ]
  },
  {
   "cell_type": "code",
   "execution_count": 10,
   "metadata": {},
   "outputs": [
    {
     "data": {
      "text/plain": [
       "'San Jose'"
      ]
     },
     "execution_count": 10,
     "metadata": {},
     "output_type": "execute_result"
    }
   ],
   "source": [
    "cities.iloc[1][0]"
   ]
  },
  {
   "cell_type": "markdown",
   "metadata": {},
   "source": [
    "## Lambdas\n",
    "We can apply anonimous functions to columns. For example we want to add a new column to our cities DataFrame that tells whether a city name starts with \"San \" and has an area larger than 50 $km^2$ "
   ]
  },
  {
   "cell_type": "code",
   "execution_count": 11,
   "metadata": {},
   "outputs": [
    {
     "data": {
      "text/html": [
       "<div>\n",
       "<style scoped>\n",
       "    .dataframe tbody tr th:only-of-type {\n",
       "        vertical-align: middle;\n",
       "    }\n",
       "\n",
       "    .dataframe tbody tr th {\n",
       "        vertical-align: top;\n",
       "    }\n",
       "\n",
       "    .dataframe thead th {\n",
       "        text-align: right;\n",
       "    }\n",
       "</style>\n",
       "<table border=\"1\" class=\"dataframe\">\n",
       "  <thead>\n",
       "    <tr style=\"text-align: right;\">\n",
       "      <th></th>\n",
       "      <th>city name</th>\n",
       "      <th>population</th>\n",
       "      <th>area</th>\n",
       "      <th>density</th>\n",
       "      <th>Saint_50</th>\n",
       "    </tr>\n",
       "  </thead>\n",
       "  <tbody>\n",
       "    <tr>\n",
       "      <th>a</th>\n",
       "      <td>San Francisco</td>\n",
       "      <td>852469</td>\n",
       "      <td>46.87</td>\n",
       "      <td>18187.945381</td>\n",
       "      <td>False</td>\n",
       "    </tr>\n",
       "    <tr>\n",
       "      <th>b</th>\n",
       "      <td>San Jose</td>\n",
       "      <td>1015785</td>\n",
       "      <td>176.53</td>\n",
       "      <td>5754.177760</td>\n",
       "      <td>True</td>\n",
       "    </tr>\n",
       "    <tr>\n",
       "      <th>c</th>\n",
       "      <td>Sacramento</td>\n",
       "      <td>485199</td>\n",
       "      <td>97.92</td>\n",
       "      <td>4955.055147</td>\n",
       "      <td>False</td>\n",
       "    </tr>\n",
       "  </tbody>\n",
       "</table>\n",
       "</div>"
      ],
      "text/plain": [
       "       city name  population    area       density  Saint_50\n",
       "a  San Francisco      852469   46.87  18187.945381     False\n",
       "b       San Jose     1015785  176.53   5754.177760      True\n",
       "c     Sacramento      485199   97.92   4955.055147     False"
      ]
     },
     "execution_count": 11,
     "metadata": {},
     "output_type": "execute_result"
    }
   ],
   "source": [
    "names = cities['city name']\n",
    "area = cities['area']\n",
    "cities['Saint_50'] = names.apply(lambda name: name[:4] == \"San \") & area.apply(lambda area: area > 50)\n",
    "cities"
   ]
  },
  {
   "cell_type": "markdown",
   "metadata": {},
   "source": [
    "## List comprehension"
   ]
  },
  {
   "cell_type": "code",
   "execution_count": 12,
   "metadata": {},
   "outputs": [
    {
     "data": {
      "text/html": [
       "<div>\n",
       "<style scoped>\n",
       "    .dataframe tbody tr th:only-of-type {\n",
       "        vertical-align: middle;\n",
       "    }\n",
       "\n",
       "    .dataframe tbody tr th {\n",
       "        vertical-align: top;\n",
       "    }\n",
       "\n",
       "    .dataframe thead th {\n",
       "        text-align: right;\n",
       "    }\n",
       "</style>\n",
       "<table border=\"1\" class=\"dataframe\">\n",
       "  <thead>\n",
       "    <tr style=\"text-align: right;\">\n",
       "      <th></th>\n",
       "      <th>city name</th>\n",
       "      <th>population</th>\n",
       "      <th>area</th>\n",
       "      <th>density</th>\n",
       "      <th>Saint_50</th>\n",
       "      <th>Saint_50_List_Compr1</th>\n",
       "    </tr>\n",
       "  </thead>\n",
       "  <tbody>\n",
       "    <tr>\n",
       "      <th>a</th>\n",
       "      <td>San Francisco</td>\n",
       "      <td>852469</td>\n",
       "      <td>46.87</td>\n",
       "      <td>18187.945381</td>\n",
       "      <td>False</td>\n",
       "      <td>False</td>\n",
       "    </tr>\n",
       "    <tr>\n",
       "      <th>b</th>\n",
       "      <td>San Jose</td>\n",
       "      <td>1015785</td>\n",
       "      <td>176.53</td>\n",
       "      <td>5754.177760</td>\n",
       "      <td>True</td>\n",
       "      <td>True</td>\n",
       "    </tr>\n",
       "    <tr>\n",
       "      <th>c</th>\n",
       "      <td>Sacramento</td>\n",
       "      <td>485199</td>\n",
       "      <td>97.92</td>\n",
       "      <td>4955.055147</td>\n",
       "      <td>False</td>\n",
       "      <td>False</td>\n",
       "    </tr>\n",
       "  </tbody>\n",
       "</table>\n",
       "</div>"
      ],
      "text/plain": [
       "       city name  population    area       density  Saint_50  \\\n",
       "a  San Francisco      852469   46.87  18187.945381     False   \n",
       "b       San Jose     1015785  176.53   5754.177760      True   \n",
       "c     Sacramento      485199   97.92   4955.055147     False   \n",
       "\n",
       "   Saint_50_List_Compr1  \n",
       "a                 False  \n",
       "b                  True  \n",
       "c                 False  "
      ]
     },
     "execution_count": 12,
     "metadata": {},
     "output_type": "execute_result"
    }
   ],
   "source": [
    "def saint_50(city_name, area):\n",
    "  is_saint = city_name[0:3] == \"San\"\n",
    "  is_50 = area > 50\n",
    "  return is_saint & is_50\n",
    "\n",
    "# A solution using list comprehension and the zip() function  \n",
    "cities[\"Saint_50_List_Compr1\"] = [saint_50(city_name, area) for city_name, area in zip(cities['city name'], cities['area'])]\n",
    "cities"
   ]
  },
  {
   "cell_type": "code",
   "execution_count": 13,
   "metadata": {},
   "outputs": [
    {
     "data": {
      "text/html": [
       "<div>\n",
       "<style scoped>\n",
       "    .dataframe tbody tr th:only-of-type {\n",
       "        vertical-align: middle;\n",
       "    }\n",
       "\n",
       "    .dataframe tbody tr th {\n",
       "        vertical-align: top;\n",
       "    }\n",
       "\n",
       "    .dataframe thead th {\n",
       "        text-align: right;\n",
       "    }\n",
       "</style>\n",
       "<table border=\"1\" class=\"dataframe\">\n",
       "  <thead>\n",
       "    <tr style=\"text-align: right;\">\n",
       "      <th></th>\n",
       "      <th>city name</th>\n",
       "      <th>population</th>\n",
       "      <th>area</th>\n",
       "      <th>density</th>\n",
       "      <th>Saint_50</th>\n",
       "      <th>Saint_50_List_Compr1</th>\n",
       "      <th>Saint_50_List_Compr2</th>\n",
       "    </tr>\n",
       "  </thead>\n",
       "  <tbody>\n",
       "    <tr>\n",
       "      <th>a</th>\n",
       "      <td>San Francisco</td>\n",
       "      <td>852469</td>\n",
       "      <td>46.87</td>\n",
       "      <td>18187.945381</td>\n",
       "      <td>False</td>\n",
       "      <td>False</td>\n",
       "      <td>NaN</td>\n",
       "    </tr>\n",
       "    <tr>\n",
       "      <th>b</th>\n",
       "      <td>San Jose</td>\n",
       "      <td>1015785</td>\n",
       "      <td>176.53</td>\n",
       "      <td>5754.177760</td>\n",
       "      <td>True</td>\n",
       "      <td>True</td>\n",
       "      <td>NaN</td>\n",
       "    </tr>\n",
       "    <tr>\n",
       "      <th>c</th>\n",
       "      <td>Sacramento</td>\n",
       "      <td>485199</td>\n",
       "      <td>97.92</td>\n",
       "      <td>4955.055147</td>\n",
       "      <td>False</td>\n",
       "      <td>False</td>\n",
       "      <td>NaN</td>\n",
       "    </tr>\n",
       "  </tbody>\n",
       "</table>\n",
       "</div>"
      ],
      "text/plain": [
       "       city name  population    area       density  Saint_50  \\\n",
       "a  San Francisco      852469   46.87  18187.945381     False   \n",
       "b       San Jose     1015785  176.53   5754.177760      True   \n",
       "c     Sacramento      485199   97.92   4955.055147     False   \n",
       "\n",
       "   Saint_50_List_Compr1 Saint_50_List_Compr2  \n",
       "a                 False                  NaN  \n",
       "b                  True                  NaN  \n",
       "c                 False                  NaN  "
      ]
     },
     "execution_count": 13,
     "metadata": {},
     "output_type": "execute_result"
    }
   ],
   "source": [
    "# A 3rd solution using two list comprehension\n",
    "saint = [name[0:3] == \"San\" for name in cities[\"city name\"]]\n",
    "area50 = [area > 50 for area in cities['area']]\n",
    "cities[\"Saint_50_List_Compr2\"] = pd.Series(saint) & pd.Series(area50)\n",
    "cities"
   ]
  },
  {
   "cell_type": "markdown",
   "metadata": {},
   "source": [
    "## Data aggregation\n",
    "We explore some aggregation functions available in Pandas. For our example we use the air pollutant releases dataset from the [European Environment Agency](https://www.eea.europa.eu/en). The dataset contains the emissions of several pollutants of EU countries from 2007 to 2021."
   ]
  },
  {
   "cell_type": "code",
   "execution_count": 187,
   "metadata": {},
   "outputs": [
    {
     "data": {
      "text/html": [
       "<div>\n",
       "<style scoped>\n",
       "    .dataframe tbody tr th:only-of-type {\n",
       "        vertical-align: middle;\n",
       "    }\n",
       "\n",
       "    .dataframe tbody tr th {\n",
       "        vertical-align: top;\n",
       "    }\n",
       "\n",
       "    .dataframe thead th {\n",
       "        text-align: right;\n",
       "    }\n",
       "</style>\n",
       "<table border=\"1\" class=\"dataframe\">\n",
       "  <thead>\n",
       "    <tr style=\"text-align: right;\">\n",
       "      <th></th>\n",
       "      <th>countryName</th>\n",
       "      <th>pollutant</th>\n",
       "      <th>reportingYear</th>\n",
       "      <th>emissions</th>\n",
       "    </tr>\n",
       "  </thead>\n",
       "  <tbody>\n",
       "    <tr>\n",
       "      <th>0</th>\n",
       "      <td>Austria</td>\n",
       "      <td>Cadmium and compounds (as Cd)</td>\n",
       "      <td>2007</td>\n",
       "      <td>15.3</td>\n",
       "    </tr>\n",
       "    <tr>\n",
       "      <th>1</th>\n",
       "      <td>Austria</td>\n",
       "      <td>Hydrogen cyanide (HCN)</td>\n",
       "      <td>2008</td>\n",
       "      <td>2396.0</td>\n",
       "    </tr>\n",
       "    <tr>\n",
       "      <th>2</th>\n",
       "      <td>Austria</td>\n",
       "      <td>Polycyclic aromatic hydrocarbons (PAHs)</td>\n",
       "      <td>2008</td>\n",
       "      <td>135.0</td>\n",
       "    </tr>\n",
       "    <tr>\n",
       "      <th>3</th>\n",
       "      <td>Austria</td>\n",
       "      <td>Chlorine and inorganic compounds (as HCl)</td>\n",
       "      <td>2009</td>\n",
       "      <td>40900.0</td>\n",
       "    </tr>\n",
       "    <tr>\n",
       "      <th>4</th>\n",
       "      <td>Austria</td>\n",
       "      <td>Dichloromethane (DCM)</td>\n",
       "      <td>2009</td>\n",
       "      <td>12000.0</td>\n",
       "    </tr>\n",
       "  </tbody>\n",
       "</table>\n",
       "</div>"
      ],
      "text/plain": [
       "  countryName                                  pollutant  reportingYear  \\\n",
       "0     Austria              Cadmium and compounds (as Cd)           2007   \n",
       "1     Austria                     Hydrogen cyanide (HCN)           2008   \n",
       "2     Austria    Polycyclic aromatic hydrocarbons (PAHs)           2008   \n",
       "3     Austria  Chlorine and inorganic compounds (as HCl)           2009   \n",
       "4     Austria                      Dichloromethane (DCM)           2009   \n",
       "\n",
       "   emissions  \n",
       "0       15.3  \n",
       "1     2396.0  \n",
       "2      135.0  \n",
       "3    40900.0  \n",
       "4    12000.0  "
      ]
     },
     "execution_count": 187,
     "metadata": {},
     "output_type": "execute_result"
    }
   ],
   "source": [
    "air_rel_df = pd.read_csv('iia/data/eea/EEA_Total_Releases_National_Level_into_Air.csv') \n",
    "air_rel_df.head()"
   ]
  },
  {
   "cell_type": "code",
   "execution_count": 189,
   "metadata": {},
   "outputs": [
    {
     "name": "stdout",
     "output_type": "stream",
     "text": [
      "Number of distinct pollutant considered: 67\n"
     ]
    }
   ],
   "source": [
    "num_pollutants = air_rel_df['pollutant'].nunique()\n",
    "print('Number of distinct pollutant considered: {0:d}'.format(num_pollutants))"
   ]
  },
  {
   "cell_type": "markdown",
   "metadata": {},
   "source": [
    "We want to know the mean emissions of CO2 for each country for all the reported years. For this information we have to filter the pollutant and then aggregate the records of the emissions by country"
   ]
  },
  {
   "cell_type": "code",
   "execution_count": 190,
   "metadata": {},
   "outputs": [
    {
     "data": {
      "text/plain": [
       "countryName\n",
       "Austria            30.051067\n",
       "Belgium            47.783800\n",
       "Bulgaria           30.897868\n",
       "Croatia             6.929125\n",
       "Cyprus              4.663333\n",
       "Czechia            69.365671\n",
       "Denmark            14.951658\n",
       "Estonia            13.208267\n",
       "Finland            50.953951\n",
       "France            109.402933\n",
       "Germany           431.223600\n",
       "Greece             51.864621\n",
       "Hungary            20.972586\n",
       "Iceland             1.410044\n",
       "Ireland            15.722536\n",
       "Italy             151.738865\n",
       "Latvia              1.491533\n",
       "Lithuania           5.225182\n",
       "Luxembourg          1.722600\n",
       "Malta               1.630900\n",
       "Netherlands        90.720010\n",
       "Norway             23.880455\n",
       "Poland            182.549667\n",
       "Portugal           28.599467\n",
       "Romania            42.429933\n",
       "Slovakia           20.269818\n",
       "Slovenia            5.979287\n",
       "Spain             114.256800\n",
       "Sweden             49.417267\n",
       "Switzerland         8.068864\n",
       "United Kingdom    217.381154\n",
       "Name: emissions, dtype: float64"
      ]
     },
     "execution_count": 190,
     "metadata": {},
     "output_type": "execute_result"
    }
   ],
   "source": [
    "grouped = air_rel_df[air_rel_df['pollutant'] =='Carbon dioxide (CO2)']['emissions'].groupby(air_rel_df['countryName'])\n",
    "grouped.mean() / 10**9"
   ]
  },
  {
   "cell_type": "markdown",
   "metadata": {},
   "source": [
    "## DatetimeIndex\n",
    "Time Series are common in science and finance, with Pandas we can build Time Series by associating an observation to the date and time it was acquired. The temporal information is often provided with the data, as an example we use a data set of the [stock prices of ENI S.p.A.](https://finance.yahoo.com/quote/ENI.MI/), a company in the energy sector, downloaded from Yahoo! Finance. The data set contains a one year long list of stock price with the prices at the beginning and end of each market day, the highest and lowest prices and the number of stocks exchanged (volume). We would like to use the 'Date' field as the index of the data set but by default the index is based on integers and represent the row index."
   ]
  },
  {
   "cell_type": "code",
   "execution_count": 14,
   "metadata": {},
   "outputs": [
    {
     "data": {
      "text/html": [
       "<div>\n",
       "<style scoped>\n",
       "    .dataframe tbody tr th:only-of-type {\n",
       "        vertical-align: middle;\n",
       "    }\n",
       "\n",
       "    .dataframe tbody tr th {\n",
       "        vertical-align: top;\n",
       "    }\n",
       "\n",
       "    .dataframe thead th {\n",
       "        text-align: right;\n",
       "    }\n",
       "</style>\n",
       "<table border=\"1\" class=\"dataframe\">\n",
       "  <thead>\n",
       "    <tr style=\"text-align: right;\">\n",
       "      <th></th>\n",
       "      <th>Date</th>\n",
       "      <th>Open</th>\n",
       "      <th>High</th>\n",
       "      <th>Low</th>\n",
       "      <th>Close</th>\n",
       "      <th>Adj Close</th>\n",
       "      <th>Volume</th>\n",
       "    </tr>\n",
       "  </thead>\n",
       "  <tbody>\n",
       "    <tr>\n",
       "      <th>0</th>\n",
       "      <td>2021-08-23</td>\n",
       "      <td>10.132</td>\n",
       "      <td>10.234</td>\n",
       "      <td>10.092</td>\n",
       "      <td>10.234</td>\n",
       "      <td>9.527454</td>\n",
       "      <td>15205357</td>\n",
       "    </tr>\n",
       "    <tr>\n",
       "      <th>1</th>\n",
       "      <td>2021-08-24</td>\n",
       "      <td>10.288</td>\n",
       "      <td>10.358</td>\n",
       "      <td>10.248</td>\n",
       "      <td>10.318</td>\n",
       "      <td>9.605656</td>\n",
       "      <td>13473152</td>\n",
       "    </tr>\n",
       "    <tr>\n",
       "      <th>2</th>\n",
       "      <td>2021-08-25</td>\n",
       "      <td>10.304</td>\n",
       "      <td>10.340</td>\n",
       "      <td>10.274</td>\n",
       "      <td>10.330</td>\n",
       "      <td>9.616826</td>\n",
       "      <td>8469631</td>\n",
       "    </tr>\n",
       "  </tbody>\n",
       "</table>\n",
       "</div>"
      ],
      "text/plain": [
       "         Date    Open    High     Low   Close  Adj Close    Volume\n",
       "0  2021-08-23  10.132  10.234  10.092  10.234   9.527454  15205357\n",
       "1  2021-08-24  10.288  10.358  10.248  10.318   9.605656  13473152\n",
       "2  2021-08-25  10.304  10.340  10.274  10.330   9.616826   8469631"
      ]
     },
     "execution_count": 14,
     "metadata": {},
     "output_type": "execute_result"
    }
   ],
   "source": [
    "eni_tmp = pd.read_csv('finance/data/ENI.MI.csv')\n",
    "eni_tmp[:3]"
   ]
  },
  {
   "cell_type": "markdown",
   "metadata": {},
   "source": [
    "One way to proceed is to create a Series object from the 'Date' column of the data set, transform the values from string to Timestamp and use that Series as the index of a new DataFrame created from the original one. We can also remove the 'Date' column."
   ]
  },
  {
   "cell_type": "code",
   "execution_count": 15,
   "metadata": {},
   "outputs": [],
   "source": [
    "date_index = pd.to_datetime(eni_tmp['Date'])\n",
    "eni_tmp.drop(['Date'], axis=1, inplace=True)"
   ]
  },
  {
   "cell_type": "markdown",
   "metadata": {},
   "source": [
    "Now we can select the records by dates"
   ]
  },
  {
   "cell_type": "code",
   "execution_count": 16,
   "metadata": {},
   "outputs": [
    {
     "data": {
      "text/html": [
       "<div>\n",
       "<style scoped>\n",
       "    .dataframe tbody tr th:only-of-type {\n",
       "        vertical-align: middle;\n",
       "    }\n",
       "\n",
       "    .dataframe tbody tr th {\n",
       "        vertical-align: top;\n",
       "    }\n",
       "\n",
       "    .dataframe thead th {\n",
       "        text-align: right;\n",
       "    }\n",
       "</style>\n",
       "<table border=\"1\" class=\"dataframe\">\n",
       "  <thead>\n",
       "    <tr style=\"text-align: right;\">\n",
       "      <th></th>\n",
       "      <th>Open</th>\n",
       "      <th>High</th>\n",
       "      <th>Low</th>\n",
       "      <th>Close</th>\n",
       "      <th>Adj Close</th>\n",
       "      <th>Volume</th>\n",
       "    </tr>\n",
       "    <tr>\n",
       "      <th>Date</th>\n",
       "      <th></th>\n",
       "      <th></th>\n",
       "      <th></th>\n",
       "      <th></th>\n",
       "      <th></th>\n",
       "      <th></th>\n",
       "    </tr>\n",
       "  </thead>\n",
       "  <tbody>\n",
       "    <tr>\n",
       "      <th>2021-08-23</th>\n",
       "      <td>10.132</td>\n",
       "      <td>10.234</td>\n",
       "      <td>10.092</td>\n",
       "      <td>10.234</td>\n",
       "      <td>9.527454</td>\n",
       "      <td>15205357</td>\n",
       "    </tr>\n",
       "    <tr>\n",
       "      <th>2021-08-24</th>\n",
       "      <td>10.288</td>\n",
       "      <td>10.358</td>\n",
       "      <td>10.248</td>\n",
       "      <td>10.318</td>\n",
       "      <td>9.605656</td>\n",
       "      <td>13473152</td>\n",
       "    </tr>\n",
       "    <tr>\n",
       "      <th>2021-08-25</th>\n",
       "      <td>10.304</td>\n",
       "      <td>10.340</td>\n",
       "      <td>10.274</td>\n",
       "      <td>10.330</td>\n",
       "      <td>9.616826</td>\n",
       "      <td>8469631</td>\n",
       "    </tr>\n",
       "  </tbody>\n",
       "</table>\n",
       "</div>"
      ],
      "text/plain": [
       "              Open    High     Low   Close  Adj Close    Volume\n",
       "Date                                                           \n",
       "2021-08-23  10.132  10.234  10.092  10.234   9.527454  15205357\n",
       "2021-08-24  10.288  10.358  10.248  10.318   9.605656  13473152\n",
       "2021-08-25  10.304  10.340  10.274  10.330   9.616826   8469631"
      ]
     },
     "execution_count": 16,
     "metadata": {},
     "output_type": "execute_result"
    }
   ],
   "source": [
    "eni = eni_tmp.set_index(date_index)\n",
    "eni['2021-08-23':'2021-08-25']"
   ]
  },
  {
   "cell_type": "markdown",
   "metadata": {},
   "source": [
    "## Time Series Visualization\n",
    "We can now plot the Time Series data"
   ]
  },
  {
   "cell_type": "code",
   "execution_count": 23,
   "metadata": {},
   "outputs": [
    {
     "name": "stdout",
     "output_type": "stream",
     "text": [
      "matplotlib version: 3.5.2\n"
     ]
    }
   ],
   "source": [
    "import matplotlib as mpl\n",
    "import matplotlib.pyplot as plt\n",
    "from matplotlib.pyplot import figure\n",
    "import matplotlib.dates as mdates\n",
    "print(\"matplotlib version: %s\"%mpl.__version__)"
   ]
  },
  {
   "cell_type": "markdown",
   "metadata": {},
   "source": [
    "On the x axis we want to show the label of the market days but only one per week to not clutter too much the graph, so we create a new DatetimeIndex with the same start and end date as in the original data set but setting the frequency to 'W', that is weekly. We will use this DatetimeIndex only in the plot."
   ]
  },
  {
   "cell_type": "code",
   "execution_count": 24,
   "metadata": {},
   "outputs": [],
   "source": [
    "start_day = date_index[0]\n",
    "end_day = date_index[len(date_index) - 1]\n",
    "week_index = pd.date_range(start_day, end_day, freq='W')"
   ]
  },
  {
   "cell_type": "markdown",
   "metadata": {},
   "source": [
    "Finally we set title and labels and the graph is ready"
   ]
  },
  {
   "cell_type": "code",
   "execution_count": 21,
   "metadata": {},
   "outputs": [
    {
     "data": {
      "text/plain": [
       "[<matplotlib.lines.Line2D at 0x2777f645190>]"
      ]
     },
     "execution_count": 21,
     "metadata": {},
     "output_type": "execute_result"
    },
    {
     "data": {
      "image/png": "[encoded data removed]",
      "text/plain": [
       "<Figure size 864x432 with 1 Axes>"
      ]
     },
     "metadata": {
      "needs_background": "light"
     },
     "output_type": "display_data"
    }
   ],
   "source": [
    "fig = plt.figure(figsize=(12, 6))\n",
    "ax = fig.add_subplot()\n",
    "ax.set_title(\"ENI S.p.A. (ENI.MI) Stock Price in EUR\")\n",
    "ax.set_xlabel(\"day\")\n",
    "ax.set_ylabel(\"Stock Price (EUR)\");\n",
    "ax.set_xticks(week_index)\n",
    "ax.set_xticklabels(week_index, rotation=70)\n",
    "ax.xaxis.set_major_formatter(mdates.DateFormatter('%Y-%m-%d'))\n",
    "plt.plot(eni['Close'])"
   ]
  },
  {
   "cell_type": "markdown",
   "metadata": {},
   "source": [
    "## Data Selection\n",
    "We want to filter the data in a DataFrame using logical constraints on the values of its columns similarly to SQL statements. For this example we use the [Primary Commodities Price System](https://data.imf.org/?sk=471DDDF8-D8A7-499A-81BA-5B332C01F8B9) dataset from the International Monetary Fund (IMF). The dataset contains the time series of the prices of all the commodities that have been exchanged in different markets. We will use the time series of one single commodity, the natural gas, exchanged in the European and the US markets to compare the prices for that commodities. The data can be downloaded from the IMF website and imported into a DataFrame."
   ]
  },
  {
   "cell_type": "code",
   "execution_count": 20,
   "metadata": {},
   "outputs": [
    {
     "data": {
      "text/html": [
       "<div>\n",
       "<style scoped>\n",
       "    .dataframe tbody tr th:only-of-type {\n",
       "        vertical-align: middle;\n",
       "    }\n",
       "\n",
       "    .dataframe tbody tr th {\n",
       "        vertical-align: top;\n",
       "    }\n",
       "\n",
       "    .dataframe thead th {\n",
       "        text-align: right;\n",
       "    }\n",
       "</style>\n",
       "<table border=\"1\" class=\"dataframe\">\n",
       "  <thead>\n",
       "    <tr style=\"text-align: right;\">\n",
       "      <th></th>\n",
       "      <th>Country Name</th>\n",
       "      <th>Country Code</th>\n",
       "      <th>Commodity Name</th>\n",
       "      <th>Commodity Code</th>\n",
       "      <th>Unit Name</th>\n",
       "      <th>Unit Code</th>\n",
       "      <th>Attribute</th>\n",
       "      <th>2019</th>\n",
       "      <th>2019M1</th>\n",
       "      <th>2019M2</th>\n",
       "      <th>...</th>\n",
       "      <th>2021M11</th>\n",
       "      <th>2021M12</th>\n",
       "      <th>2022M1</th>\n",
       "      <th>2022M2</th>\n",
       "      <th>2022M3</th>\n",
       "      <th>2022M4</th>\n",
       "      <th>2022M5</th>\n",
       "      <th>2022M6</th>\n",
       "      <th>2022M7</th>\n",
       "      <th>Unnamed: 53</th>\n",
       "    </tr>\n",
       "  </thead>\n",
       "  <tbody>\n",
       "    <tr>\n",
       "      <th>0</th>\n",
       "      <td>World</td>\n",
       "      <td>1</td>\n",
       "      <td>Agriculture</td>\n",
       "      <td>PAGRI</td>\n",
       "      <td>Index</td>\n",
       "      <td>IX</td>\n",
       "      <td>Value</td>\n",
       "      <td>98.509428</td>\n",
       "      <td>NaN</td>\n",
       "      <td>NaN</td>\n",
       "      <td>...</td>\n",
       "      <td>NaN</td>\n",
       "      <td>NaN</td>\n",
       "      <td>NaN</td>\n",
       "      <td>NaN</td>\n",
       "      <td>NaN</td>\n",
       "      <td>NaN</td>\n",
       "      <td>NaN</td>\n",
       "      <td>NaN</td>\n",
       "      <td>NaN</td>\n",
       "      <td>NaN</td>\n",
       "    </tr>\n",
       "    <tr>\n",
       "      <th>1</th>\n",
       "      <td>World</td>\n",
       "      <td>1</td>\n",
       "      <td>Agriculture</td>\n",
       "      <td>PAGRI</td>\n",
       "      <td>Index</td>\n",
       "      <td>IX</td>\n",
       "      <td>Value</td>\n",
       "      <td>NaN</td>\n",
       "      <td>99.757387</td>\n",
       "      <td>98.388718</td>\n",
       "      <td>...</td>\n",
       "      <td>127.470196</td>\n",
       "      <td>130.407202</td>\n",
       "      <td>136.114592</td>\n",
       "      <td>142.49899</td>\n",
       "      <td>150.384482</td>\n",
       "      <td>154.113522</td>\n",
       "      <td>151.708154</td>\n",
       "      <td>146.722491</td>\n",
       "      <td>136.550494</td>\n",
       "      <td>NaN</td>\n",
       "    </tr>\n",
       "    <tr>\n",
       "      <th>2</th>\n",
       "      <td>World</td>\n",
       "      <td>1</td>\n",
       "      <td>Agriculture</td>\n",
       "      <td>PAGRI</td>\n",
       "      <td>Percent Change over Previous Period</td>\n",
       "      <td>PC_PP_PT</td>\n",
       "      <td>Value</td>\n",
       "      <td>-3.531503</td>\n",
       "      <td>NaN</td>\n",
       "      <td>NaN</td>\n",
       "      <td>...</td>\n",
       "      <td>NaN</td>\n",
       "      <td>NaN</td>\n",
       "      <td>NaN</td>\n",
       "      <td>NaN</td>\n",
       "      <td>NaN</td>\n",
       "      <td>NaN</td>\n",
       "      <td>NaN</td>\n",
       "      <td>NaN</td>\n",
       "      <td>NaN</td>\n",
       "      <td>NaN</td>\n",
       "    </tr>\n",
       "  </tbody>\n",
       "</table>\n",
       "<p>3 rows × 54 columns</p>\n",
       "</div>"
      ],
      "text/plain": [
       "  Country Name  Country Code Commodity Name Commodity Code  \\\n",
       "0        World             1    Agriculture          PAGRI   \n",
       "1        World             1    Agriculture          PAGRI   \n",
       "2        World             1    Agriculture          PAGRI   \n",
       "\n",
       "                             Unit Name Unit Code Attribute       2019  \\\n",
       "0                                Index        IX     Value  98.509428   \n",
       "1                                Index        IX     Value        NaN   \n",
       "2  Percent Change over Previous Period  PC_PP_PT     Value  -3.531503   \n",
       "\n",
       "      2019M1     2019M2  ...     2021M11     2021M12      2022M1     2022M2  \\\n",
       "0        NaN        NaN  ...         NaN         NaN         NaN        NaN   \n",
       "1  99.757387  98.388718  ...  127.470196  130.407202  136.114592  142.49899   \n",
       "2        NaN        NaN  ...         NaN         NaN         NaN        NaN   \n",
       "\n",
       "       2022M3      2022M4      2022M5      2022M6      2022M7  Unnamed: 53  \n",
       "0         NaN         NaN         NaN         NaN         NaN          NaN  \n",
       "1  150.384482  154.113522  151.708154  146.722491  136.550494          NaN  \n",
       "2         NaN         NaN         NaN         NaN         NaN          NaN  \n",
       "\n",
       "[3 rows x 54 columns]"
      ]
     },
     "execution_count": 20,
     "metadata": {},
     "output_type": "execute_result"
    }
   ],
   "source": [
    "imf_commodities_tmp = pd.read_csv('finance/data/IMF_Commodities_Price.csv')\n",
    "imf_commodities_tmp[:3]"
   ]
  },
  {
   "cell_type": "markdown",
   "metadata": {},
   "source": [
    "We first select the time-series for the natural gas exchanged in the European market from the beginning of 2019 up to July 2022. The commodity code is PNGASEU and the unit code of the currency is USD since the prices are represented in US dollars per Million Metric British Thermal Unit (MMBTU). "
   ]
  },
  {
   "cell_type": "code",
   "execution_count": 21,
   "metadata": {},
   "outputs": [
    {
     "data": {
      "text/html": [
       "<div>\n",
       "<style scoped>\n",
       "    .dataframe tbody tr th:only-of-type {\n",
       "        vertical-align: middle;\n",
       "    }\n",
       "\n",
       "    .dataframe tbody tr th {\n",
       "        vertical-align: top;\n",
       "    }\n",
       "\n",
       "    .dataframe thead th {\n",
       "        text-align: right;\n",
       "    }\n",
       "</style>\n",
       "<table border=\"1\" class=\"dataframe\">\n",
       "  <thead>\n",
       "    <tr style=\"text-align: right;\">\n",
       "      <th></th>\n",
       "      <th>Country Name</th>\n",
       "      <th>Country Code</th>\n",
       "      <th>Commodity Name</th>\n",
       "      <th>Commodity Code</th>\n",
       "      <th>Unit Name</th>\n",
       "      <th>Unit Code</th>\n",
       "      <th>Attribute</th>\n",
       "      <th>2019</th>\n",
       "      <th>2019M1</th>\n",
       "      <th>2019M2</th>\n",
       "      <th>...</th>\n",
       "      <th>2021M11</th>\n",
       "      <th>2021M12</th>\n",
       "      <th>2022M1</th>\n",
       "      <th>2022M2</th>\n",
       "      <th>2022M3</th>\n",
       "      <th>2022M4</th>\n",
       "      <th>2022M5</th>\n",
       "      <th>2022M6</th>\n",
       "      <th>2022M7</th>\n",
       "      <th>Unnamed: 53</th>\n",
       "    </tr>\n",
       "  </thead>\n",
       "  <tbody>\n",
       "    <tr>\n",
       "      <th>734</th>\n",
       "      <td>World</td>\n",
       "      <td>1</td>\n",
       "      <td>Natural gas, EU</td>\n",
       "      <td>PNGASEU</td>\n",
       "      <td>US Dollars</td>\n",
       "      <td>USD</td>\n",
       "      <td>Value</td>\n",
       "      <td>4.454858</td>\n",
       "      <td>NaN</td>\n",
       "      <td>NaN</td>\n",
       "      <td>...</td>\n",
       "      <td>NaN</td>\n",
       "      <td>NaN</td>\n",
       "      <td>NaN</td>\n",
       "      <td>NaN</td>\n",
       "      <td>NaN</td>\n",
       "      <td>NaN</td>\n",
       "      <td>NaN</td>\n",
       "      <td>NaN</td>\n",
       "      <td>NaN</td>\n",
       "      <td>NaN</td>\n",
       "    </tr>\n",
       "    <tr>\n",
       "      <th>735</th>\n",
       "      <td>World</td>\n",
       "      <td>1</td>\n",
       "      <td>Natural gas, EU</td>\n",
       "      <td>PNGASEU</td>\n",
       "      <td>US Dollars</td>\n",
       "      <td>USD</td>\n",
       "      <td>Value</td>\n",
       "      <td>NaN</td>\n",
       "      <td>7.161065</td>\n",
       "      <td>5.986339</td>\n",
       "      <td>...</td>\n",
       "      <td>27.383826</td>\n",
       "      <td>37.363363</td>\n",
       "      <td>27.890945</td>\n",
       "      <td>26.984281</td>\n",
       "      <td>41.727688</td>\n",
       "      <td>31.989874</td>\n",
       "      <td>27.464166</td>\n",
       "      <td>32.912607</td>\n",
       "      <td>51.145913</td>\n",
       "      <td>NaN</td>\n",
       "    </tr>\n",
       "  </tbody>\n",
       "</table>\n",
       "<p>2 rows × 54 columns</p>\n",
       "</div>"
      ],
      "text/plain": [
       "    Country Name  Country Code   Commodity Name Commodity Code   Unit Name  \\\n",
       "734        World             1  Natural gas, EU        PNGASEU  US Dollars   \n",
       "735        World             1  Natural gas, EU        PNGASEU  US Dollars   \n",
       "\n",
       "    Unit Code Attribute      2019    2019M1    2019M2  ...    2021M11  \\\n",
       "734       USD     Value  4.454858       NaN       NaN  ...        NaN   \n",
       "735       USD     Value       NaN  7.161065  5.986339  ...  27.383826   \n",
       "\n",
       "       2021M12     2022M1     2022M2     2022M3     2022M4     2022M5  \\\n",
       "734        NaN        NaN        NaN        NaN        NaN        NaN   \n",
       "735  37.363363  27.890945  26.984281  41.727688  31.989874  27.464166   \n",
       "\n",
       "        2022M6     2022M7  Unnamed: 53  \n",
       "734        NaN        NaN          NaN  \n",
       "735  32.912607  51.145913          NaN  \n",
       "\n",
       "[2 rows x 54 columns]"
      ]
     },
     "execution_count": 21,
     "metadata": {},
     "output_type": "execute_result"
    }
   ],
   "source": [
    "nat_gas_eu_tmp = imf_commodities_tmp[(imf_commodities_tmp['Commodity Code'] == 'PNGASEU') & (imf_commodities_tmp['Unit Code'] == 'USD')]\n",
    "nat_gas_eu_tmp"
   ]
  },
  {
   "cell_type": "markdown",
   "metadata": {},
   "source": [
    "We select the time-series of the prices for each month in the 2nd row and remove the last NaN value"
   ]
  },
  {
   "cell_type": "code",
   "execution_count": 22,
   "metadata": {},
   "outputs": [],
   "source": [
    "nat_gas_eu_index = nat_gas_eu_tmp.index[1]\n",
    "nat_gas_eu_months_tmp = nat_gas_eu_tmp.loc[nat_gas_eu_index][8:].dropna()"
   ]
  },
  {
   "cell_type": "markdown",
   "metadata": {},
   "source": [
    "The 2nd step is to select the same data for the US market. Here the commodity code for the natural gas exchanged in the US market is PNGASUS and the unit code for the price is USD, the same as for the European market. "
   ]
  },
  {
   "cell_type": "code",
   "execution_count": 23,
   "metadata": {},
   "outputs": [
    {
     "data": {
      "text/html": [
       "<div>\n",
       "<style scoped>\n",
       "    .dataframe tbody tr th:only-of-type {\n",
       "        vertical-align: middle;\n",
       "    }\n",
       "\n",
       "    .dataframe tbody tr th {\n",
       "        vertical-align: top;\n",
       "    }\n",
       "\n",
       "    .dataframe thead th {\n",
       "        text-align: right;\n",
       "    }\n",
       "</style>\n",
       "<table border=\"1\" class=\"dataframe\">\n",
       "  <thead>\n",
       "    <tr style=\"text-align: right;\">\n",
       "      <th></th>\n",
       "      <th>Country Name</th>\n",
       "      <th>Country Code</th>\n",
       "      <th>Commodity Name</th>\n",
       "      <th>Commodity Code</th>\n",
       "      <th>Unit Name</th>\n",
       "      <th>Unit Code</th>\n",
       "      <th>Attribute</th>\n",
       "      <th>2019</th>\n",
       "      <th>2019M1</th>\n",
       "      <th>2019M2</th>\n",
       "      <th>...</th>\n",
       "      <th>2021M11</th>\n",
       "      <th>2021M12</th>\n",
       "      <th>2022M1</th>\n",
       "      <th>2022M2</th>\n",
       "      <th>2022M3</th>\n",
       "      <th>2022M4</th>\n",
       "      <th>2022M5</th>\n",
       "      <th>2022M6</th>\n",
       "      <th>2022M7</th>\n",
       "      <th>Unnamed: 53</th>\n",
       "    </tr>\n",
       "  </thead>\n",
       "  <tbody>\n",
       "    <tr>\n",
       "      <th>182</th>\n",
       "      <td>World</td>\n",
       "      <td>1</td>\n",
       "      <td>Natural Gas, US Henry Hub Gas</td>\n",
       "      <td>PNGASUS</td>\n",
       "      <td>US Dollars</td>\n",
       "      <td>USD</td>\n",
       "      <td>Value</td>\n",
       "      <td>2.528527</td>\n",
       "      <td>NaN</td>\n",
       "      <td>NaN</td>\n",
       "      <td>...</td>\n",
       "      <td>NaN</td>\n",
       "      <td>NaN</td>\n",
       "      <td>NaN</td>\n",
       "      <td>NaN</td>\n",
       "      <td>NaN</td>\n",
       "      <td>NaN</td>\n",
       "      <td>NaN</td>\n",
       "      <td>NaN</td>\n",
       "      <td>NaN</td>\n",
       "      <td>NaN</td>\n",
       "    </tr>\n",
       "    <tr>\n",
       "      <th>183</th>\n",
       "      <td>World</td>\n",
       "      <td>1</td>\n",
       "      <td>Natural Gas, US Henry Hub Gas</td>\n",
       "      <td>PNGASUS</td>\n",
       "      <td>US Dollars</td>\n",
       "      <td>USD</td>\n",
       "      <td>Value</td>\n",
       "      <td>NaN</td>\n",
       "      <td>3.108696</td>\n",
       "      <td>2.6795</td>\n",
       "      <td>...</td>\n",
       "      <td>5.119091</td>\n",
       "      <td>3.858261</td>\n",
       "      <td>4.233333</td>\n",
       "      <td>4.475</td>\n",
       "      <td>4.971304</td>\n",
       "      <td>6.744762</td>\n",
       "      <td>8.16</td>\n",
       "      <td>7.570909</td>\n",
       "      <td>7.109048</td>\n",
       "      <td>NaN</td>\n",
       "    </tr>\n",
       "  </tbody>\n",
       "</table>\n",
       "<p>2 rows × 54 columns</p>\n",
       "</div>"
      ],
      "text/plain": [
       "    Country Name  Country Code                 Commodity Name Commodity Code  \\\n",
       "182        World             1  Natural Gas, US Henry Hub Gas        PNGASUS   \n",
       "183        World             1  Natural Gas, US Henry Hub Gas        PNGASUS   \n",
       "\n",
       "      Unit Name Unit Code Attribute      2019    2019M1  2019M2  ...  \\\n",
       "182  US Dollars       USD     Value  2.528527       NaN     NaN  ...   \n",
       "183  US Dollars       USD     Value       NaN  3.108696  2.6795  ...   \n",
       "\n",
       "      2021M11   2021M12    2022M1  2022M2    2022M3    2022M4  2022M5  \\\n",
       "182       NaN       NaN       NaN     NaN       NaN       NaN     NaN   \n",
       "183  5.119091  3.858261  4.233333   4.475  4.971304  6.744762    8.16   \n",
       "\n",
       "       2022M6    2022M7  Unnamed: 53  \n",
       "182       NaN       NaN          NaN  \n",
       "183  7.570909  7.109048          NaN  \n",
       "\n",
       "[2 rows x 54 columns]"
      ]
     },
     "execution_count": 23,
     "metadata": {},
     "output_type": "execute_result"
    }
   ],
   "source": [
    "nat_gas_us_tmp = imf_commodities_tmp[(imf_commodities_tmp['Commodity Code'] == 'PNGASUS') & (imf_commodities_tmp['Unit Code'] == 'USD')]\n",
    "nat_gas_us_tmp"
   ]
  },
  {
   "cell_type": "code",
   "execution_count": 24,
   "metadata": {},
   "outputs": [],
   "source": [
    "nat_gas_us_index = nat_gas_us_tmp.index[1]\n",
    "nat_gas_us_months_tmp = nat_gas_us_tmp.loc[nat_gas_us_index][8:].dropna()"
   ]
  },
  {
   "cell_type": "markdown",
   "metadata": {},
   "source": [
    "The two Series use an index the column names but we prefer to use dates in the format YYYY-MM-DD so we create a new index (a DatetimeIndex) starting from Junary 1st 2019 and a frequency of one month till July 2022. We will use this index to create two new DataFrame, one for the European data and one for the US data."
   ]
  },
  {
   "cell_type": "code",
   "execution_count": 25,
   "metadata": {},
   "outputs": [],
   "source": [
    "start_day = pd.to_datetime('2019-01-01')\n",
    "end_day = pd.to_datetime('2022-07-01')\n",
    "month_index = pd.date_range(start_day, end_day, freq='MS')"
   ]
  },
  {
   "cell_type": "markdown",
   "metadata": {},
   "source": [
    "The DataFrame for the European data"
   ]
  },
  {
   "cell_type": "code",
   "execution_count": 26,
   "metadata": {},
   "outputs": [
    {
     "data": {
      "text/html": [
       "<div>\n",
       "<style scoped>\n",
       "    .dataframe tbody tr th:only-of-type {\n",
       "        vertical-align: middle;\n",
       "    }\n",
       "\n",
       "    .dataframe tbody tr th {\n",
       "        vertical-align: top;\n",
       "    }\n",
       "\n",
       "    .dataframe thead th {\n",
       "        text-align: right;\n",
       "    }\n",
       "</style>\n",
       "<table border=\"1\" class=\"dataframe\">\n",
       "  <thead>\n",
       "    <tr style=\"text-align: right;\">\n",
       "      <th></th>\n",
       "      <th>Price</th>\n",
       "    </tr>\n",
       "  </thead>\n",
       "  <tbody>\n",
       "    <tr>\n",
       "      <th>2019-01-01</th>\n",
       "      <td>7.161065</td>\n",
       "    </tr>\n",
       "    <tr>\n",
       "      <th>2019-02-01</th>\n",
       "      <td>5.986339</td>\n",
       "    </tr>\n",
       "  </tbody>\n",
       "</table>\n",
       "</div>"
      ],
      "text/plain": [
       "               Price\n",
       "2019-01-01  7.161065\n",
       "2019-02-01  5.986339"
      ]
     },
     "execution_count": 26,
     "metadata": {},
     "output_type": "execute_result"
    }
   ],
   "source": [
    "nat_gas_eu_months = pd.DataFrame(nat_gas_eu_months_tmp.values, index=month_index, columns=['Price'])\n",
    "nat_gas_eu_months[:2]"
   ]
  },
  {
   "cell_type": "markdown",
   "metadata": {},
   "source": [
    "The DataFrame for the US data"
   ]
  },
  {
   "cell_type": "code",
   "execution_count": 27,
   "metadata": {},
   "outputs": [
    {
     "data": {
      "text/html": [
       "<div>\n",
       "<style scoped>\n",
       "    .dataframe tbody tr th:only-of-type {\n",
       "        vertical-align: middle;\n",
       "    }\n",
       "\n",
       "    .dataframe tbody tr th {\n",
       "        vertical-align: top;\n",
       "    }\n",
       "\n",
       "    .dataframe thead th {\n",
       "        text-align: right;\n",
       "    }\n",
       "</style>\n",
       "<table border=\"1\" class=\"dataframe\">\n",
       "  <thead>\n",
       "    <tr style=\"text-align: right;\">\n",
       "      <th></th>\n",
       "      <th>Price</th>\n",
       "    </tr>\n",
       "  </thead>\n",
       "  <tbody>\n",
       "    <tr>\n",
       "      <th>2019-01-01</th>\n",
       "      <td>3.108696</td>\n",
       "    </tr>\n",
       "    <tr>\n",
       "      <th>2019-02-01</th>\n",
       "      <td>2.6795</td>\n",
       "    </tr>\n",
       "  </tbody>\n",
       "</table>\n",
       "</div>"
      ],
      "text/plain": [
       "               Price\n",
       "2019-01-01  3.108696\n",
       "2019-02-01    2.6795"
      ]
     },
     "execution_count": 27,
     "metadata": {},
     "output_type": "execute_result"
    }
   ],
   "source": [
    "nat_gas_us_months = pd.DataFrame(nat_gas_us_months_tmp.values, index=month_index, columns=['Price'])\n",
    "nat_gas_us_months[:2]"
   ]
  },
  {
   "cell_type": "markdown",
   "metadata": {},
   "source": [
    "We can put togheter the two DataFrame "
   ]
  },
  {
   "cell_type": "code",
   "execution_count": 31,
   "metadata": {},
   "outputs": [
    {
     "data": {
      "text/html": [
       "<div>\n",
       "<style scoped>\n",
       "    .dataframe tbody tr th:only-of-type {\n",
       "        vertical-align: middle;\n",
       "    }\n",
       "\n",
       "    .dataframe tbody tr th {\n",
       "        vertical-align: top;\n",
       "    }\n",
       "\n",
       "    .dataframe thead th {\n",
       "        text-align: right;\n",
       "    }\n",
       "</style>\n",
       "<table border=\"1\" class=\"dataframe\">\n",
       "  <thead>\n",
       "    <tr style=\"text-align: right;\">\n",
       "      <th></th>\n",
       "      <th>Price EU</th>\n",
       "      <th>Price US</th>\n",
       "    </tr>\n",
       "  </thead>\n",
       "  <tbody>\n",
       "    <tr>\n",
       "      <th>2019-01-01</th>\n",
       "      <td>7.161065</td>\n",
       "      <td>3.108696</td>\n",
       "    </tr>\n",
       "    <tr>\n",
       "      <th>2019-02-01</th>\n",
       "      <td>5.986339</td>\n",
       "      <td>2.6795</td>\n",
       "    </tr>\n",
       "  </tbody>\n",
       "</table>\n",
       "</div>"
      ],
      "text/plain": [
       "            Price EU  Price US\n",
       "2019-01-01  7.161065  3.108696\n",
       "2019-02-01  5.986339    2.6795"
      ]
     },
     "execution_count": 31,
     "metadata": {},
     "output_type": "execute_result"
    }
   ],
   "source": [
    "nat_gas_eu_us = pd.DataFrame({ 'Price EU': nat_gas_eu_months['Price'], 'Price US': nat_gas_us_months['Price']}, index=month_index)\n",
    "nat_gas_eu_us[:2]"
   ]
  },
  {
   "cell_type": "markdown",
   "metadata": {},
   "source": [
    "Now we can plot the data the prices for natural gas in the European and US markets "
   ]
  },
  {
   "cell_type": "code",
   "execution_count": 29,
   "metadata": {},
   "outputs": [
    {
     "data": {
      "text/plain": [
       "<matplotlib.legend.Legend at 0x18b800cf220>"
      ]
     },
     "execution_count": 29,
     "metadata": {},
     "output_type": "execute_result"
    },
    {
     "data": {
      "image/png": "[encoded data removed]",
      "text/plain": [
       "<Figure size 864x432 with 1 Axes>"
      ]
     },
     "metadata": {
      "needs_background": "light"
     },
     "output_type": "display_data"
    }
   ],
   "source": [
    "fig = plt.figure(figsize=(12, 6))\n",
    "ax = fig.add_subplot()\n",
    "ax.set_title(\"Natural gas price\")\n",
    "ax.set_xlabel(\"Month\")\n",
    "ax.set_ylabel(\"U.S. Dollars per Million Metric British Thermal Unit\");\n",
    "ax.set_xticks(month_index)\n",
    "ax.set_xticklabels(month_index, rotation=70)\n",
    "ax.set_yticks(np.arange(0, 60, 2), minor=True)\n",
    "ax.xaxis.set_major_formatter(mdates.DateFormatter('%Y-%m'))\n",
    "ax.grid(True, which='both')\n",
    "us_plt, = plt.plot(nat_gas_eu_us['Price US'])\n",
    "netherlands_plt, = plt.plot(nat_gas_eu_us['Price EU'])\n",
    "plt.legend((netherlands_plt, us_plt), ['Netherlands TFF', 'U.S. Henry Hub'], loc='upper left')\n",
    "#plt.savefig('natural_gas_price.png')"
   ]
  },
  {
   "cell_type": "markdown",
   "metadata": {},
   "source": [
    "We can see that the prices for natural gas have increased in both markets since 2021 but much more in the European market than in the US."
   ]
  },
  {
   "cell_type": "markdown",
   "metadata": {},
   "source": [
    "### Merge\n",
    "We want to merge two datasets that have one field in common. For example we want to add a field in one dataset to the other dataset. In this example we add the code of the provinces to a dataset that contains the unemployment rates of the provinces of Italy. We start by creating a DataFrame from the file that contains the list of provinces with their codes."
   ]
  },
  {
   "cell_type": "code",
   "execution_count": 3,
   "metadata": {},
   "outputs": [
    {
     "data": {
      "text/html": [
       "<div>\n",
       "<style scoped>\n",
       "    .dataframe tbody tr th:only-of-type {\n",
       "        vertical-align: middle;\n",
       "    }\n",
       "\n",
       "    .dataframe tbody tr th {\n",
       "        vertical-align: top;\n",
       "    }\n",
       "\n",
       "    .dataframe thead th {\n",
       "        text-align: right;\n",
       "    }\n",
       "</style>\n",
       "<table border=\"1\" class=\"dataframe\">\n",
       "  <thead>\n",
       "    <tr style=\"text-align: right;\">\n",
       "      <th></th>\n",
       "      <th>Codice Regione</th>\n",
       "      <th>Codice UnitÃ  territoriale sovracomunale</th>\n",
       "      <th>Codice Provincia</th>\n",
       "      <th>Codice Comune formato alfanumerico</th>\n",
       "      <th>Denominazione in italiano</th>\n",
       "      <th>Codice Ripartizione Geografica</th>\n",
       "      <th>Ripartizione geografica</th>\n",
       "      <th>Regione</th>\n",
       "      <th>Provincia</th>\n",
       "      <th>Tipologia di UnitÃ  territoriale sovracomunale</th>\n",
       "      <th>Flag capoluogo di provincia cittÃ  metropolitana</th>\n",
       "      <th>Sigla automobilistica</th>\n",
       "      <th>Codice Comune formato numerico</th>\n",
       "      <th>Codice Comune numerico con 103 province (dal 1995 al 2005)</th>\n",
       "      <th>Codice Catastale del comune</th>\n",
       "    </tr>\n",
       "  </thead>\n",
       "  <tbody>\n",
       "    <tr>\n",
       "      <th>0</th>\n",
       "      <td>1</td>\n",
       "      <td>201</td>\n",
       "      <td>1</td>\n",
       "      <td>1001</td>\n",
       "      <td>AgliÃ¨</td>\n",
       "      <td>1</td>\n",
       "      <td>Nord-ovest</td>\n",
       "      <td>Piemonte</td>\n",
       "      <td>Torino</td>\n",
       "      <td>3</td>\n",
       "      <td>0</td>\n",
       "      <td>TO</td>\n",
       "      <td>1001</td>\n",
       "      <td>1001</td>\n",
       "      <td>A074</td>\n",
       "    </tr>\n",
       "    <tr>\n",
       "      <th>1</th>\n",
       "      <td>1</td>\n",
       "      <td>201</td>\n",
       "      <td>1</td>\n",
       "      <td>1002</td>\n",
       "      <td>Airasca</td>\n",
       "      <td>1</td>\n",
       "      <td>Nord-ovest</td>\n",
       "      <td>Piemonte</td>\n",
       "      <td>Torino</td>\n",
       "      <td>3</td>\n",
       "      <td>0</td>\n",
       "      <td>TO</td>\n",
       "      <td>1002</td>\n",
       "      <td>1002</td>\n",
       "      <td>A109</td>\n",
       "    </tr>\n",
       "    <tr>\n",
       "      <th>2</th>\n",
       "      <td>1</td>\n",
       "      <td>201</td>\n",
       "      <td>1</td>\n",
       "      <td>1003</td>\n",
       "      <td>Ala di Stura</td>\n",
       "      <td>1</td>\n",
       "      <td>Nord-ovest</td>\n",
       "      <td>Piemonte</td>\n",
       "      <td>Torino</td>\n",
       "      <td>3</td>\n",
       "      <td>0</td>\n",
       "      <td>TO</td>\n",
       "      <td>1003</td>\n",
       "      <td>1003</td>\n",
       "      <td>A117</td>\n",
       "    </tr>\n",
       "    <tr>\n",
       "      <th>3</th>\n",
       "      <td>1</td>\n",
       "      <td>201</td>\n",
       "      <td>1</td>\n",
       "      <td>1004</td>\n",
       "      <td>Albiano d'Ivrea</td>\n",
       "      <td>1</td>\n",
       "      <td>Nord-ovest</td>\n",
       "      <td>Piemonte</td>\n",
       "      <td>Torino</td>\n",
       "      <td>3</td>\n",
       "      <td>0</td>\n",
       "      <td>TO</td>\n",
       "      <td>1004</td>\n",
       "      <td>1004</td>\n",
       "      <td>A157</td>\n",
       "    </tr>\n",
       "    <tr>\n",
       "      <th>4</th>\n",
       "      <td>1</td>\n",
       "      <td>201</td>\n",
       "      <td>1</td>\n",
       "      <td>1006</td>\n",
       "      <td>Almese</td>\n",
       "      <td>1</td>\n",
       "      <td>Nord-ovest</td>\n",
       "      <td>Piemonte</td>\n",
       "      <td>Torino</td>\n",
       "      <td>3</td>\n",
       "      <td>0</td>\n",
       "      <td>TO</td>\n",
       "      <td>1006</td>\n",
       "      <td>1006</td>\n",
       "      <td>A218</td>\n",
       "    </tr>\n",
       "  </tbody>\n",
       "</table>\n",
       "</div>"
      ],
      "text/plain": [
       "   Codice Regione  Codice UnitÃ  territoriale sovracomunale  Codice Provincia  \\\n",
       "0               1                                       201                 1   \n",
       "1               1                                       201                 1   \n",
       "2               1                                       201                 1   \n",
       "3               1                                       201                 1   \n",
       "4               1                                       201                 1   \n",
       "\n",
       "   Codice Comune formato alfanumerico Denominazione in italiano  \\\n",
       "0                                1001                    AgliÃ¨   \n",
       "1                                1002                   Airasca   \n",
       "2                                1003              Ala di Stura   \n",
       "3                                1004           Albiano d'Ivrea   \n",
       "4                                1006                    Almese   \n",
       "\n",
       "   Codice Ripartizione Geografica Ripartizione geografica   Regione Provincia  \\\n",
       "0                               1              Nord-ovest  Piemonte    Torino   \n",
       "1                               1              Nord-ovest  Piemonte    Torino   \n",
       "2                               1              Nord-ovest  Piemonte    Torino   \n",
       "3                               1              Nord-ovest  Piemonte    Torino   \n",
       "4                               1              Nord-ovest  Piemonte    Torino   \n",
       "\n",
       "   Tipologia di UnitÃ  territoriale sovracomunale  \\\n",
       "0                                               3   \n",
       "1                                               3   \n",
       "2                                               3   \n",
       "3                                               3   \n",
       "4                                               3   \n",
       "\n",
       "   Flag capoluogo di provincia cittÃ  metropolitana Sigla automobilistica  \\\n",
       "0                                                 0                    TO   \n",
       "1                                                 0                    TO   \n",
       "2                                                 0                    TO   \n",
       "3                                                 0                    TO   \n",
       "4                                                 0                    TO   \n",
       "\n",
       "   Codice Comune formato numerico  \\\n",
       "0                            1001   \n",
       "1                            1002   \n",
       "2                            1003   \n",
       "3                            1004   \n",
       "4                            1006   \n",
       "\n",
       "   Codice Comune numerico con 103 province (dal 1995 al 2005)  \\\n",
       "0                                               1001            \n",
       "1                                               1002            \n",
       "2                                               1003            \n",
       "3                                               1004            \n",
       "4                                               1006            \n",
       "\n",
       "  Codice Catastale del comune  \n",
       "0                        A074  \n",
       "1                        A109  \n",
       "2                        A117  \n",
       "3                        A157  \n",
       "4                        A218  "
      ]
     },
     "execution_count": 3,
     "metadata": {},
     "output_type": "execute_result"
    }
   ],
   "source": [
    "administrative_units_it = pd.read_csv('stats/data/italy/unita-amministrative-territoriali.csv')\n",
    "administrative_units_it.head()"
   ]
  },
  {
   "cell_type": "markdown",
   "metadata": {},
   "source": [
    "We want only the list of the name of the provinces and the code"
   ]
  },
  {
   "cell_type": "code",
   "execution_count": 4,
   "metadata": {},
   "outputs": [
    {
     "data": {
      "text/html": [
       "<div>\n",
       "<style scoped>\n",
       "    .dataframe tbody tr th:only-of-type {\n",
       "        vertical-align: middle;\n",
       "    }\n",
       "\n",
       "    .dataframe tbody tr th {\n",
       "        vertical-align: top;\n",
       "    }\n",
       "\n",
       "    .dataframe thead th {\n",
       "        text-align: right;\n",
       "    }\n",
       "</style>\n",
       "<table border=\"1\" class=\"dataframe\">\n",
       "  <thead>\n",
       "    <tr style=\"text-align: right;\">\n",
       "      <th></th>\n",
       "      <th>Codice Provincia</th>\n",
       "      <th>Provincia</th>\n",
       "    </tr>\n",
       "  </thead>\n",
       "  <tbody>\n",
       "    <tr>\n",
       "      <th>0</th>\n",
       "      <td>1</td>\n",
       "      <td>Torino</td>\n",
       "    </tr>\n",
       "    <tr>\n",
       "      <th>312</th>\n",
       "      <td>2</td>\n",
       "      <td>Vercelli</td>\n",
       "    </tr>\n",
       "    <tr>\n",
       "      <th>394</th>\n",
       "      <td>3</td>\n",
       "      <td>Novara</td>\n",
       "    </tr>\n",
       "    <tr>\n",
       "      <th>481</th>\n",
       "      <td>4</td>\n",
       "      <td>Cuneo</td>\n",
       "    </tr>\n",
       "    <tr>\n",
       "      <th>728</th>\n",
       "      <td>5</td>\n",
       "      <td>Asti</td>\n",
       "    </tr>\n",
       "  </tbody>\n",
       "</table>\n",
       "</div>"
      ],
      "text/plain": [
       "     Codice Provincia Provincia\n",
       "0                   1    Torino\n",
       "312                 2  Vercelli\n",
       "394                 3    Novara\n",
       "481                 4     Cuneo\n",
       "728                 5      Asti"
      ]
     },
     "execution_count": 4,
     "metadata": {},
     "output_type": "execute_result"
    }
   ],
   "source": [
    "provinces_tmp = administrative_units_it[['Codice Provincia', 'Provincia']].drop_duplicates()\n",
    "provinces_tmp.head()"
   ]
  },
  {
   "cell_type": "markdown",
   "metadata": {},
   "source": [
    "We create a new dataframe with the natural numbering as index and we change the name of the columns"
   ]
  },
  {
   "cell_type": "code",
   "execution_count": 6,
   "metadata": {},
   "outputs": [
    {
     "data": {
      "text/html": [
       "<div>\n",
       "<style scoped>\n",
       "    .dataframe tbody tr th:only-of-type {\n",
       "        vertical-align: middle;\n",
       "    }\n",
       "\n",
       "    .dataframe tbody tr th {\n",
       "        vertical-align: top;\n",
       "    }\n",
       "\n",
       "    .dataframe thead th {\n",
       "        text-align: right;\n",
       "    }\n",
       "</style>\n",
       "<table border=\"1\" class=\"dataframe\">\n",
       "  <thead>\n",
       "    <tr style=\"text-align: right;\">\n",
       "      <th></th>\n",
       "      <th>COD_UTS</th>\n",
       "      <th>DEN_UTS</th>\n",
       "    </tr>\n",
       "  </thead>\n",
       "  <tbody>\n",
       "    <tr>\n",
       "      <th>0</th>\n",
       "      <td>84</td>\n",
       "      <td>Agrigento</td>\n",
       "    </tr>\n",
       "    <tr>\n",
       "      <th>1</th>\n",
       "      <td>6</td>\n",
       "      <td>Alessandria</td>\n",
       "    </tr>\n",
       "    <tr>\n",
       "      <th>2</th>\n",
       "      <td>42</td>\n",
       "      <td>Ancona</td>\n",
       "    </tr>\n",
       "    <tr>\n",
       "      <th>3</th>\n",
       "      <td>7</td>\n",
       "      <td>Aosta</td>\n",
       "    </tr>\n",
       "    <tr>\n",
       "      <th>4</th>\n",
       "      <td>51</td>\n",
       "      <td>Arezzo</td>\n",
       "    </tr>\n",
       "  </tbody>\n",
       "</table>\n",
       "</div>"
      ],
      "text/plain": [
       "  COD_UTS      DEN_UTS\n",
       "0      84    Agrigento\n",
       "1       6  Alessandria\n",
       "2      42       Ancona\n",
       "3       7        Aosta\n",
       "4      51       Arezzo"
      ]
     },
     "execution_count": 6,
     "metadata": {},
     "output_type": "execute_result"
    }
   ],
   "source": [
    "provinces_tmp.sort_values(by='Provincia', inplace=True)\n",
    "nat_index = pd.Series(np.arange(0, len(provinces_tmp)))\n",
    "provinces = pd.DataFrame(provinces_tmp.values, columns=['COD_UTS', 'DEN_UTS'], index=nat_index)\n",
    "provinces.head()"
   ]
  },
  {
   "cell_type": "markdown",
   "metadata": {},
   "source": [
    "We count the number of provinces."
   ]
  },
  {
   "cell_type": "code",
   "execution_count": 7,
   "metadata": {},
   "outputs": [
    {
     "data": {
      "text/plain": [
       "107"
      ]
     },
     "execution_count": 7,
     "metadata": {},
     "output_type": "execute_result"
    }
   ],
   "source": [
    "num_provinces = len(provinces)\n",
    "num_provinces"
   ]
  },
  {
   "cell_type": "markdown",
   "metadata": {},
   "source": [
    "Then we create a DataFrame from the file of the unemployment rates to which we want to add a column with the code of the provinces."
   ]
  },
  {
   "cell_type": "code",
   "execution_count": 8,
   "metadata": {},
   "outputs": [
    {
     "data": {
      "text/html": [
       "<div>\n",
       "<style scoped>\n",
       "    .dataframe tbody tr th:only-of-type {\n",
       "        vertical-align: middle;\n",
       "    }\n",
       "\n",
       "    .dataframe tbody tr th {\n",
       "        vertical-align: top;\n",
       "    }\n",
       "\n",
       "    .dataframe thead th {\n",
       "        text-align: right;\n",
       "    }\n",
       "</style>\n",
       "<table border=\"1\" class=\"dataframe\">\n",
       "  <thead>\n",
       "    <tr style=\"text-align: right;\">\n",
       "      <th></th>\n",
       "      <th>DEN_UTS</th>\n",
       "      <th>unemployment</th>\n",
       "    </tr>\n",
       "  </thead>\n",
       "  <tbody>\n",
       "    <tr>\n",
       "      <th>0</th>\n",
       "      <td>Agrigento</td>\n",
       "      <td>21.777</td>\n",
       "    </tr>\n",
       "    <tr>\n",
       "      <th>1</th>\n",
       "      <td>Alessandria</td>\n",
       "      <td>6.867</td>\n",
       "    </tr>\n",
       "    <tr>\n",
       "      <th>2</th>\n",
       "      <td>Ancona</td>\n",
       "      <td>8.406</td>\n",
       "    </tr>\n",
       "    <tr>\n",
       "      <th>3</th>\n",
       "      <td>Aosta</td>\n",
       "      <td>7.26</td>\n",
       "    </tr>\n",
       "    <tr>\n",
       "      <th>4</th>\n",
       "      <td>Arezzo</td>\n",
       "      <td>7.051</td>\n",
       "    </tr>\n",
       "  </tbody>\n",
       "</table>\n",
       "</div>"
      ],
      "text/plain": [
       "       DEN_UTS unemployment\n",
       "0    Agrigento       21.777\n",
       "1  Alessandria        6.867\n",
       "2       Ancona        8.406\n",
       "3        Aosta         7.26\n",
       "4       Arezzo        7.051"
      ]
     },
     "execution_count": 8,
     "metadata": {},
     "output_type": "execute_result"
    }
   ],
   "source": [
    "unemployment_rates_it_tmp = pd.read_csv('stats/data/italy/unemployment_rate_istat_province.csv')\n",
    "unemployment_rates_it_tmp.sort_values(by='DEN_UTS', inplace=True)\n",
    "unemployment_rates_it = pd.DataFrame(unemployment_rates_it_tmp.values, columns = unemployment_rates_it_tmp.columns, index=nat_index)\n",
    "unemployment_rates_it.head()"
   ]
  },
  {
   "cell_type": "markdown",
   "metadata": {},
   "source": [
    "We count the number of provinces in this dataset to see whether it is the same as in the previous one"
   ]
  },
  {
   "cell_type": "code",
   "execution_count": 9,
   "metadata": {},
   "outputs": [
    {
     "data": {
      "text/plain": [
       "True"
      ]
     },
     "execution_count": 9,
     "metadata": {},
     "output_type": "execute_result"
    }
   ],
   "source": [
    "num_provinces == len(unemployment_rates_it)"
   ]
  },
  {
   "cell_type": "markdown",
   "metadata": {},
   "source": [
    "The two dataframes contain the same number of provinces but as we can see the some names are different. We will use a function to find the rows that have a different name for the same province."
   ]
  },
  {
   "cell_type": "code",
   "execution_count": 10,
   "metadata": {},
   "outputs": [],
   "source": [
    "def compare(df1, df2, column_name):\n",
    "    for i in range(0, len(df1)):\n",
    "        same = False\n",
    "        for j in range(i, len(df1)):\n",
    "            same = df1[column_name][i] == df2[column_name][j]\n",
    "            if (same):    \n",
    "                break\n",
    "            else:\n",
    "              print(\"Index: {0:d}\\nRecord df1: {1:s}\\nRecord df2: {2:s}\".format(i, df1[column_name][i], df2[column_name][j]))  \n",
    "              break"
   ]
  },
  {
   "cell_type": "code",
   "execution_count": 11,
   "metadata": {},
   "outputs": [
    {
     "name": "stdout",
     "output_type": "stream",
     "text": [
      "Index: 77\n",
      "Record df1: Reggio Calabria\n",
      "Record df2: Reggio di Calabria\n"
     ]
    }
   ],
   "source": [
    "compare(provinces, unemployment_rates_it, 'DEN_UTS')"
   ]
  },
  {
   "cell_type": "markdown",
   "metadata": {},
   "source": [
    "We change the value of the row in the 2nd dataframe so that it is the same as the corresponding row in the 1st dataframe "
   ]
  },
  {
   "cell_type": "code",
   "execution_count": 12,
   "metadata": {},
   "outputs": [
    {
     "data": {
      "text/plain": [
       "'Reggio Calabria'"
      ]
     },
     "execution_count": 12,
     "metadata": {},
     "output_type": "execute_result"
    }
   ],
   "source": [
    "unemployment_rates_it.loc[77]['DEN_UTS'] = provinces.loc[77]['DEN_UTS']\n",
    "unemployment_rates_it.loc[77]['DEN_UTS']"
   ]
  },
  {
   "cell_type": "markdown",
   "metadata": {},
   "source": [
    "Now we are ready to merge the two datasets using the field 'DEN_UTS'"
   ]
  },
  {
   "cell_type": "code",
   "execution_count": 13,
   "metadata": {},
   "outputs": [
    {
     "data": {
      "text/html": [
       "<div>\n",
       "<style scoped>\n",
       "    .dataframe tbody tr th:only-of-type {\n",
       "        vertical-align: middle;\n",
       "    }\n",
       "\n",
       "    .dataframe tbody tr th {\n",
       "        vertical-align: top;\n",
       "    }\n",
       "\n",
       "    .dataframe thead th {\n",
       "        text-align: right;\n",
       "    }\n",
       "</style>\n",
       "<table border=\"1\" class=\"dataframe\">\n",
       "  <thead>\n",
       "    <tr style=\"text-align: right;\">\n",
       "      <th></th>\n",
       "      <th>DEN_UTS</th>\n",
       "      <th>unemployment</th>\n",
       "      <th>COD_UTS</th>\n",
       "    </tr>\n",
       "  </thead>\n",
       "  <tbody>\n",
       "    <tr>\n",
       "      <th>0</th>\n",
       "      <td>Agrigento</td>\n",
       "      <td>21.777</td>\n",
       "      <td>84</td>\n",
       "    </tr>\n",
       "    <tr>\n",
       "      <th>1</th>\n",
       "      <td>Alessandria</td>\n",
       "      <td>6.867</td>\n",
       "      <td>6</td>\n",
       "    </tr>\n",
       "    <tr>\n",
       "      <th>2</th>\n",
       "      <td>Ancona</td>\n",
       "      <td>8.406</td>\n",
       "      <td>42</td>\n",
       "    </tr>\n",
       "    <tr>\n",
       "      <th>3</th>\n",
       "      <td>Aosta</td>\n",
       "      <td>7.26</td>\n",
       "      <td>7</td>\n",
       "    </tr>\n",
       "    <tr>\n",
       "      <th>4</th>\n",
       "      <td>Arezzo</td>\n",
       "      <td>7.051</td>\n",
       "      <td>51</td>\n",
       "    </tr>\n",
       "  </tbody>\n",
       "</table>\n",
       "</div>"
      ],
      "text/plain": [
       "       DEN_UTS unemployment COD_UTS\n",
       "0    Agrigento       21.777      84\n",
       "1  Alessandria        6.867       6\n",
       "2       Ancona        8.406      42\n",
       "3        Aosta         7.26       7\n",
       "4       Arezzo        7.051      51"
      ]
     },
     "execution_count": 13,
     "metadata": {},
     "output_type": "execute_result"
    }
   ],
   "source": [
    "merged_df = unemployment_rates_it.merge(provinces, left_on=['DEN_UTS'], right_on=['DEN_UTS'])\n",
    "merged_df.head()"
   ]
  },
  {
   "cell_type": "markdown",
   "metadata": {},
   "source": [
    "We count the number of records in the merged dataset. It should be the same number as in the two source datasets."
   ]
  },
  {
   "cell_type": "code",
   "execution_count": 14,
   "metadata": {},
   "outputs": [
    {
     "data": {
      "text/plain": [
       "107"
      ]
     },
     "execution_count": 14,
     "metadata": {},
     "output_type": "execute_result"
    }
   ],
   "source": [
    "len(merged_df)"
   ]
  },
  {
   "cell_type": "markdown",
   "metadata": {},
   "source": [
    "Finally we can save the data as a CSV file."
   ]
  },
  {
   "cell_type": "code",
   "execution_count": 16,
   "metadata": {},
   "outputs": [],
   "source": [
    "merged_df.to_csv('stats/data/italy/unemployment_rate_istat_province_cod_den_uts.csv', index=False)"
   ]
  }
 ],
 "metadata": {
  "kernelspec": {
   "display_name": "Python 3 (ipykernel)",
   "language": "python",
   "name": "python3"
  },
  "language_info": {
   "codemirror_mode": {
    "name": "ipython",
    "version": 3
   },
   "file_extension": ".py",
   "mimetype": "text/x-python",
   "name": "python",
   "nbconvert_exporter": "python",
   "pygments_lexer": "ipython3",
   "version": "3.11.3"
  }
 },
 "nbformat": 4,
 "nbformat_minor": 2
}
