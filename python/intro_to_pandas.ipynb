{
 "cells": [
  {
   "cell_type": "markdown",
   "metadata": {},
   "source": [
    "# Intro to Pandas\n",
    "Pandas is a package used to work with tabular data."
   ]
  },
  {
   "cell_type": "code",
   "execution_count": 1,
   "metadata": {},
   "outputs": [
    {
     "name": "stdout",
     "output_type": "stream",
     "text": [
      "0.25.1\n"
     ]
    }
   ],
   "source": [
    "import pandas as pd\n",
    "print(pd.__version__)"
   ]
  },
  {
   "cell_type": "markdown",
   "metadata": {},
   "source": [
    "## Series\n",
    "A Series is an indexed collection of objects. By default a Series index is based on integer numbers starting from 0 but we can use a different index, such as a set of chars or dates."
   ]
  },
  {
   "cell_type": "code",
   "execution_count": 2,
   "metadata": {},
   "outputs": [],
   "source": [
    "city_names = pd.Series(['San Francisco', 'San Jose', 'Sacramento'], index=['a', 'b', 'c'])\n",
    "populations = pd.Series([852469, 1015785, 485199], index=['a', 'b', 'c'])"
   ]
  },
  {
   "cell_type": "markdown",
   "metadata": {},
   "source": [
    "## DataFrame\n",
    "DataFrame is the class that provides a powerful set of functions to use when working with tabular data. It is a data structure defined as a collection of columns with a common index. By default a DataFrame index is based on integer numbers, like for the Series object, starting from 0 but we can use a different index as well. If we use Series as columns the DataFrame index will be the same as that used in the Series objects. As an example we build a DataDrame from two Series objects"
   ]
  },
  {
   "cell_type": "code",
   "execution_count": 3,
   "metadata": {},
   "outputs": [],
   "source": [
    "cities = pd.DataFrame({ 'city name': city_names, 'population': populations })"
   ]
  },
  {
   "cell_type": "markdown",
   "metadata": {},
   "source": [
    "We can add two more columns, one with data and a second one with a definition of the data computed from two columns that already exist in the DataFrame:"
   ]
  },
  {
   "cell_type": "code",
   "execution_count": 4,
   "metadata": {},
   "outputs": [
    {
     "data": {
      "text/html": [
       "<div>\n",
       "<style scoped>\n",
       "    .dataframe tbody tr th:only-of-type {\n",
       "        vertical-align: middle;\n",
       "    }\n",
       "\n",
       "    .dataframe tbody tr th {\n",
       "        vertical-align: top;\n",
       "    }\n",
       "\n",
       "    .dataframe thead th {\n",
       "        text-align: right;\n",
       "    }\n",
       "</style>\n",
       "<table border=\"1\" class=\"dataframe\">\n",
       "  <thead>\n",
       "    <tr style=\"text-align: right;\">\n",
       "      <th></th>\n",
       "      <th>city name</th>\n",
       "      <th>population</th>\n",
       "      <th>area</th>\n",
       "      <th>density</th>\n",
       "    </tr>\n",
       "  </thead>\n",
       "  <tbody>\n",
       "    <tr>\n",
       "      <td>a</td>\n",
       "      <td>San Francisco</td>\n",
       "      <td>852469</td>\n",
       "      <td>46.87</td>\n",
       "      <td>18187.945381</td>\n",
       "    </tr>\n",
       "    <tr>\n",
       "      <td>b</td>\n",
       "      <td>San Jose</td>\n",
       "      <td>1015785</td>\n",
       "      <td>176.53</td>\n",
       "      <td>5754.177760</td>\n",
       "    </tr>\n",
       "    <tr>\n",
       "      <td>c</td>\n",
       "      <td>Sacramento</td>\n",
       "      <td>485199</td>\n",
       "      <td>97.92</td>\n",
       "      <td>4955.055147</td>\n",
       "    </tr>\n",
       "  </tbody>\n",
       "</table>\n",
       "</div>"
      ],
      "text/plain": [
       "       city name  population    area       density\n",
       "a  San Francisco      852469   46.87  18187.945381\n",
       "b       San Jose     1015785  176.53   5754.177760\n",
       "c     Sacramento      485199   97.92   4955.055147"
      ]
     },
     "execution_count": 4,
     "metadata": {},
     "output_type": "execute_result"
    }
   ],
   "source": [
    "cities['area'] = pd.Series([46.87, 176.53, 97.92], index=['a', 'b', 'c'])\n",
    "cities['density'] = cities['population'] / cities['area']\n",
    "cities"
   ]
  },
  {
   "cell_type": "markdown",
   "metadata": {},
   "source": [
    "We can perfom statistical computation using the same kind of functions that are also available for a NumPy array such as the mean value of one or more columns."
   ]
  },
  {
   "cell_type": "code",
   "execution_count": 5,
   "metadata": {},
   "outputs": [
    {
     "name": "stdout",
     "output_type": "stream",
     "text": [
      "Cities mean area: 107.11\n",
      "Cities mean population: 784484\n"
     ]
    }
   ],
   "source": [
    "mean_area, mean_population = cities[['area', 'population']].mean()\n",
    "print(\"Cities mean area: {0:.2f}\\nCities mean population: {1:.0f}\".format(mean_area, mean_population))"
   ]
  },
  {
   "cell_type": "markdown",
   "metadata": {},
   "source": [
    "We can select a column by its name"
   ]
  },
  {
   "cell_type": "code",
   "execution_count": 6,
   "metadata": {},
   "outputs": [
    {
     "data": {
      "text/plain": [
       "a    San Francisco\n",
       "b         San Jose\n",
       "c       Sacramento\n",
       "Name: city name, dtype: object"
      ]
     },
     "execution_count": 6,
     "metadata": {},
     "output_type": "execute_result"
    }
   ],
   "source": [
    "cities['city name']"
   ]
  },
  {
   "cell_type": "markdown",
   "metadata": {},
   "source": [
    "and a row by its index"
   ]
  },
  {
   "cell_type": "code",
   "execution_count": 7,
   "metadata": {},
   "outputs": [
    {
     "data": {
      "text/plain": [
       "city name     San Jose\n",
       "population     1015785\n",
       "area            176.53\n",
       "density        5754.18\n",
       "Name: b, dtype: object"
      ]
     },
     "execution_count": 7,
     "metadata": {},
     "output_type": "execute_result"
    }
   ],
   "source": [
    "cities.loc['b']"
   ]
  },
  {
   "cell_type": "markdown",
   "metadata": {},
   "source": [
    "or just one element by its column name and row index "
   ]
  },
  {
   "cell_type": "code",
   "execution_count": 8,
   "metadata": {},
   "outputs": [
    {
     "data": {
      "text/plain": [
       "'San Jose'"
      ]
     },
     "execution_count": 8,
     "metadata": {},
     "output_type": "execute_result"
    }
   ],
   "source": [
    "cities['city name']['b']"
   ]
  },
  {
   "cell_type": "markdown",
   "metadata": {},
   "source": [
    "or its row index and column name"
   ]
  },
  {
   "cell_type": "code",
   "execution_count": 9,
   "metadata": {},
   "outputs": [
    {
     "data": {
      "text/plain": [
       "'San Jose'"
      ]
     },
     "execution_count": 9,
     "metadata": {},
     "output_type": "execute_result"
    }
   ],
   "source": [
    "cities.loc['b']['city name']"
   ]
  },
  {
   "cell_type": "markdown",
   "metadata": {},
   "source": [
    "or finally by the row index position, and the column index position "
   ]
  },
  {
   "cell_type": "code",
   "execution_count": 10,
   "metadata": {},
   "outputs": [
    {
     "data": {
      "text/plain": [
       "'San Jose'"
      ]
     },
     "execution_count": 10,
     "metadata": {},
     "output_type": "execute_result"
    }
   ],
   "source": [
    "cities.iloc[1][0]"
   ]
  },
  {
   "cell_type": "markdown",
   "metadata": {},
   "source": [
    "## Lambdas\n",
    "We can apply anonimous functions to columns. For example we want to add a new column to our cities DataFrame that tells whether a city name starts with \"San \" and has an area larger than 50 $km^2$ "
   ]
  },
  {
   "cell_type": "code",
   "execution_count": 11,
   "metadata": {},
   "outputs": [
    {
     "data": {
      "text/html": [
       "<div>\n",
       "<style scoped>\n",
       "    .dataframe tbody tr th:only-of-type {\n",
       "        vertical-align: middle;\n",
       "    }\n",
       "\n",
       "    .dataframe tbody tr th {\n",
       "        vertical-align: top;\n",
       "    }\n",
       "\n",
       "    .dataframe thead th {\n",
       "        text-align: right;\n",
       "    }\n",
       "</style>\n",
       "<table border=\"1\" class=\"dataframe\">\n",
       "  <thead>\n",
       "    <tr style=\"text-align: right;\">\n",
       "      <th></th>\n",
       "      <th>city name</th>\n",
       "      <th>population</th>\n",
       "      <th>area</th>\n",
       "      <th>density</th>\n",
       "      <th>Saint_50</th>\n",
       "    </tr>\n",
       "  </thead>\n",
       "  <tbody>\n",
       "    <tr>\n",
       "      <td>a</td>\n",
       "      <td>San Francisco</td>\n",
       "      <td>852469</td>\n",
       "      <td>46.87</td>\n",
       "      <td>18187.945381</td>\n",
       "      <td>False</td>\n",
       "    </tr>\n",
       "    <tr>\n",
       "      <td>b</td>\n",
       "      <td>San Jose</td>\n",
       "      <td>1015785</td>\n",
       "      <td>176.53</td>\n",
       "      <td>5754.177760</td>\n",
       "      <td>True</td>\n",
       "    </tr>\n",
       "    <tr>\n",
       "      <td>c</td>\n",
       "      <td>Sacramento</td>\n",
       "      <td>485199</td>\n",
       "      <td>97.92</td>\n",
       "      <td>4955.055147</td>\n",
       "      <td>False</td>\n",
       "    </tr>\n",
       "  </tbody>\n",
       "</table>\n",
       "</div>"
      ],
      "text/plain": [
       "       city name  population    area       density  Saint_50\n",
       "a  San Francisco      852469   46.87  18187.945381     False\n",
       "b       San Jose     1015785  176.53   5754.177760      True\n",
       "c     Sacramento      485199   97.92   4955.055147     False"
      ]
     },
     "execution_count": 11,
     "metadata": {},
     "output_type": "execute_result"
    }
   ],
   "source": [
    "names = cities['city name']\n",
    "area = cities['area']\n",
    "cities['Saint_50'] = names.apply(lambda name: name[:4] == \"San \") & area.apply(lambda area: area > 50)\n",
    "cities"
   ]
  },
  {
   "cell_type": "markdown",
   "metadata": {},
   "source": [
    "## List comprehension"
   ]
  },
  {
   "cell_type": "code",
   "execution_count": 6,
   "metadata": {},
   "outputs": [
    {
     "data": {
      "text/html": [
       "<div>\n",
       "<style scoped>\n",
       "    .dataframe tbody tr th:only-of-type {\n",
       "        vertical-align: middle;\n",
       "    }\n",
       "\n",
       "    .dataframe tbody tr th {\n",
       "        vertical-align: top;\n",
       "    }\n",
       "\n",
       "    .dataframe thead th {\n",
       "        text-align: right;\n",
       "    }\n",
       "</style>\n",
       "<table border=\"1\" class=\"dataframe\">\n",
       "  <thead>\n",
       "    <tr style=\"text-align: right;\">\n",
       "      <th></th>\n",
       "      <th>city name</th>\n",
       "      <th>population</th>\n",
       "      <th>area</th>\n",
       "      <th>density</th>\n",
       "      <th>Saint_50_Lambdas</th>\n",
       "      <th>Saint_50_List_Compr1</th>\n",
       "    </tr>\n",
       "  </thead>\n",
       "  <tbody>\n",
       "    <tr>\n",
       "      <td>a</td>\n",
       "      <td>San Francisco</td>\n",
       "      <td>852469</td>\n",
       "      <td>46.87</td>\n",
       "      <td>18187.945381</td>\n",
       "      <td>False</td>\n",
       "      <td>False</td>\n",
       "    </tr>\n",
       "    <tr>\n",
       "      <td>b</td>\n",
       "      <td>San Jose</td>\n",
       "      <td>1015785</td>\n",
       "      <td>176.53</td>\n",
       "      <td>5754.177760</td>\n",
       "      <td>True</td>\n",
       "      <td>True</td>\n",
       "    </tr>\n",
       "    <tr>\n",
       "      <td>c</td>\n",
       "      <td>Sacramento</td>\n",
       "      <td>485199</td>\n",
       "      <td>97.92</td>\n",
       "      <td>4955.055147</td>\n",
       "      <td>False</td>\n",
       "      <td>False</td>\n",
       "    </tr>\n",
       "  </tbody>\n",
       "</table>\n",
       "</div>"
      ],
      "text/plain": [
       "       city name  population    area       density  Saint_50_Lambdas  \\\n",
       "a  San Francisco      852469   46.87  18187.945381             False   \n",
       "b       San Jose     1015785  176.53   5754.177760              True   \n",
       "c     Sacramento      485199   97.92   4955.055147             False   \n",
       "\n",
       "   Saint_50_List_Compr1  \n",
       "a                 False  \n",
       "b                  True  \n",
       "c                 False  "
      ]
     },
     "execution_count": 6,
     "metadata": {},
     "output_type": "execute_result"
    }
   ],
   "source": [
    "def saint_50(city_name, area):\n",
    "  is_saint = city_name[0:3] == \"San\"\n",
    "  is_50 = area > 50\n",
    "  return is_saint & is_50\n",
    "\n",
    "# A solution using list comprehension and the zip() function  \n",
    "cities[\"Saint_50_List_Compr1\"] = [saint_50(city_name, area) for city_name, area in zip(cities['city name'], cities['area'])]\n",
    "cities"
   ]
  },
  {
   "cell_type": "code",
   "execution_count": 7,
   "metadata": {},
   "outputs": [
    {
     "data": {
      "text/html": [
       "<div>\n",
       "<style scoped>\n",
       "    .dataframe tbody tr th:only-of-type {\n",
       "        vertical-align: middle;\n",
       "    }\n",
       "\n",
       "    .dataframe tbody tr th {\n",
       "        vertical-align: top;\n",
       "    }\n",
       "\n",
       "    .dataframe thead th {\n",
       "        text-align: right;\n",
       "    }\n",
       "</style>\n",
       "<table border=\"1\" class=\"dataframe\">\n",
       "  <thead>\n",
       "    <tr style=\"text-align: right;\">\n",
       "      <th></th>\n",
       "      <th>city name</th>\n",
       "      <th>population</th>\n",
       "      <th>area</th>\n",
       "      <th>density</th>\n",
       "      <th>Saint_50_Lambdas</th>\n",
       "      <th>Saint_50_List_Compr1</th>\n",
       "      <th>Saint_50_List_Compr2</th>\n",
       "    </tr>\n",
       "  </thead>\n",
       "  <tbody>\n",
       "    <tr>\n",
       "      <td>a</td>\n",
       "      <td>San Francisco</td>\n",
       "      <td>852469</td>\n",
       "      <td>46.87</td>\n",
       "      <td>18187.945381</td>\n",
       "      <td>False</td>\n",
       "      <td>False</td>\n",
       "      <td>NaN</td>\n",
       "    </tr>\n",
       "    <tr>\n",
       "      <td>b</td>\n",
       "      <td>San Jose</td>\n",
       "      <td>1015785</td>\n",
       "      <td>176.53</td>\n",
       "      <td>5754.177760</td>\n",
       "      <td>True</td>\n",
       "      <td>True</td>\n",
       "      <td>NaN</td>\n",
       "    </tr>\n",
       "    <tr>\n",
       "      <td>c</td>\n",
       "      <td>Sacramento</td>\n",
       "      <td>485199</td>\n",
       "      <td>97.92</td>\n",
       "      <td>4955.055147</td>\n",
       "      <td>False</td>\n",
       "      <td>False</td>\n",
       "      <td>NaN</td>\n",
       "    </tr>\n",
       "  </tbody>\n",
       "</table>\n",
       "</div>"
      ],
      "text/plain": [
       "       city name  population    area       density  Saint_50_Lambdas  \\\n",
       "a  San Francisco      852469   46.87  18187.945381             False   \n",
       "b       San Jose     1015785  176.53   5754.177760              True   \n",
       "c     Sacramento      485199   97.92   4955.055147             False   \n",
       "\n",
       "   Saint_50_List_Compr1 Saint_50_List_Compr2  \n",
       "a                 False                  NaN  \n",
       "b                  True                  NaN  \n",
       "c                 False                  NaN  "
      ]
     },
     "execution_count": 7,
     "metadata": {},
     "output_type": "execute_result"
    }
   ],
   "source": [
    "# A 3rd solution using two list comprehension\n",
    "saint = [name[0:3] == \"San\" for name in cities[\"city name\"]]\n",
    "area50 = [area > 50 for area in cities['area']]\n",
    "cities[\"Saint_50_List_Compr2\"] = pd.Series(saint) & pd.Series(area50)\n",
    "cities"
   ]
  },
  {
   "cell_type": "markdown",
   "metadata": {},
   "source": [
    "## DatetimeIndex\n",
    "Time Series are common in science and finance, with Pandas we can build Time Series by associating an observation to the date and time it was acquired. The temporal information is often provided with the data, as an example we use a data set of the [stock prices of ENI S.p.A.](https://finance.yahoo.com/quote/ENI.MI/), a company in the energy sector, downloaded from Yahoo! Finance. The data set contains a one year long list of stock price with the prices at the beginning and end of each market day, the highest and lowest prices and the number of stocks exchanged (volume). We would like to use the 'Date' field as the index of the data set but by default the index is based on integers and represent the row index."
   ]
  },
  {
   "cell_type": "code",
   "execution_count": 96,
   "metadata": {},
   "outputs": [
    {
     "data": {
      "text/html": [
       "<div>\n",
       "<style scoped>\n",
       "    .dataframe tbody tr th:only-of-type {\n",
       "        vertical-align: middle;\n",
       "    }\n",
       "\n",
       "    .dataframe tbody tr th {\n",
       "        vertical-align: top;\n",
       "    }\n",
       "\n",
       "    .dataframe thead th {\n",
       "        text-align: right;\n",
       "    }\n",
       "</style>\n",
       "<table border=\"1\" class=\"dataframe\">\n",
       "  <thead>\n",
       "    <tr style=\"text-align: right;\">\n",
       "      <th></th>\n",
       "      <th>Date</th>\n",
       "      <th>Open</th>\n",
       "      <th>High</th>\n",
       "      <th>Low</th>\n",
       "      <th>Close</th>\n",
       "      <th>Adj Close</th>\n",
       "      <th>Volume</th>\n",
       "    </tr>\n",
       "  </thead>\n",
       "  <tbody>\n",
       "    <tr>\n",
       "      <td>0</td>\n",
       "      <td>2021-08-23</td>\n",
       "      <td>10.132</td>\n",
       "      <td>10.234</td>\n",
       "      <td>10.092</td>\n",
       "      <td>10.234</td>\n",
       "      <td>9.527454</td>\n",
       "      <td>15205357</td>\n",
       "    </tr>\n",
       "    <tr>\n",
       "      <td>1</td>\n",
       "      <td>2021-08-24</td>\n",
       "      <td>10.288</td>\n",
       "      <td>10.358</td>\n",
       "      <td>10.248</td>\n",
       "      <td>10.318</td>\n",
       "      <td>9.605656</td>\n",
       "      <td>13473152</td>\n",
       "    </tr>\n",
       "    <tr>\n",
       "      <td>2</td>\n",
       "      <td>2021-08-25</td>\n",
       "      <td>10.304</td>\n",
       "      <td>10.340</td>\n",
       "      <td>10.274</td>\n",
       "      <td>10.330</td>\n",
       "      <td>9.616826</td>\n",
       "      <td>8469631</td>\n",
       "    </tr>\n",
       "  </tbody>\n",
       "</table>\n",
       "</div>"
      ],
      "text/plain": [
       "         Date    Open    High     Low   Close  Adj Close    Volume\n",
       "0  2021-08-23  10.132  10.234  10.092  10.234   9.527454  15205357\n",
       "1  2021-08-24  10.288  10.358  10.248  10.318   9.605656  13473152\n",
       "2  2021-08-25  10.304  10.340  10.274  10.330   9.616826   8469631"
      ]
     },
     "execution_count": 96,
     "metadata": {},
     "output_type": "execute_result"
    }
   ],
   "source": [
    "eni_tmp = pd.read_csv('finance/data/ENI.MI.csv')\n",
    "eni_tmp[:3]"
   ]
  },
  {
   "cell_type": "markdown",
   "metadata": {},
   "source": [
    "One way to proceed is to create a Series object from the 'Date' column of the data set, transform the values from string to Timestamp and use that Series as the index of a new DataFrame created from the original one. We can also remove the 'Date' column."
   ]
  },
  {
   "cell_type": "code",
   "execution_count": 104,
   "metadata": {},
   "outputs": [],
   "source": [
    "date_index = pd.to_datetime(eni_tmp['Date'])\n",
    "eni_tmp.drop(['Date'], axis=1, inplace=True)"
   ]
  },
  {
   "cell_type": "markdown",
   "metadata": {},
   "source": [
    "Now we can select the records by dates"
   ]
  },
  {
   "cell_type": "code",
   "execution_count": 105,
   "metadata": {},
   "outputs": [
    {
     "data": {
      "text/html": [
       "<div>\n",
       "<style scoped>\n",
       "    .dataframe tbody tr th:only-of-type {\n",
       "        vertical-align: middle;\n",
       "    }\n",
       "\n",
       "    .dataframe tbody tr th {\n",
       "        vertical-align: top;\n",
       "    }\n",
       "\n",
       "    .dataframe thead th {\n",
       "        text-align: right;\n",
       "    }\n",
       "</style>\n",
       "<table border=\"1\" class=\"dataframe\">\n",
       "  <thead>\n",
       "    <tr style=\"text-align: right;\">\n",
       "      <th></th>\n",
       "      <th>Open</th>\n",
       "      <th>High</th>\n",
       "      <th>Low</th>\n",
       "      <th>Close</th>\n",
       "      <th>Adj Close</th>\n",
       "      <th>Volume</th>\n",
       "    </tr>\n",
       "    <tr>\n",
       "      <th>Date</th>\n",
       "      <th></th>\n",
       "      <th></th>\n",
       "      <th></th>\n",
       "      <th></th>\n",
       "      <th></th>\n",
       "      <th></th>\n",
       "    </tr>\n",
       "  </thead>\n",
       "  <tbody>\n",
       "    <tr>\n",
       "      <td>2021-08-23</td>\n",
       "      <td>10.132</td>\n",
       "      <td>10.234</td>\n",
       "      <td>10.092</td>\n",
       "      <td>10.234</td>\n",
       "      <td>9.527454</td>\n",
       "      <td>15205357</td>\n",
       "    </tr>\n",
       "    <tr>\n",
       "      <td>2021-08-24</td>\n",
       "      <td>10.288</td>\n",
       "      <td>10.358</td>\n",
       "      <td>10.248</td>\n",
       "      <td>10.318</td>\n",
       "      <td>9.605656</td>\n",
       "      <td>13473152</td>\n",
       "    </tr>\n",
       "    <tr>\n",
       "      <td>2021-08-25</td>\n",
       "      <td>10.304</td>\n",
       "      <td>10.340</td>\n",
       "      <td>10.274</td>\n",
       "      <td>10.330</td>\n",
       "      <td>9.616826</td>\n",
       "      <td>8469631</td>\n",
       "    </tr>\n",
       "  </tbody>\n",
       "</table>\n",
       "</div>"
      ],
      "text/plain": [
       "              Open    High     Low   Close  Adj Close    Volume\n",
       "Date                                                           \n",
       "2021-08-23  10.132  10.234  10.092  10.234   9.527454  15205357\n",
       "2021-08-24  10.288  10.358  10.248  10.318   9.605656  13473152\n",
       "2021-08-25  10.304  10.340  10.274  10.330   9.616826   8469631"
      ]
     },
     "execution_count": 105,
     "metadata": {},
     "output_type": "execute_result"
    }
   ],
   "source": [
    "eni = eni_tmp.set_index(date_index)\n",
    "eni['2021-08-23':'2021-08-25']"
   ]
  },
  {
   "cell_type": "markdown",
   "metadata": {},
   "source": [
    "## Time Series Visualization\n",
    "We can now plot the Time Series data"
   ]
  },
  {
   "cell_type": "code",
   "execution_count": 262,
   "metadata": {},
   "outputs": [
    {
     "name": "stdout",
     "output_type": "stream",
     "text": [
      "matplotlib version: 3.3.1\n"
     ]
    }
   ],
   "source": [
    "import matplotlib.pyplot as plt\n",
    "from matplotlib.pyplot import figure\n",
    "import matplotlib.dates as mdates\n",
    "print(\"matplotlib version: %s\"%mpl.__version__)"
   ]
  },
  {
   "cell_type": "markdown",
   "metadata": {},
   "source": [
    "On the x axis we want to show the label of the market days but only one per week to not clutter too much the graph, so we create a new DatetimeIndex with the same start and end date as in the original data set but setting the frequency to 'W', that is weekly. We will use this DatetimeIndex only in the plot."
   ]
  },
  {
   "cell_type": "code",
   "execution_count": 131,
   "metadata": {},
   "outputs": [],
   "source": [
    "start_day = date_index[0]\n",
    "end_day = date_index[len(date_index) - 1]\n",
    "week_index = pd.date_range(start_day, end_day, freq='W')"
   ]
  },
  {
   "cell_type": "markdown",
   "metadata": {},
   "source": [
    "Finally we set title and labels and the graph is ready"
   ]
  },
  {
   "cell_type": "code",
   "execution_count": 133,
   "metadata": {},
   "outputs": [
    {
     "data": {
      "text/plain": [
       "[<matplotlib.lines.Line2D at 0x2462ef89308>]"
      ]
     },
     "execution_count": 133,
     "metadata": {},
     "output_type": "execute_result"
    },
    {
     "data": {
      "image/png": "[encoded data removed]",
      "text/plain": [
       "<Figure size 864x432 with 1 Axes>"
      ]
     },
     "metadata": {
      "needs_background": "light"
     },
     "output_type": "display_data"
    }
   ],
   "source": [
    "fig = plt.figure(figsize=(12, 6))\n",
    "ax = fig.add_subplot()\n",
    "ax.set_title(\"ENI S.p.A. (ENI.MI) Stock Price in EUR\")\n",
    "ax.set_xlabel(\"day\")\n",
    "ax.set_ylabel(\"Stock Price (EUR)\");\n",
    "ax.set_xticks(week_index)\n",
    "ax.set_xticklabels(week_index, rotation=70)\n",
    "ax.xaxis.set_major_formatter(mdates.DateFormatter('%Y-%m-%d'))\n",
    "plt.plot(eni['Close'])"
   ]
  },
  {
   "cell_type": "markdown",
   "metadata": {},
   "source": [
    "## Select by columns"
   ]
  },
  {
   "cell_type": "code",
   "execution_count": 172,
   "metadata": {},
   "outputs": [
    {
     "data": {
      "text/html": [
       "<div>\n",
       "<style scoped>\n",
       "    .dataframe tbody tr th:only-of-type {\n",
       "        vertical-align: middle;\n",
       "    }\n",
       "\n",
       "    .dataframe tbody tr th {\n",
       "        vertical-align: top;\n",
       "    }\n",
       "\n",
       "    .dataframe thead th {\n",
       "        text-align: right;\n",
       "    }\n",
       "</style>\n",
       "<table border=\"1\" class=\"dataframe\">\n",
       "  <thead>\n",
       "    <tr style=\"text-align: right;\">\n",
       "      <th></th>\n",
       "      <th>Country Name</th>\n",
       "      <th>Country Code</th>\n",
       "      <th>Commodity Name</th>\n",
       "      <th>Commodity Code</th>\n",
       "      <th>Unit Name</th>\n",
       "      <th>Unit Code</th>\n",
       "      <th>Attribute</th>\n",
       "      <th>2019</th>\n",
       "      <th>2019M1</th>\n",
       "      <th>2019M2</th>\n",
       "      <th>...</th>\n",
       "      <th>2021M11</th>\n",
       "      <th>2021M12</th>\n",
       "      <th>2022M1</th>\n",
       "      <th>2022M2</th>\n",
       "      <th>2022M3</th>\n",
       "      <th>2022M4</th>\n",
       "      <th>2022M5</th>\n",
       "      <th>2022M6</th>\n",
       "      <th>2022M7</th>\n",
       "      <th>Unnamed: 53</th>\n",
       "    </tr>\n",
       "  </thead>\n",
       "  <tbody>\n",
       "    <tr>\n",
       "      <td>0</td>\n",
       "      <td>World</td>\n",
       "      <td>1</td>\n",
       "      <td>Agriculture</td>\n",
       "      <td>PAGRI</td>\n",
       "      <td>Index</td>\n",
       "      <td>IX</td>\n",
       "      <td>Value</td>\n",
       "      <td>98.509428</td>\n",
       "      <td>NaN</td>\n",
       "      <td>NaN</td>\n",
       "      <td>...</td>\n",
       "      <td>NaN</td>\n",
       "      <td>NaN</td>\n",
       "      <td>NaN</td>\n",
       "      <td>NaN</td>\n",
       "      <td>NaN</td>\n",
       "      <td>NaN</td>\n",
       "      <td>NaN</td>\n",
       "      <td>NaN</td>\n",
       "      <td>NaN</td>\n",
       "      <td>NaN</td>\n",
       "    </tr>\n",
       "    <tr>\n",
       "      <td>1</td>\n",
       "      <td>World</td>\n",
       "      <td>1</td>\n",
       "      <td>Agriculture</td>\n",
       "      <td>PAGRI</td>\n",
       "      <td>Index</td>\n",
       "      <td>IX</td>\n",
       "      <td>Value</td>\n",
       "      <td>NaN</td>\n",
       "      <td>99.757387</td>\n",
       "      <td>98.388718</td>\n",
       "      <td>...</td>\n",
       "      <td>127.470196</td>\n",
       "      <td>130.407202</td>\n",
       "      <td>136.114592</td>\n",
       "      <td>142.49899</td>\n",
       "      <td>150.384482</td>\n",
       "      <td>154.113522</td>\n",
       "      <td>151.708154</td>\n",
       "      <td>146.722491</td>\n",
       "      <td>136.550494</td>\n",
       "      <td>NaN</td>\n",
       "    </tr>\n",
       "    <tr>\n",
       "      <td>2</td>\n",
       "      <td>World</td>\n",
       "      <td>1</td>\n",
       "      <td>Agriculture</td>\n",
       "      <td>PAGRI</td>\n",
       "      <td>Percent Change over Previous Period</td>\n",
       "      <td>PC_PP_PT</td>\n",
       "      <td>Value</td>\n",
       "      <td>-3.531503</td>\n",
       "      <td>NaN</td>\n",
       "      <td>NaN</td>\n",
       "      <td>...</td>\n",
       "      <td>NaN</td>\n",
       "      <td>NaN</td>\n",
       "      <td>NaN</td>\n",
       "      <td>NaN</td>\n",
       "      <td>NaN</td>\n",
       "      <td>NaN</td>\n",
       "      <td>NaN</td>\n",
       "      <td>NaN</td>\n",
       "      <td>NaN</td>\n",
       "      <td>NaN</td>\n",
       "    </tr>\n",
       "  </tbody>\n",
       "</table>\n",
       "<p>3 rows × 54 columns</p>\n",
       "</div>"
      ],
      "text/plain": [
       "  Country Name  Country Code Commodity Name Commodity Code  \\\n",
       "0        World             1    Agriculture          PAGRI   \n",
       "1        World             1    Agriculture          PAGRI   \n",
       "2        World             1    Agriculture          PAGRI   \n",
       "\n",
       "                             Unit Name Unit Code Attribute       2019  \\\n",
       "0                                Index        IX     Value  98.509428   \n",
       "1                                Index        IX     Value        NaN   \n",
       "2  Percent Change over Previous Period  PC_PP_PT     Value  -3.531503   \n",
       "\n",
       "      2019M1     2019M2  ...     2021M11     2021M12      2022M1     2022M2  \\\n",
       "0        NaN        NaN  ...         NaN         NaN         NaN        NaN   \n",
       "1  99.757387  98.388718  ...  127.470196  130.407202  136.114592  142.49899   \n",
       "2        NaN        NaN  ...         NaN         NaN         NaN        NaN   \n",
       "\n",
       "       2022M3      2022M4      2022M5      2022M6      2022M7  Unnamed: 53  \n",
       "0         NaN         NaN         NaN         NaN         NaN          NaN  \n",
       "1  150.384482  154.113522  151.708154  146.722491  136.550494          NaN  \n",
       "2         NaN         NaN         NaN         NaN         NaN          NaN  \n",
       "\n",
       "[3 rows x 54 columns]"
      ]
     },
     "execution_count": 172,
     "metadata": {},
     "output_type": "execute_result"
    }
   ],
   "source": [
    "imf_commodities_tmp = pd.read_csv('finance/data/IMF_Commodities_Price.csv')\n",
    "imf_commodities_tmp[:3]"
   ]
  },
  {
   "cell_type": "code",
   "execution_count": 246,
   "metadata": {},
   "outputs": [
    {
     "data": {
      "text/html": [
       "<div>\n",
       "<style scoped>\n",
       "    .dataframe tbody tr th:only-of-type {\n",
       "        vertical-align: middle;\n",
       "    }\n",
       "\n",
       "    .dataframe tbody tr th {\n",
       "        vertical-align: top;\n",
       "    }\n",
       "\n",
       "    .dataframe thead th {\n",
       "        text-align: right;\n",
       "    }\n",
       "</style>\n",
       "<table border=\"1\" class=\"dataframe\">\n",
       "  <thead>\n",
       "    <tr style=\"text-align: right;\">\n",
       "      <th></th>\n",
       "      <th>Country Name</th>\n",
       "      <th>Country Code</th>\n",
       "      <th>Commodity Name</th>\n",
       "      <th>Commodity Code</th>\n",
       "      <th>Unit Name</th>\n",
       "      <th>Unit Code</th>\n",
       "      <th>Attribute</th>\n",
       "      <th>2019</th>\n",
       "      <th>2019M1</th>\n",
       "      <th>2019M2</th>\n",
       "      <th>...</th>\n",
       "      <th>2021M11</th>\n",
       "      <th>2021M12</th>\n",
       "      <th>2022M1</th>\n",
       "      <th>2022M2</th>\n",
       "      <th>2022M3</th>\n",
       "      <th>2022M4</th>\n",
       "      <th>2022M5</th>\n",
       "      <th>2022M6</th>\n",
       "      <th>2022M7</th>\n",
       "      <th>Unnamed: 53</th>\n",
       "    </tr>\n",
       "  </thead>\n",
       "  <tbody>\n",
       "    <tr>\n",
       "      <td>734</td>\n",
       "      <td>World</td>\n",
       "      <td>1</td>\n",
       "      <td>Natural gas, EU</td>\n",
       "      <td>PNGASEU</td>\n",
       "      <td>US Dollars</td>\n",
       "      <td>USD</td>\n",
       "      <td>Value</td>\n",
       "      <td>4.454858</td>\n",
       "      <td>NaN</td>\n",
       "      <td>NaN</td>\n",
       "      <td>...</td>\n",
       "      <td>NaN</td>\n",
       "      <td>NaN</td>\n",
       "      <td>NaN</td>\n",
       "      <td>NaN</td>\n",
       "      <td>NaN</td>\n",
       "      <td>NaN</td>\n",
       "      <td>NaN</td>\n",
       "      <td>NaN</td>\n",
       "      <td>NaN</td>\n",
       "      <td>NaN</td>\n",
       "    </tr>\n",
       "    <tr>\n",
       "      <td>735</td>\n",
       "      <td>World</td>\n",
       "      <td>1</td>\n",
       "      <td>Natural gas, EU</td>\n",
       "      <td>PNGASEU</td>\n",
       "      <td>US Dollars</td>\n",
       "      <td>USD</td>\n",
       "      <td>Value</td>\n",
       "      <td>NaN</td>\n",
       "      <td>7.161065</td>\n",
       "      <td>5.986339</td>\n",
       "      <td>...</td>\n",
       "      <td>27.383826</td>\n",
       "      <td>37.363363</td>\n",
       "      <td>27.890945</td>\n",
       "      <td>26.984281</td>\n",
       "      <td>41.727688</td>\n",
       "      <td>31.989874</td>\n",
       "      <td>27.464166</td>\n",
       "      <td>32.912607</td>\n",
       "      <td>51.145913</td>\n",
       "      <td>NaN</td>\n",
       "    </tr>\n",
       "  </tbody>\n",
       "</table>\n",
       "<p>2 rows × 54 columns</p>\n",
       "</div>"
      ],
      "text/plain": [
       "    Country Name  Country Code   Commodity Name Commodity Code   Unit Name  \\\n",
       "734        World             1  Natural gas, EU        PNGASEU  US Dollars   \n",
       "735        World             1  Natural gas, EU        PNGASEU  US Dollars   \n",
       "\n",
       "    Unit Code Attribute      2019    2019M1    2019M2  ...    2021M11  \\\n",
       "734       USD     Value  4.454858       NaN       NaN  ...        NaN   \n",
       "735       USD     Value       NaN  7.161065  5.986339  ...  27.383826   \n",
       "\n",
       "       2021M12     2022M1     2022M2     2022M3     2022M4     2022M5  \\\n",
       "734        NaN        NaN        NaN        NaN        NaN        NaN   \n",
       "735  37.363363  27.890945  26.984281  41.727688  31.989874  27.464166   \n",
       "\n",
       "        2022M6     2022M7  Unnamed: 53  \n",
       "734        NaN        NaN          NaN  \n",
       "735  32.912607  51.145913          NaN  \n",
       "\n",
       "[2 rows x 54 columns]"
      ]
     },
     "execution_count": 246,
     "metadata": {},
     "output_type": "execute_result"
    }
   ],
   "source": [
    "nat_gas_eu_tmp = imf_commodities_tmp[(imf_commodities_tmp['Commodity Code'] == 'PNGASEU') & (imf_commodities_tmp['Unit Code'] == 'USD')]\n",
    "nat_gas_eu_tmp"
   ]
  },
  {
   "cell_type": "code",
   "execution_count": 252,
   "metadata": {},
   "outputs": [
    {
     "data": {
      "text/plain": [
       "array([7.16106495279494, 5.986338560044779, 5.197180073252349],\n",
       "      dtype=object)"
      ]
     },
     "execution_count": 252,
     "metadata": {},
     "output_type": "execute_result"
    }
   ],
   "source": [
    "nat_gas_eu_months_tmp = nat_gas_eu_tmp.loc[735][8:].dropna()\n",
    "nat_gas_eu_months_tmp.values[:3]"
   ]
  },
  {
   "cell_type": "code",
   "execution_count": 253,
   "metadata": {},
   "outputs": [
    {
     "data": {
      "text/html": [
       "<div>\n",
       "<style scoped>\n",
       "    .dataframe tbody tr th:only-of-type {\n",
       "        vertical-align: middle;\n",
       "    }\n",
       "\n",
       "    .dataframe tbody tr th {\n",
       "        vertical-align: top;\n",
       "    }\n",
       "\n",
       "    .dataframe thead th {\n",
       "        text-align: right;\n",
       "    }\n",
       "</style>\n",
       "<table border=\"1\" class=\"dataframe\">\n",
       "  <thead>\n",
       "    <tr style=\"text-align: right;\">\n",
       "      <th></th>\n",
       "      <th>Country Name</th>\n",
       "      <th>Country Code</th>\n",
       "      <th>Commodity Name</th>\n",
       "      <th>Commodity Code</th>\n",
       "      <th>Unit Name</th>\n",
       "      <th>Unit Code</th>\n",
       "      <th>Attribute</th>\n",
       "      <th>2019</th>\n",
       "      <th>2019M1</th>\n",
       "      <th>2019M2</th>\n",
       "      <th>...</th>\n",
       "      <th>2021M11</th>\n",
       "      <th>2021M12</th>\n",
       "      <th>2022M1</th>\n",
       "      <th>2022M2</th>\n",
       "      <th>2022M3</th>\n",
       "      <th>2022M4</th>\n",
       "      <th>2022M5</th>\n",
       "      <th>2022M6</th>\n",
       "      <th>2022M7</th>\n",
       "      <th>Unnamed: 53</th>\n",
       "    </tr>\n",
       "  </thead>\n",
       "  <tbody>\n",
       "    <tr>\n",
       "      <td>182</td>\n",
       "      <td>World</td>\n",
       "      <td>1</td>\n",
       "      <td>Natural Gas, US Henry Hub Gas</td>\n",
       "      <td>PNGASUS</td>\n",
       "      <td>US Dollars</td>\n",
       "      <td>USD</td>\n",
       "      <td>Value</td>\n",
       "      <td>2.528527</td>\n",
       "      <td>NaN</td>\n",
       "      <td>NaN</td>\n",
       "      <td>...</td>\n",
       "      <td>NaN</td>\n",
       "      <td>NaN</td>\n",
       "      <td>NaN</td>\n",
       "      <td>NaN</td>\n",
       "      <td>NaN</td>\n",
       "      <td>NaN</td>\n",
       "      <td>NaN</td>\n",
       "      <td>NaN</td>\n",
       "      <td>NaN</td>\n",
       "      <td>NaN</td>\n",
       "    </tr>\n",
       "    <tr>\n",
       "      <td>183</td>\n",
       "      <td>World</td>\n",
       "      <td>1</td>\n",
       "      <td>Natural Gas, US Henry Hub Gas</td>\n",
       "      <td>PNGASUS</td>\n",
       "      <td>US Dollars</td>\n",
       "      <td>USD</td>\n",
       "      <td>Value</td>\n",
       "      <td>NaN</td>\n",
       "      <td>3.108696</td>\n",
       "      <td>2.6795</td>\n",
       "      <td>...</td>\n",
       "      <td>5.119091</td>\n",
       "      <td>3.858261</td>\n",
       "      <td>4.233333</td>\n",
       "      <td>4.475</td>\n",
       "      <td>4.971304</td>\n",
       "      <td>6.744762</td>\n",
       "      <td>8.16</td>\n",
       "      <td>7.570909</td>\n",
       "      <td>7.109048</td>\n",
       "      <td>NaN</td>\n",
       "    </tr>\n",
       "  </tbody>\n",
       "</table>\n",
       "<p>2 rows × 54 columns</p>\n",
       "</div>"
      ],
      "text/plain": [
       "    Country Name  Country Code                 Commodity Name Commodity Code  \\\n",
       "182        World             1  Natural Gas, US Henry Hub Gas        PNGASUS   \n",
       "183        World             1  Natural Gas, US Henry Hub Gas        PNGASUS   \n",
       "\n",
       "      Unit Name Unit Code Attribute      2019    2019M1  2019M2  ...  \\\n",
       "182  US Dollars       USD     Value  2.528527       NaN     NaN  ...   \n",
       "183  US Dollars       USD     Value       NaN  3.108696  2.6795  ...   \n",
       "\n",
       "      2021M11   2021M12    2022M1  2022M2    2022M3    2022M4  2022M5  \\\n",
       "182       NaN       NaN       NaN     NaN       NaN       NaN     NaN   \n",
       "183  5.119091  3.858261  4.233333   4.475  4.971304  6.744762    8.16   \n",
       "\n",
       "       2022M6    2022M7  Unnamed: 53  \n",
       "182       NaN       NaN          NaN  \n",
       "183  7.570909  7.109048          NaN  \n",
       "\n",
       "[2 rows x 54 columns]"
      ]
     },
     "execution_count": 253,
     "metadata": {},
     "output_type": "execute_result"
    }
   ],
   "source": [
    "nat_gas_us_tmp = imf_commodities_tmp[(imf_commodities_tmp['Commodity Code'] == 'PNGASUS') & (imf_commodities_tmp['Unit Code'] == 'USD')]\n",
    "nat_gas_us_tmp"
   ]
  },
  {
   "cell_type": "code",
   "execution_count": 255,
   "metadata": {},
   "outputs": [
    {
     "data": {
      "text/plain": [
       "array([3.10869565217391, 2.6795, 2.80333333333333], dtype=object)"
      ]
     },
     "execution_count": 255,
     "metadata": {},
     "output_type": "execute_result"
    }
   ],
   "source": [
    "nat_gas_us_months_tmp = nat_gas_us_tmp.loc[183][8:].dropna()\n",
    "nat_gas_us_months_tmp.values[:3]"
   ]
  },
  {
   "cell_type": "code",
   "execution_count": 256,
   "metadata": {},
   "outputs": [],
   "source": [
    "start_day = pd.to_datetime('2019-01-01')\n",
    "end_day = pd.to_datetime('2022-07-01')\n",
    "month_index = pd.date_range(start_day, end_day, freq='MS')"
   ]
  },
  {
   "cell_type": "code",
   "execution_count": 257,
   "metadata": {},
   "outputs": [
    {
     "data": {
      "text/html": [
       "<div>\n",
       "<style scoped>\n",
       "    .dataframe tbody tr th:only-of-type {\n",
       "        vertical-align: middle;\n",
       "    }\n",
       "\n",
       "    .dataframe tbody tr th {\n",
       "        vertical-align: top;\n",
       "    }\n",
       "\n",
       "    .dataframe thead th {\n",
       "        text-align: right;\n",
       "    }\n",
       "</style>\n",
       "<table border=\"1\" class=\"dataframe\">\n",
       "  <thead>\n",
       "    <tr style=\"text-align: right;\">\n",
       "      <th></th>\n",
       "      <th>Price</th>\n",
       "    </tr>\n",
       "  </thead>\n",
       "  <tbody>\n",
       "    <tr>\n",
       "      <td>2019-01-01</td>\n",
       "      <td>7.16106</td>\n",
       "    </tr>\n",
       "    <tr>\n",
       "      <td>2019-02-01</td>\n",
       "      <td>5.98634</td>\n",
       "    </tr>\n",
       "  </tbody>\n",
       "</table>\n",
       "</div>"
      ],
      "text/plain": [
       "              Price\n",
       "2019-01-01  7.16106\n",
       "2019-02-01  5.98634"
      ]
     },
     "execution_count": 257,
     "metadata": {},
     "output_type": "execute_result"
    }
   ],
   "source": [
    "nat_gas_eu_months = pd.DataFrame(nat_gas_eu_months_tmp.values, index=month_index, columns=['Price'])\n",
    "nat_gas_eu_months[:2]"
   ]
  },
  {
   "cell_type": "code",
   "execution_count": 258,
   "metadata": {},
   "outputs": [
    {
     "data": {
      "text/html": [
       "<div>\n",
       "<style scoped>\n",
       "    .dataframe tbody tr th:only-of-type {\n",
       "        vertical-align: middle;\n",
       "    }\n",
       "\n",
       "    .dataframe tbody tr th {\n",
       "        vertical-align: top;\n",
       "    }\n",
       "\n",
       "    .dataframe thead th {\n",
       "        text-align: right;\n",
       "    }\n",
       "</style>\n",
       "<table border=\"1\" class=\"dataframe\">\n",
       "  <thead>\n",
       "    <tr style=\"text-align: right;\">\n",
       "      <th></th>\n",
       "      <th>Price</th>\n",
       "    </tr>\n",
       "  </thead>\n",
       "  <tbody>\n",
       "    <tr>\n",
       "      <td>2019-01-01</td>\n",
       "      <td>3.1087</td>\n",
       "    </tr>\n",
       "    <tr>\n",
       "      <td>2019-02-01</td>\n",
       "      <td>2.6795</td>\n",
       "    </tr>\n",
       "  </tbody>\n",
       "</table>\n",
       "</div>"
      ],
      "text/plain": [
       "             Price\n",
       "2019-01-01  3.1087\n",
       "2019-02-01  2.6795"
      ]
     },
     "execution_count": 258,
     "metadata": {},
     "output_type": "execute_result"
    }
   ],
   "source": [
    "nat_gas_us_months = pd.DataFrame(nat_gas_us_months_tmp.values, index=month_index, columns=['Price'])\n",
    "nat_gas_us_months[:2]"
   ]
  },
  {
   "cell_type": "code",
   "execution_count": 279,
   "metadata": {},
   "outputs": [
    {
     "data": {
      "image/png": "[encoded data removed]",
      "text/plain": [
       "<Figure size 864x432 with 1 Axes>"
      ]
     },
     "metadata": {
      "needs_background": "light"
     },
     "output_type": "display_data"
    }
   ],
   "source": [
    "fig = plt.figure(figsize=(12, 6))\n",
    "ax = fig.add_subplot()\n",
    "ax.set_title(\"Natural gas price\")\n",
    "ax.set_xlabel(\"Month\")\n",
    "ax.set_ylabel(\"U.S. Dollars per Million Metric British Thermal Unit\");\n",
    "ax.set_xticks(month_index)\n",
    "ax.set_xticklabels(month_index, rotation=70)\n",
    "ax.set_yticks(np.arange(0, 60, 2), minor=True)\n",
    "ax.xaxis.set_major_formatter(mdates.DateFormatter('%Y-%m'))\n",
    "ax.grid(True, which='both')\n",
    "us_plt, = plt.plot(nat_gas_us_months)\n",
    "netherlands_plt, = plt.plot(nat_gas_eu_months)\n",
    "plt.legend((netherlands_plt, us_plt), ['Netherlands TFF', 'U.S. Henry Hub'], loc='upper left')\n",
    "plt.savefig('natural_gas_price.png')"
   ]
  },
  {
   "cell_type": "code",
   "execution_count": null,
   "metadata": {},
   "outputs": [],
   "source": []
  }
 ],
 "metadata": {
  "kernelspec": {
   "display_name": "Python 3",
   "language": "python",
   "name": "python3"
  },
  "language_info": {
   "codemirror_mode": {
    "name": "ipython",
    "version": 3
   },
   "file_extension": ".py",
   "mimetype": "text/x-python",
   "name": "python",
   "nbconvert_exporter": "python",
   "pygments_lexer": "ipython3",
   "version": "3.7.4"
  }
 },
 "nbformat": 4,
 "nbformat_minor": 2
}
