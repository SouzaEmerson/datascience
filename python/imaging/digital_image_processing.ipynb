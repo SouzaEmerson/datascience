{
 "cells": [
  {
   "cell_type": "markdown",
   "metadata": {},
   "source": [
    "# Digital Image Processing\n",
    "The notebooks in this folder, have been developed to experiment image processing algorithms using two Python packages [scikit-image](https://scikit-image.org/) and [matplotlib](https://matplotlib.org/).\n",
    "The main resources are:\n",
    "* [Gonzales & Woods - Digital Image Processing](http://www.imageprocessingplace.com/DIP-4E/dip4e_main_page.htm)\n",
    "* [Burger & Burge - Digital Image Processing - An Algorithmic Introduction using Java, 2nd ed.](https://imagingbook.com/)\n",
    "* [Szeliski - Computer Vision: Algorithms and Applications, 2nd ed.](http://szeliski.org/Book/) \n",
    "* [Scopatz & Huff - Effective Computation in Physics](http://physics.codes/)\n",
    "\n",
    "Notebooks:\n",
    "\n",
    "1. [Histograms](histograms.ipynb)\n",
    "2. [Point operations](point_operations.ipynb)\n",
    "3. [Filters](filters.ipynb)\n",
    "4. [Edge detection](edges_detection.ipynb)\n",
    "5. [Corner Detection](corner_detection.ipynb)"
   ]
  },
  {
   "cell_type": "code",
   "execution_count": null,
   "metadata": {},
   "outputs": [],
   "source": []
  }
 ],
 "metadata": {
  "kernelspec": {
   "display_name": "Python 3 (ipykernel)",
   "language": "python",
   "name": "python3"
  },
  "language_info": {
   "codemirror_mode": {
    "name": "ipython",
    "version": 3
   },
   "file_extension": ".py",
   "mimetype": "text/x-python",
   "name": "python",
   "nbconvert_exporter": "python",
   "pygments_lexer": "ipython3",
   "version": "3.9.13"
  }
 },
 "nbformat": 4,
 "nbformat_minor": 4
}
