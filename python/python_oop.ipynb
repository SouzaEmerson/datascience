{
 "cells": [
  {
   "cell_type": "markdown",
   "id": "2d5cf880",
   "metadata": {},
   "source": [
    "# Python OOP\n",
    "We will see how Object Oriented Programming is implemented in Python. the special method __init__ is called each time the class is istantiated."
   ]
  },
  {
   "cell_type": "markdown",
   "id": "d9fed405",
   "metadata": {},
   "source": [
    "### Class definition"
   ]
  },
  {
   "cell_type": "code",
   "execution_count": 42,
   "id": "3485cab8",
   "metadata": {},
   "outputs": [],
   "source": [
    "class HumanBeing(object):\n",
    "    def __init__(self, first_name, eye_color):\n",
    "        self.first_name = first_name\n",
    "        self.eye_color = eye_color\n",
    "        self.position = 0\n",
    "    def walk_steps(self, steps):\n",
    "        self.position += steps"
   ]
  },
  {
   "cell_type": "code",
   "execution_count": 43,
   "id": "68a35edb",
   "metadata": {},
   "outputs": [],
   "source": [
    "luigi = HumanBeing('Luigi', 'brown')"
   ]
  },
  {
   "cell_type": "code",
   "execution_count": 44,
   "id": "410ba0f9",
   "metadata": {},
   "outputs": [
    {
     "data": {
      "text/plain": [
       "'Luigi'"
      ]
     },
     "execution_count": 44,
     "metadata": {},
     "output_type": "execute_result"
    }
   ],
   "source": [
    "luigi.first_name"
   ]
  },
  {
   "cell_type": "code",
   "execution_count": 45,
   "id": "3c63be48",
   "metadata": {},
   "outputs": [
    {
     "data": {
      "text/plain": [
       "3"
      ]
     },
     "execution_count": 45,
     "metadata": {},
     "output_type": "execute_result"
    }
   ],
   "source": [
    "luigi.walk_steps(3)\n",
    "luigi.position"
   ]
  },
  {
   "cell_type": "code",
   "execution_count": 46,
   "id": "78c99245",
   "metadata": {},
   "outputs": [
    {
     "data": {
      "text/plain": [
       "32"
      ]
     },
     "execution_count": 46,
     "metadata": {},
     "output_type": "execute_result"
    }
   ],
   "source": [
    "luigi.__sizeof__()"
   ]
  },
  {
   "cell_type": "code",
   "execution_count": 51,
   "id": "dd9852ab",
   "metadata": {},
   "outputs": [],
   "source": [
    "class FinancialInstrument(object):\n",
    "    def __init__(self, symbol, price):\n",
    "        self.symbol = symbol\n",
    "        self.__price = price # private attribute\n",
    "    pass"
   ]
  },
  {
   "cell_type": "code",
   "execution_count": 52,
   "id": "ecb28d2f",
   "metadata": {},
   "outputs": [
    {
     "data": {
      "text/plain": [
       "<__main__.FinancialInstrument at 0x162e2c42160>"
      ]
     },
     "execution_count": 52,
     "metadata": {},
     "output_type": "execute_result"
    }
   ],
   "source": [
    "eni_mi = FinancialInstrument('ENI.MI', 11.70)\n",
    "eni_mi"
   ]
  },
  {
   "cell_type": "markdown",
   "id": "04190d29",
   "metadata": {},
   "source": [
    "Data attributes can be defined on the fly"
   ]
  },
  {
   "cell_type": "code",
   "execution_count": 53,
   "id": "2a86ed30",
   "metadata": {},
   "outputs": [
    {
     "data": {
      "text/plain": [
       "1000"
      ]
     },
     "execution_count": 53,
     "metadata": {},
     "output_type": "execute_result"
    }
   ],
   "source": [
    "eni_mi.num_shares = 1000\n",
    "eni_mi.num_shares"
   ]
  },
  {
   "cell_type": "markdown",
   "id": "770c0241",
   "metadata": {},
   "source": [
    "### Inheritance"
   ]
  },
  {
   "cell_type": "code",
   "execution_count": 56,
   "id": "7bf80411",
   "metadata": {},
   "outputs": [],
   "source": [
    "class FinancialInstrument(FinancialInstrument):\n",
    "    def get_price(self):\n",
    "        return self.__price # private attribute\n",
    "    def set_price(self, price):\n",
    "        self.__price = price"
   ]
  },
  {
   "cell_type": "code",
   "execution_count": 60,
   "id": "a5abe686",
   "metadata": {},
   "outputs": [
    {
     "data": {
      "text/plain": [
       "12.0"
      ]
     },
     "execution_count": 60,
     "metadata": {},
     "output_type": "execute_result"
    }
   ],
   "source": [
    "eni_stock = FinancialInstrument('ENI.MI', 12.0)\n",
    "eni_stock.get_price()"
   ]
  },
  {
   "cell_type": "code",
   "execution_count": 65,
   "id": "2489e483",
   "metadata": {},
   "outputs": [
    {
     "data": {
      "text/plain": [
       "2.4"
      ]
     },
     "execution_count": 65,
     "metadata": {},
     "output_type": "execute_result"
    }
   ],
   "source": [
    "eni_stock.__price"
   ]
  },
  {
   "cell_type": "code",
   "execution_count": 66,
   "id": "fea81913",
   "metadata": {},
   "outputs": [
    {
     "data": {
      "text/plain": [
       "12.0"
      ]
     },
     "execution_count": 66,
     "metadata": {},
     "output_type": "execute_result"
    }
   ],
   "source": [
    "eni_stock.get_price()"
   ]
  },
  {
   "cell_type": "code",
   "execution_count": 67,
   "id": "eae576d3",
   "metadata": {},
   "outputs": [
    {
     "data": {
      "text/plain": [
       "2.4"
      ]
     },
     "execution_count": 67,
     "metadata": {},
     "output_type": "execute_result"
    }
   ],
   "source": [
    "eni_stock.__price = 2.4\n",
    "eni_stock.__price"
   ]
  },
  {
   "cell_type": "code",
   "execution_count": 68,
   "id": "e19273cb",
   "metadata": {},
   "outputs": [],
   "source": [
    "class PortfolioPosition(object):\n",
    "    def __init__(self, financial_instrument, position_size):\n",
    "        self.position = financial_instrument\n",
    "        self.__position_size = position_size\n",
    "    def get_position_size(self):\n",
    "        return self.__position_size\n",
    "    def update_position_size(self, position_size):\n",
    "        self.__position_size = position_size\n",
    "    def get_position_value(self):\n",
    "        return self.__position_size * self.position.get_price()"
   ]
  },
  {
   "cell_type": "code",
   "execution_count": 69,
   "id": "197a8c6f",
   "metadata": {},
   "outputs": [
    {
     "data": {
      "text/plain": [
       "10"
      ]
     },
     "execution_count": 69,
     "metadata": {},
     "output_type": "execute_result"
    }
   ],
   "source": [
    "pp = PortfolioPosition(eni_stock, 10)\n",
    "pp.get_position_size()"
   ]
  },
  {
   "cell_type": "code",
   "execution_count": 70,
   "id": "3c703890",
   "metadata": {},
   "outputs": [
    {
     "data": {
      "text/plain": [
       "120.0"
      ]
     },
     "execution_count": 70,
     "metadata": {},
     "output_type": "execute_result"
    }
   ],
   "source": [
    "pp.get_position_value()"
   ]
  },
  {
   "cell_type": "markdown",
   "id": "4fa8f29c",
   "metadata": {},
   "source": [
    "## Yahoo! Finance"
   ]
  },
  {
   "cell_type": "code",
   "execution_count": 74,
   "id": "2a77beb4",
   "metadata": {},
   "outputs": [
    {
     "data": {
      "text/html": [
       "<div>\n",
       "<style scoped>\n",
       "    .dataframe tbody tr th:only-of-type {\n",
       "        vertical-align: middle;\n",
       "    }\n",
       "\n",
       "    .dataframe tbody tr th {\n",
       "        vertical-align: top;\n",
       "    }\n",
       "\n",
       "    .dataframe thead th {\n",
       "        text-align: right;\n",
       "    }\n",
       "</style>\n",
       "<table border=\"1\" class=\"dataframe\">\n",
       "  <thead>\n",
       "    <tr style=\"text-align: right;\">\n",
       "      <th></th>\n",
       "      <th>Open</th>\n",
       "      <th>High</th>\n",
       "      <th>Low</th>\n",
       "      <th>Close</th>\n",
       "      <th>Volume</th>\n",
       "      <th>Dividends</th>\n",
       "      <th>Stock Splits</th>\n",
       "    </tr>\n",
       "    <tr>\n",
       "      <th>Date</th>\n",
       "      <th></th>\n",
       "      <th></th>\n",
       "      <th></th>\n",
       "      <th></th>\n",
       "      <th></th>\n",
       "      <th></th>\n",
       "      <th></th>\n",
       "    </tr>\n",
       "  </thead>\n",
       "  <tbody>\n",
       "    <tr>\n",
       "      <th>2022-09-05</th>\n",
       "      <td>11.978</td>\n",
       "      <td>12.432</td>\n",
       "      <td>11.910</td>\n",
       "      <td>12.290</td>\n",
       "      <td>12793436</td>\n",
       "      <td>0.0</td>\n",
       "      <td>0.0</td>\n",
       "    </tr>\n",
       "    <tr>\n",
       "      <th>2022-09-06</th>\n",
       "      <td>12.258</td>\n",
       "      <td>12.282</td>\n",
       "      <td>11.786</td>\n",
       "      <td>11.952</td>\n",
       "      <td>17528169</td>\n",
       "      <td>0.0</td>\n",
       "      <td>0.0</td>\n",
       "    </tr>\n",
       "    <tr>\n",
       "      <th>2022-09-07</th>\n",
       "      <td>11.790</td>\n",
       "      <td>11.970</td>\n",
       "      <td>11.540</td>\n",
       "      <td>11.618</td>\n",
       "      <td>17903241</td>\n",
       "      <td>0.0</td>\n",
       "      <td>0.0</td>\n",
       "    </tr>\n",
       "    <tr>\n",
       "      <th>2022-09-08</th>\n",
       "      <td>11.638</td>\n",
       "      <td>11.756</td>\n",
       "      <td>11.410</td>\n",
       "      <td>11.582</td>\n",
       "      <td>16749834</td>\n",
       "      <td>0.0</td>\n",
       "      <td>0.0</td>\n",
       "    </tr>\n",
       "    <tr>\n",
       "      <th>2022-09-09</th>\n",
       "      <td>11.622</td>\n",
       "      <td>11.818</td>\n",
       "      <td>11.586</td>\n",
       "      <td>11.682</td>\n",
       "      <td>10706661</td>\n",
       "      <td>0.0</td>\n",
       "      <td>0.0</td>\n",
       "    </tr>\n",
       "  </tbody>\n",
       "</table>\n",
       "</div>"
      ],
      "text/plain": [
       "              Open    High     Low   Close    Volume  Dividends  Stock Splits\n",
       "Date                                                                         \n",
       "2022-09-05  11.978  12.432  11.910  12.290  12793436        0.0           0.0\n",
       "2022-09-06  12.258  12.282  11.786  11.952  17528169        0.0           0.0\n",
       "2022-09-07  11.790  11.970  11.540  11.618  17903241        0.0           0.0\n",
       "2022-09-08  11.638  11.756  11.410  11.582  16749834        0.0           0.0\n",
       "2022-09-09  11.622  11.818  11.586  11.682  10706661        0.0           0.0"
      ]
     },
     "execution_count": 74,
     "metadata": {},
     "output_type": "execute_result"
    }
   ],
   "source": [
    "import yfinance as yf\n",
    "eni_mi = yf.Ticker(\"ENI.MI\")\n",
    "hist = eni_mi.history(period=\"max\")\n",
    "hist.tail()"
   ]
  },
  {
   "cell_type": "code",
   "execution_count": null,
   "id": "4f84984c",
   "metadata": {},
   "outputs": [],
   "source": []
  }
 ],
 "metadata": {
  "kernelspec": {
   "display_name": "Python 3 (ipykernel)",
   "language": "python",
   "name": "python3"
  },
  "language_info": {
   "codemirror_mode": {
    "name": "ipython",
    "version": 3
   },
   "file_extension": ".py",
   "mimetype": "text/x-python",
   "name": "python",
   "nbconvert_exporter": "python",
   "pygments_lexer": "ipython3",
   "version": "3.9.13"
  }
 },
 "nbformat": 4,
 "nbformat_minor": 5
}
