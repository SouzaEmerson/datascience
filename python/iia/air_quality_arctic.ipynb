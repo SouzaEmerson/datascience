{
 "cells": [
  {
   "cell_type": "markdown",
   "id": "f1608fb9",
   "metadata": {},
   "source": [
    "# Air Quality Assessment in the Arctic\n",
    "In this notebook we analyze the air quality in the arctic area using the data from ground stations located in European arctic\n",
    "\n",
    "* Grundartangi Groef, Iceland (EEA st.52149) \n",
    "* Kopavogur Dalsmari, Iceland (EEA st.52109)\n",
    "* Oulu Pyykoesjaervi, Finland (EEA st. 15557)\n",
    "* Oulun Keskusta 2, Finland (EEA st. 15609)\n",
    "* Tromso, Norway (EEA st. 62993) \n",
    "* Muonio Sammaltunturi, Finland (FMI st. 101983) \n",
    "\n",
    "The datasets are provided by the [Finnish Meteorological Institute (FMI)](https://en.ilmatieteenlaitos.fi/download-observations) and the [European Environmental Agency (EEA)](https://discomap.eea.europa.eu/map/fme/AirQualityExport.htm). The aim of the project is to build a model to predict the state of environmental variables such as the PM10. The prediction will be compared with that from the [CAMS service](https://ads.atmosphere.copernicus.eu/cdsapp#!/dataset/cams-europe-air-quality-forecasts). The prediction provided by the CAMS are the result of an ensemble of 9 air quality numerical models. An air quality model integrates a dynamical model of the atmosphere with the chemical-physical equations of the air components. The CAMS numerical models use as input the data assimilated from a network of ground stations and satellite sensors and return as output a grid that represents the horizontal and vertical distribution of the air quality variables with a prediction of their future state.      \n"
   ]
  },
  {
   "cell_type": "code",
   "execution_count": 129,
   "id": "54aa5555",
   "metadata": {},
   "outputs": [],
   "source": [
    "import pandas as pd\n",
    "import numpy as np\n",
    "import matplotlib.pyplot as plt\n",
    "import matplotlib.dates as mdates"
   ]
  },
  {
   "cell_type": "markdown",
   "id": "e631a4c4",
   "metadata": {},
   "source": [
    "## The datasets\n",
    "Five of the 6 datasets can be downloaded from the EEA website by selecting the name of the country, the polluttant (PM10), and the years. Each station has a code number that can be used to filter out the files to be dowloaded. The dataset of the station managed by the FMI, Muonio Sammaltunturi, can be downloaded from the FMI website by selecting the hourly Air Quality observations of the Muonio Sammaltunturi meteorological institute for the inhalable particles <10 $\\mu m$ and the time period.    \n"
   ]
  },
  {
   "cell_type": "markdown",
   "id": "9d7305e5",
   "metadata": {},
   "source": [
    "## The Muonio Sammaltunturi dataset\n",
    "We use this dataset as a first exploration. Before the analysis we will perform a data preparation step by applying some transformation. The dataset is a subset of what is available from the FMI website and is related only to PM10. It contains a time series of hourly observation of the pollutant in $\\mu g/m^3$  "
   ]
  },
  {
   "cell_type": "code",
   "execution_count": 84,
   "id": "5a9b3cce",
   "metadata": {},
   "outputs": [
    {
     "data": {
      "text/html": [
       "<div>\n",
       "<style scoped>\n",
       "    .dataframe tbody tr th:only-of-type {\n",
       "        vertical-align: middle;\n",
       "    }\n",
       "\n",
       "    .dataframe tbody tr th {\n",
       "        vertical-align: top;\n",
       "    }\n",
       "\n",
       "    .dataframe thead th {\n",
       "        text-align: right;\n",
       "    }\n",
       "</style>\n",
       "<table border=\"1\" class=\"dataframe\">\n",
       "  <thead>\n",
       "    <tr style=\"text-align: right;\">\n",
       "      <th></th>\n",
       "      <th>Observation station</th>\n",
       "      <th>Year</th>\n",
       "      <th>Month</th>\n",
       "      <th>Day</th>\n",
       "      <th>Time [Local time]</th>\n",
       "      <th>Inhalable particles &lt;10 µm [µg/m3]</th>\n",
       "    </tr>\n",
       "  </thead>\n",
       "  <tbody>\n",
       "    <tr>\n",
       "      <th>0</th>\n",
       "      <td>Muonio Sammaltunturi</td>\n",
       "      <td>2020</td>\n",
       "      <td>1</td>\n",
       "      <td>1</td>\n",
       "      <td>01:00</td>\n",
       "      <td>0</td>\n",
       "    </tr>\n",
       "    <tr>\n",
       "      <th>1</th>\n",
       "      <td>Muonio Sammaltunturi</td>\n",
       "      <td>2020</td>\n",
       "      <td>1</td>\n",
       "      <td>1</td>\n",
       "      <td>02:00</td>\n",
       "      <td>0</td>\n",
       "    </tr>\n",
       "    <tr>\n",
       "      <th>2</th>\n",
       "      <td>Muonio Sammaltunturi</td>\n",
       "      <td>2020</td>\n",
       "      <td>1</td>\n",
       "      <td>1</td>\n",
       "      <td>03:00</td>\n",
       "      <td>0</td>\n",
       "    </tr>\n",
       "  </tbody>\n",
       "</table>\n",
       "</div>"
      ],
      "text/plain": [
       "    Observation station  Year  Month  Day Time [Local time]  \\\n",
       "0  Muonio Sammaltunturi  2020      1    1             01:00   \n",
       "1  Muonio Sammaltunturi  2020      1    1             02:00   \n",
       "2  Muonio Sammaltunturi  2020      1    1             03:00   \n",
       "\n",
       "  Inhalable particles <10 µm [µg/m3]  \n",
       "0                                  0  \n",
       "1                                  0  \n",
       "2                                  0  "
      ]
     },
     "execution_count": 84,
     "metadata": {},
     "output_type": "execute_result"
    }
   ],
   "source": [
    "path_muonio = 'data/fmi/101983/Muonio_Sammaltunturi.csv'\n",
    "muonio_df_tmp = pd.read_csv(path_muonio)\n",
    "muonio_df_tmp.head(3)"
   ]
  },
  {
   "cell_type": "markdown",
   "id": "b674341a",
   "metadata": {},
   "source": [
    "### Data preparation\n",
    "We will apply some transformations to the datasets by aggregating some of its columns and removing those that are redundant "
   ]
  },
  {
   "cell_type": "code",
   "execution_count": 85,
   "id": "b34cbf7f",
   "metadata": {},
   "outputs": [],
   "source": [
    "year = muonio_df_tmp['Year']\n",
    "month = muonio_df_tmp['Month']\n",
    "day = muonio_df_tmp['Day']\n",
    "time = muonio_df_tmp['Time [Local time]']\n",
    "\n",
    "def ddigit(value):\n",
    "    if (value < 10):\n",
    "        return '0' + str(value)\n",
    "    else:\n",
    "        return str(value)\n",
    "\n",
    "muonio_df_tmp['DateTime'] = year.apply(lambda year: str(year)) + '-' \\\n",
    "                  + month.apply(lambda month: ddigit(month)) + '-' \\\n",
    "                  + day.apply(lambda day: ddigit(day)) + ' ' \\\n",
    "                  + time.apply(lambda time: str(time)) + ':00'"
   ]
  },
  {
   "cell_type": "code",
   "execution_count": 86,
   "id": "a266458b",
   "metadata": {},
   "outputs": [
    {
     "data": {
      "text/html": [
       "<div>\n",
       "<style scoped>\n",
       "    .dataframe tbody tr th:only-of-type {\n",
       "        vertical-align: middle;\n",
       "    }\n",
       "\n",
       "    .dataframe tbody tr th {\n",
       "        vertical-align: top;\n",
       "    }\n",
       "\n",
       "    .dataframe thead th {\n",
       "        text-align: right;\n",
       "    }\n",
       "</style>\n",
       "<table border=\"1\" class=\"dataframe\">\n",
       "  <thead>\n",
       "    <tr style=\"text-align: right;\">\n",
       "      <th></th>\n",
       "      <th>Observation station</th>\n",
       "      <th>Year</th>\n",
       "      <th>Month</th>\n",
       "      <th>Day</th>\n",
       "      <th>Time [Local time]</th>\n",
       "      <th>Inhalable particles &lt;10 µm [µg/m3]</th>\n",
       "      <th>DateTime</th>\n",
       "    </tr>\n",
       "  </thead>\n",
       "  <tbody>\n",
       "    <tr>\n",
       "      <th>0</th>\n",
       "      <td>Muonio Sammaltunturi</td>\n",
       "      <td>2020</td>\n",
       "      <td>1</td>\n",
       "      <td>1</td>\n",
       "      <td>01:00</td>\n",
       "      <td>0</td>\n",
       "      <td>2020-01-01 01:00:00</td>\n",
       "    </tr>\n",
       "    <tr>\n",
       "      <th>1</th>\n",
       "      <td>Muonio Sammaltunturi</td>\n",
       "      <td>2020</td>\n",
       "      <td>1</td>\n",
       "      <td>1</td>\n",
       "      <td>02:00</td>\n",
       "      <td>0</td>\n",
       "      <td>2020-01-01 02:00:00</td>\n",
       "    </tr>\n",
       "    <tr>\n",
       "      <th>2</th>\n",
       "      <td>Muonio Sammaltunturi</td>\n",
       "      <td>2020</td>\n",
       "      <td>1</td>\n",
       "      <td>1</td>\n",
       "      <td>03:00</td>\n",
       "      <td>0</td>\n",
       "      <td>2020-01-01 03:00:00</td>\n",
       "    </tr>\n",
       "  </tbody>\n",
       "</table>\n",
       "</div>"
      ],
      "text/plain": [
       "    Observation station  Year  Month  Day Time [Local time]  \\\n",
       "0  Muonio Sammaltunturi  2020      1    1             01:00   \n",
       "1  Muonio Sammaltunturi  2020      1    1             02:00   \n",
       "2  Muonio Sammaltunturi  2020      1    1             03:00   \n",
       "\n",
       "  Inhalable particles <10 µm [µg/m3]             DateTime  \n",
       "0                                  0  2020-01-01 01:00:00  \n",
       "1                                  0  2020-01-01 02:00:00  \n",
       "2                                  0  2020-01-01 03:00:00  "
      ]
     },
     "execution_count": 86,
     "metadata": {},
     "output_type": "execute_result"
    }
   ],
   "source": [
    "muonio_df_tmp.head(3)"
   ]
  },
  {
   "cell_type": "markdown",
   "id": "012c7d84",
   "metadata": {},
   "source": [
    "We remove some fields that are redundant"
   ]
  },
  {
   "cell_type": "code",
   "execution_count": 87,
   "id": "5ca6edbe",
   "metadata": {},
   "outputs": [
    {
     "data": {
      "text/html": [
       "<div>\n",
       "<style scoped>\n",
       "    .dataframe tbody tr th:only-of-type {\n",
       "        vertical-align: middle;\n",
       "    }\n",
       "\n",
       "    .dataframe tbody tr th {\n",
       "        vertical-align: top;\n",
       "    }\n",
       "\n",
       "    .dataframe thead th {\n",
       "        text-align: right;\n",
       "    }\n",
       "</style>\n",
       "<table border=\"1\" class=\"dataframe\">\n",
       "  <thead>\n",
       "    <tr style=\"text-align: right;\">\n",
       "      <th></th>\n",
       "      <th>Inhalable particles &lt;10 µm [µg/m3]</th>\n",
       "      <th>DateTime</th>\n",
       "    </tr>\n",
       "  </thead>\n",
       "  <tbody>\n",
       "    <tr>\n",
       "      <th>0</th>\n",
       "      <td>0</td>\n",
       "      <td>2020-01-01 01:00:00</td>\n",
       "    </tr>\n",
       "    <tr>\n",
       "      <th>1</th>\n",
       "      <td>0</td>\n",
       "      <td>2020-01-01 02:00:00</td>\n",
       "    </tr>\n",
       "    <tr>\n",
       "      <th>2</th>\n",
       "      <td>0</td>\n",
       "      <td>2020-01-01 03:00:00</td>\n",
       "    </tr>\n",
       "  </tbody>\n",
       "</table>\n",
       "</div>"
      ],
      "text/plain": [
       "  Inhalable particles <10 µm [µg/m3]             DateTime\n",
       "0                                  0  2020-01-01 01:00:00\n",
       "1                                  0  2020-01-01 02:00:00\n",
       "2                                  0  2020-01-01 03:00:00"
      ]
     },
     "execution_count": 87,
     "metadata": {},
     "output_type": "execute_result"
    }
   ],
   "source": [
    "muonio_df_tmp = muonio_df_tmp.drop(['Observation station', 'Year', 'Month', 'Day', 'Time [Local time]'], axis=1)\n",
    "muonio_df_tmp.head(3)"
   ]
  },
  {
   "cell_type": "markdown",
   "id": "e0badc9d",
   "metadata": {},
   "source": [
    "We change the order of the fields"
   ]
  },
  {
   "cell_type": "code",
   "execution_count": 88,
   "id": "2388545d",
   "metadata": {},
   "outputs": [
    {
     "data": {
      "text/html": [
       "<div>\n",
       "<style scoped>\n",
       "    .dataframe tbody tr th:only-of-type {\n",
       "        vertical-align: middle;\n",
       "    }\n",
       "\n",
       "    .dataframe tbody tr th {\n",
       "        vertical-align: top;\n",
       "    }\n",
       "\n",
       "    .dataframe thead th {\n",
       "        text-align: right;\n",
       "    }\n",
       "</style>\n",
       "<table border=\"1\" class=\"dataframe\">\n",
       "  <thead>\n",
       "    <tr style=\"text-align: right;\">\n",
       "      <th></th>\n",
       "      <th>DateTime</th>\n",
       "      <th>Inhalable particles &lt;10 µm [µg/m3]</th>\n",
       "    </tr>\n",
       "  </thead>\n",
       "  <tbody>\n",
       "    <tr>\n",
       "      <th>0</th>\n",
       "      <td>2020-01-01 01:00:00</td>\n",
       "      <td>0</td>\n",
       "    </tr>\n",
       "    <tr>\n",
       "      <th>1</th>\n",
       "      <td>2020-01-01 02:00:00</td>\n",
       "      <td>0</td>\n",
       "    </tr>\n",
       "    <tr>\n",
       "      <th>2</th>\n",
       "      <td>2020-01-01 03:00:00</td>\n",
       "      <td>0</td>\n",
       "    </tr>\n",
       "  </tbody>\n",
       "</table>\n",
       "</div>"
      ],
      "text/plain": [
       "              DateTime Inhalable particles <10 µm [µg/m3]\n",
       "0  2020-01-01 01:00:00                                  0\n",
       "1  2020-01-01 02:00:00                                  0\n",
       "2  2020-01-01 03:00:00                                  0"
      ]
     },
     "execution_count": 88,
     "metadata": {},
     "output_type": "execute_result"
    }
   ],
   "source": [
    "cols = muonio_df_tmp.columns.to_list()\n",
    "cols = cols[-1:] + cols[:-1]\n",
    "muonio_df_tmp = muonio_df_tmp[cols]\n",
    "muonio_df_tmp.head(3)"
   ]
  },
  {
   "cell_type": "markdown",
   "id": "aceb9c7f",
   "metadata": {},
   "source": [
    "We rename the pollutant field"
   ]
  },
  {
   "cell_type": "code",
   "execution_count": 89,
   "id": "cabbea57",
   "metadata": {},
   "outputs": [
    {
     "data": {
      "text/html": [
       "<div>\n",
       "<style scoped>\n",
       "    .dataframe tbody tr th:only-of-type {\n",
       "        vertical-align: middle;\n",
       "    }\n",
       "\n",
       "    .dataframe tbody tr th {\n",
       "        vertical-align: top;\n",
       "    }\n",
       "\n",
       "    .dataframe thead th {\n",
       "        text-align: right;\n",
       "    }\n",
       "</style>\n",
       "<table border=\"1\" class=\"dataframe\">\n",
       "  <thead>\n",
       "    <tr style=\"text-align: right;\">\n",
       "      <th></th>\n",
       "      <th>DateTime</th>\n",
       "      <th>PM10</th>\n",
       "    </tr>\n",
       "  </thead>\n",
       "  <tbody>\n",
       "    <tr>\n",
       "      <th>0</th>\n",
       "      <td>2020-01-01 01:00:00</td>\n",
       "      <td>0</td>\n",
       "    </tr>\n",
       "    <tr>\n",
       "      <th>1</th>\n",
       "      <td>2020-01-01 02:00:00</td>\n",
       "      <td>0</td>\n",
       "    </tr>\n",
       "    <tr>\n",
       "      <th>2</th>\n",
       "      <td>2020-01-01 03:00:00</td>\n",
       "      <td>0</td>\n",
       "    </tr>\n",
       "  </tbody>\n",
       "</table>\n",
       "</div>"
      ],
      "text/plain": [
       "              DateTime PM10\n",
       "0  2020-01-01 01:00:00    0\n",
       "1  2020-01-01 02:00:00    0\n",
       "2  2020-01-01 03:00:00    0"
      ]
     },
     "execution_count": 89,
     "metadata": {},
     "output_type": "execute_result"
    }
   ],
   "source": [
    "muonio_df_tmp = muonio_df_tmp.rename(columns={'Inhalable particles <10 µm [µg/m3]':'PM10'})\n",
    "muonio_df_tmp.head(3)"
   ]
  },
  {
   "cell_type": "markdown",
   "id": "a2d57f23",
   "metadata": {},
   "source": [
    "The values are stored as string so that we have to change the type into a float but before that we have to set all the string values that do not represent a number to NaN (Not a Number)"
   ]
  },
  {
   "cell_type": "code",
   "execution_count": 95,
   "id": "c5e28b0f",
   "metadata": {},
   "outputs": [],
   "source": [
    "muonio_df_tmp[muonio_df_tmp['PM10'] == '-'] = 'NaN'"
   ]
  },
  {
   "cell_type": "markdown",
   "id": "03726612",
   "metadata": {},
   "source": [
    "Now we can set the type of the column 'PM10' as float"
   ]
  },
  {
   "cell_type": "code",
   "execution_count": 97,
   "id": "d28a967b",
   "metadata": {},
   "outputs": [],
   "source": [
    "muonio_df_tmp['PM10'] = muonio_df_tmp['PM10'].astype(float)"
   ]
  },
  {
   "cell_type": "markdown",
   "id": "fccb9256",
   "metadata": {},
   "source": [
    "We want to use the DateTime field as the index of our time series"
   ]
  },
  {
   "cell_type": "markdown",
   "id": "8f268259",
   "metadata": {},
   "source": [
    "We want to aggregate the values of each day so that for each day we have the mean value of PM10 for that day"
   ]
  },
  {
   "cell_type": "code",
   "execution_count": 98,
   "id": "f902ea89",
   "metadata": {},
   "outputs": [],
   "source": [
    "date_index = pd.to_datetime(muonio_df_tmp['DateTime'])\n",
    "muonio_df_tmp.drop(['DateTime'], axis=1, inplace=True)\n",
    "muonio_df = muonio_df_tmp.set_index(date_index)"
   ]
  },
  {
   "cell_type": "markdown",
   "id": "47c4658f",
   "metadata": {},
   "source": [
    "Now we can select, for example, the observations for January 1st 2020 from midnight to 6 o' clock in the morning"
   ]
  },
  {
   "cell_type": "code",
   "execution_count": 99,
   "id": "02dda3c3",
   "metadata": {},
   "outputs": [
    {
     "data": {
      "text/html": [
       "<div>\n",
       "<style scoped>\n",
       "    .dataframe tbody tr th:only-of-type {\n",
       "        vertical-align: middle;\n",
       "    }\n",
       "\n",
       "    .dataframe tbody tr th {\n",
       "        vertical-align: top;\n",
       "    }\n",
       "\n",
       "    .dataframe thead th {\n",
       "        text-align: right;\n",
       "    }\n",
       "</style>\n",
       "<table border=\"1\" class=\"dataframe\">\n",
       "  <thead>\n",
       "    <tr style=\"text-align: right;\">\n",
       "      <th></th>\n",
       "      <th>PM10</th>\n",
       "    </tr>\n",
       "    <tr>\n",
       "      <th>DateTime</th>\n",
       "      <th></th>\n",
       "    </tr>\n",
       "  </thead>\n",
       "  <tbody>\n",
       "    <tr>\n",
       "      <th>2020-01-01 01:00:00</th>\n",
       "      <td>0.0</td>\n",
       "    </tr>\n",
       "    <tr>\n",
       "      <th>2020-01-01 02:00:00</th>\n",
       "      <td>0.0</td>\n",
       "    </tr>\n",
       "    <tr>\n",
       "      <th>2020-01-01 03:00:00</th>\n",
       "      <td>0.0</td>\n",
       "    </tr>\n",
       "    <tr>\n",
       "      <th>2020-01-01 04:00:00</th>\n",
       "      <td>0.7</td>\n",
       "    </tr>\n",
       "    <tr>\n",
       "      <th>2020-01-01 05:00:00</th>\n",
       "      <td>0.2</td>\n",
       "    </tr>\n",
       "    <tr>\n",
       "      <th>2020-01-01 06:00:00</th>\n",
       "      <td>0.5</td>\n",
       "    </tr>\n",
       "  </tbody>\n",
       "</table>\n",
       "</div>"
      ],
      "text/plain": [
       "                     PM10\n",
       "DateTime                 \n",
       "2020-01-01 01:00:00   0.0\n",
       "2020-01-01 02:00:00   0.0\n",
       "2020-01-01 03:00:00   0.0\n",
       "2020-01-01 04:00:00   0.7\n",
       "2020-01-01 05:00:00   0.2\n",
       "2020-01-01 06:00:00   0.5"
      ]
     },
     "execution_count": 99,
     "metadata": {},
     "output_type": "execute_result"
    }
   ],
   "source": [
    "muonio_df[:'2020-01-01 06:00:00']"
   ]
  },
  {
   "cell_type": "markdown",
   "id": "2c80dd08",
   "metadata": {},
   "source": [
    "### Time series resampling\n",
    "The data preparation step is completed. Now we want to aggregate the observations for each single day, that is we have to compute the mean value for each day from the hourly observations. This operation technically is called resampling and since we reduce the frequency yof the observation it is called more specifically downsampling. We resample the data by day and then by month"
   ]
  },
  {
   "cell_type": "code",
   "execution_count": 108,
   "id": "7c9913ac",
   "metadata": {},
   "outputs": [
    {
     "data": {
      "text/html": [
       "<div>\n",
       "<style scoped>\n",
       "    .dataframe tbody tr th:only-of-type {\n",
       "        vertical-align: middle;\n",
       "    }\n",
       "\n",
       "    .dataframe tbody tr th {\n",
       "        vertical-align: top;\n",
       "    }\n",
       "\n",
       "    .dataframe thead th {\n",
       "        text-align: right;\n",
       "    }\n",
       "</style>\n",
       "<table border=\"1\" class=\"dataframe\">\n",
       "  <thead>\n",
       "    <tr style=\"text-align: right;\">\n",
       "      <th></th>\n",
       "      <th>PM10</th>\n",
       "    </tr>\n",
       "    <tr>\n",
       "      <th>DateTime</th>\n",
       "      <th></th>\n",
       "    </tr>\n",
       "  </thead>\n",
       "  <tbody>\n",
       "    <tr>\n",
       "      <th>2020-01-01</th>\n",
       "      <td>0.978261</td>\n",
       "    </tr>\n",
       "    <tr>\n",
       "      <th>2020-01-02</th>\n",
       "      <td>1.033333</td>\n",
       "    </tr>\n",
       "    <tr>\n",
       "      <th>2020-01-03</th>\n",
       "      <td>3.045833</td>\n",
       "    </tr>\n",
       "    <tr>\n",
       "      <th>2020-01-04</th>\n",
       "      <td>0.830000</td>\n",
       "    </tr>\n",
       "    <tr>\n",
       "      <th>2020-01-05</th>\n",
       "      <td>0.008333</td>\n",
       "    </tr>\n",
       "    <tr>\n",
       "      <th>...</th>\n",
       "      <td>...</td>\n",
       "    </tr>\n",
       "    <tr>\n",
       "      <th>2022-12-28</th>\n",
       "      <td>1.279167</td>\n",
       "    </tr>\n",
       "    <tr>\n",
       "      <th>2022-12-29</th>\n",
       "      <td>0.575000</td>\n",
       "    </tr>\n",
       "    <tr>\n",
       "      <th>2022-12-30</th>\n",
       "      <td>2.486957</td>\n",
       "    </tr>\n",
       "    <tr>\n",
       "      <th>2022-12-31</th>\n",
       "      <td>1.620833</td>\n",
       "    </tr>\n",
       "    <tr>\n",
       "      <th>2023-01-01</th>\n",
       "      <td>1.600000</td>\n",
       "    </tr>\n",
       "  </tbody>\n",
       "</table>\n",
       "<p>1097 rows × 1 columns</p>\n",
       "</div>"
      ],
      "text/plain": [
       "                PM10\n",
       "DateTime            \n",
       "2020-01-01  0.978261\n",
       "2020-01-02  1.033333\n",
       "2020-01-03  3.045833\n",
       "2020-01-04  0.830000\n",
       "2020-01-05  0.008333\n",
       "...              ...\n",
       "2022-12-28  1.279167\n",
       "2022-12-29  0.575000\n",
       "2022-12-30  2.486957\n",
       "2022-12-31  1.620833\n",
       "2023-01-01  1.600000\n",
       "\n",
       "[1097 rows x 1 columns]"
      ]
     },
     "execution_count": 108,
     "metadata": {},
     "output_type": "execute_result"
    }
   ],
   "source": [
    "muonio_days_df = muonio_df.resample('D').mean()\n",
    "muonio_days_df"
   ]
  },
  {
   "cell_type": "markdown",
   "id": "781e2c24",
   "metadata": {},
   "source": [
    "We resample by month and we can see that for March and April 2020 and February and March 2021 there are no observations"
   ]
  },
  {
   "cell_type": "code",
   "execution_count": 115,
   "id": "257182ce",
   "metadata": {},
   "outputs": [
    {
     "data": {
      "text/html": [
       "<div>\n",
       "<style scoped>\n",
       "    .dataframe tbody tr th:only-of-type {\n",
       "        vertical-align: middle;\n",
       "    }\n",
       "\n",
       "    .dataframe tbody tr th {\n",
       "        vertical-align: top;\n",
       "    }\n",
       "\n",
       "    .dataframe thead th {\n",
       "        text-align: right;\n",
       "    }\n",
       "</style>\n",
       "<table border=\"1\" class=\"dataframe\">\n",
       "  <thead>\n",
       "    <tr style=\"text-align: right;\">\n",
       "      <th></th>\n",
       "      <th>PM10</th>\n",
       "    </tr>\n",
       "    <tr>\n",
       "      <th>DateTime</th>\n",
       "      <th></th>\n",
       "    </tr>\n",
       "  </thead>\n",
       "  <tbody>\n",
       "    <tr>\n",
       "      <th>2020-01-31</th>\n",
       "      <td>0.596802</td>\n",
       "    </tr>\n",
       "    <tr>\n",
       "      <th>2020-02-29</th>\n",
       "      <td>0.214286</td>\n",
       "    </tr>\n",
       "    <tr>\n",
       "      <th>2020-03-31</th>\n",
       "      <td>NaN</td>\n",
       "    </tr>\n",
       "    <tr>\n",
       "      <th>2020-04-30</th>\n",
       "      <td>NaN</td>\n",
       "    </tr>\n",
       "    <tr>\n",
       "      <th>2020-05-31</th>\n",
       "      <td>3.049431</td>\n",
       "    </tr>\n",
       "  </tbody>\n",
       "</table>\n",
       "</div>"
      ],
      "text/plain": [
       "                PM10\n",
       "DateTime            \n",
       "2020-01-31  0.596802\n",
       "2020-02-29  0.214286\n",
       "2020-03-31       NaN\n",
       "2020-04-30       NaN\n",
       "2020-05-31  3.049431"
      ]
     },
     "execution_count": 115,
     "metadata": {},
     "output_type": "execute_result"
    }
   ],
   "source": [
    "muonio_months_df = muonio_days_df.resample('M').mean()\n",
    "muonio_months_df['2020-01-31':'2020-05-31']"
   ]
  },
  {
   "cell_type": "code",
   "execution_count": 132,
   "id": "e9c29337",
   "metadata": {},
   "outputs": [
    {
     "data": {
      "text/plain": [
       "[<matplotlib.lines.Line2D at 0x1a435e5bed0>]"
      ]
     },
     "execution_count": 132,
     "metadata": {},
     "output_type": "execute_result"
    },
    {
     "data": {
      "image/png": "[encoded data removed]",
      "text/plain": [
       "<Figure size 1000x500 with 1 Axes>"
      ]
     },
     "metadata": {},
     "output_type": "display_data"
    }
   ],
   "source": [
    "fig = plt.figure(figsize=(10,5))\n",
    "ax = fig.add_subplot()\n",
    "ax.grid(True)\n",
    "ax.set_title('Muonio Sammaltunturi PM10')\n",
    "ax.set_ylabel('[microg/m^3]')\n",
    "ax.set_xticks(muonio_months_df.index)\n",
    "ax.set_xticklabels(muonio_months_df.index, rotation=70)\n",
    "ax.xaxis.set_major_formatter(mdates.DateFormatter('%Y-%m'))\n",
    "plt.plot(muonio_months_df.dropna())"
   ]
  },
  {
   "cell_type": "markdown",
   "id": "b63af022",
   "metadata": {},
   "source": [
    "\n",
    "## References\n",
    "* [Fazzini et al. - Forecasting PM10 Levels Using Machine Learning Models in the Arctic: A Comparative Study](https://www.mdpi.com/2072-4292/15/13/3348)  \n",
    "* [ECMWF - CAMS Regional: European air quality analysis and forecast data documentation](https://confluence.ecmwf.int/display/CKB/CAMS+Regional%3A+European+air+quality+analysis+and+forecast+data+documentation)"
   ]
  },
  {
   "cell_type": "code",
   "execution_count": null,
   "id": "44c03021",
   "metadata": {},
   "outputs": [],
   "source": []
  }
 ],
 "metadata": {
  "kernelspec": {
   "display_name": "Python 3 (ipykernel)",
   "language": "python",
   "name": "python3"
  },
  "language_info": {
   "codemirror_mode": {
    "name": "ipython",
    "version": 3
   },
   "file_extension": ".py",
   "mimetype": "text/x-python",
   "name": "python",
   "nbconvert_exporter": "python",
   "pygments_lexer": "ipython3",
   "version": "3.11.3"
  }
 },
 "nbformat": 4,
 "nbformat_minor": 5
}
