{
 "cells": [
  {
   "cell_type": "markdown",
   "id": "f1608fb9",
   "metadata": {},
   "source": [
    "# Air Quality Assessment in the Arctic\n",
    "In this notebook we analyze the air quality in the arctic area using the data from ground stations located in European arctic\n",
    "\n",
    "* Grundartangi Groef, Iceland (EEA st.52149) \n",
    "* Kopavogur Dalsmari, Iceland (EEA st.52109)\n",
    "* Oulu Pyykoesjaervi, Finland (EEA st. 15557)\n",
    "* Oulun Keskusta 2, Finland (EEA st. 15609)\n",
    "* Tromso, Norway (EEA st. 62993) \n",
    "* Muonio Sammaltunturi, Finland (FMI st. 101983) \n",
    "\n",
    "The datasets are provided by the [Finnish Meteorological Institute (FMI)](https://en.ilmatieteenlaitos.fi/download-observations) and the [European Environmental Agency (EEA)](https://discomap.eea.europa.eu/map/fme/AirQualityExport.htm). The aim of the project is to build a model to predict the state of environmental variables such as the PM10. The prediction will be compared with that from the [CAMS service](https://ads.atmosphere.copernicus.eu/cdsapp#!/dataset/cams-europe-air-quality-forecasts). The prediction provided by the CAMS are the result of an ensemble of 9 air quality numerical models. An air quality model integrates a dynamical model of the atmosphere with the chemical-physical equations of the air components. The CAMS numerical models use as input the data assimilated from a network of ground stations and satellite sensors and return as output a grid that represents the horizontal and vertical distribution of the air quality variables with a prediction of their future state.      \n"
   ]
  },
  {
   "cell_type": "code",
   "execution_count": 1,
   "id": "54aa5555",
   "metadata": {},
   "outputs": [],
   "source": [
    "import pandas as pd\n",
    "import numpy as np\n",
    "#import geopandas as gpd\n",
    "#from shapely.geometry import Point, LineString, Polygon\n",
    "import matplotlib.pyplot as plt"
   ]
  },
  {
   "cell_type": "markdown",
   "id": "e631a4c4",
   "metadata": {},
   "source": [
    "## The datasets\n",
    "Five of the 6 datasets can be downloaded from the EEA website by selecting the name of the country, the polluttant (PM10), and the years. Each station has a code number that can be used to filter out the files to be dowloaded. The dataset of the station managed by the FMI, Muonio Sammaltunturi, can be downloaded from the FMI website by selecting the hourly Air Quality observations of the Muonio Sammaltunturi meteorological institute for the inhalable particles <10 $\\mu m$ and the time period.    \n"
   ]
  },
  {
   "cell_type": "code",
   "execution_count": 2,
   "id": "5a9b3cce",
   "metadata": {},
   "outputs": [
    {
     "data": {
      "text/html": [
       "<div>\n",
       "<style scoped>\n",
       "    .dataframe tbody tr th:only-of-type {\n",
       "        vertical-align: middle;\n",
       "    }\n",
       "\n",
       "    .dataframe tbody tr th {\n",
       "        vertical-align: top;\n",
       "    }\n",
       "\n",
       "    .dataframe thead th {\n",
       "        text-align: right;\n",
       "    }\n",
       "</style>\n",
       "<table border=\"1\" class=\"dataframe\">\n",
       "  <thead>\n",
       "    <tr style=\"text-align: right;\">\n",
       "      <th></th>\n",
       "      <th>Observation station</th>\n",
       "      <th>Year</th>\n",
       "      <th>Month</th>\n",
       "      <th>Day</th>\n",
       "      <th>Time [Local time]</th>\n",
       "      <th>Inhalable particles &lt;10 µm [µg/m3]</th>\n",
       "    </tr>\n",
       "  </thead>\n",
       "  <tbody>\n",
       "    <tr>\n",
       "      <th>0</th>\n",
       "      <td>Muonio Sammaltunturi</td>\n",
       "      <td>2020</td>\n",
       "      <td>1</td>\n",
       "      <td>1</td>\n",
       "      <td>01:00</td>\n",
       "      <td>0</td>\n",
       "    </tr>\n",
       "    <tr>\n",
       "      <th>1</th>\n",
       "      <td>Muonio Sammaltunturi</td>\n",
       "      <td>2020</td>\n",
       "      <td>1</td>\n",
       "      <td>1</td>\n",
       "      <td>02:00</td>\n",
       "      <td>0</td>\n",
       "    </tr>\n",
       "    <tr>\n",
       "      <th>2</th>\n",
       "      <td>Muonio Sammaltunturi</td>\n",
       "      <td>2020</td>\n",
       "      <td>1</td>\n",
       "      <td>1</td>\n",
       "      <td>03:00</td>\n",
       "      <td>0</td>\n",
       "    </tr>\n",
       "  </tbody>\n",
       "</table>\n",
       "</div>"
      ],
      "text/plain": [
       "    Observation station  Year  Month  Day Time [Local time]  \\\n",
       "0  Muonio Sammaltunturi  2020      1    1             01:00   \n",
       "1  Muonio Sammaltunturi  2020      1    1             02:00   \n",
       "2  Muonio Sammaltunturi  2020      1    1             03:00   \n",
       "\n",
       "  Inhalable particles <10 µm [µg/m3]  \n",
       "0                                  0  \n",
       "1                                  0  \n",
       "2                                  0  "
      ]
     },
     "execution_count": 2,
     "metadata": {},
     "output_type": "execute_result"
    }
   ],
   "source": [
    "path_muonio = 'data/fmi/101983/Muonio_Sammaltunturi.csv'\n",
    "muonio_df = pd.read_csv(path_muonio)\n",
    "muonio_df.head(3)"
   ]
  },
  {
   "cell_type": "code",
   "execution_count": 9,
   "id": "b34cbf7f",
   "metadata": {},
   "outputs": [],
   "source": [
    "year = muonio_df['Year']\n",
    "month = muonio_df['Month']\n",
    "day = muonio_df['Day']\n",
    "\n",
    "def ddigit(value):\n",
    "    if (value < 10):\n",
    "        return '0' + str(value)\n",
    "    else:\n",
    "        return str(value)\n",
    "\n",
    "muonio_df['Date'] = year.apply(lambda year: str(year)) + '-' \\\n",
    "                  + month.apply(lambda month: ddigit(month)) + '-' \\\n",
    "                  + day.apply(lambda day: ddigit(day))"
   ]
  },
  {
   "cell_type": "code",
   "execution_count": 11,
   "id": "a266458b",
   "metadata": {},
   "outputs": [
    {
     "data": {
      "text/html": [
       "<div>\n",
       "<style scoped>\n",
       "    .dataframe tbody tr th:only-of-type {\n",
       "        vertical-align: middle;\n",
       "    }\n",
       "\n",
       "    .dataframe tbody tr th {\n",
       "        vertical-align: top;\n",
       "    }\n",
       "\n",
       "    .dataframe thead th {\n",
       "        text-align: right;\n",
       "    }\n",
       "</style>\n",
       "<table border=\"1\" class=\"dataframe\">\n",
       "  <thead>\n",
       "    <tr style=\"text-align: right;\">\n",
       "      <th></th>\n",
       "      <th>Observation station</th>\n",
       "      <th>Year</th>\n",
       "      <th>Month</th>\n",
       "      <th>Day</th>\n",
       "      <th>Time [Local time]</th>\n",
       "      <th>Inhalable particles &lt;10 µm [µg/m3]</th>\n",
       "      <th>Date</th>\n",
       "    </tr>\n",
       "  </thead>\n",
       "  <tbody>\n",
       "    <tr>\n",
       "      <th>0</th>\n",
       "      <td>Muonio Sammaltunturi</td>\n",
       "      <td>2020</td>\n",
       "      <td>1</td>\n",
       "      <td>1</td>\n",
       "      <td>01:00</td>\n",
       "      <td>0</td>\n",
       "      <td>2020-01-01</td>\n",
       "    </tr>\n",
       "    <tr>\n",
       "      <th>1</th>\n",
       "      <td>Muonio Sammaltunturi</td>\n",
       "      <td>2020</td>\n",
       "      <td>1</td>\n",
       "      <td>1</td>\n",
       "      <td>02:00</td>\n",
       "      <td>0</td>\n",
       "      <td>2020-01-01</td>\n",
       "    </tr>\n",
       "    <tr>\n",
       "      <th>2</th>\n",
       "      <td>Muonio Sammaltunturi</td>\n",
       "      <td>2020</td>\n",
       "      <td>1</td>\n",
       "      <td>1</td>\n",
       "      <td>03:00</td>\n",
       "      <td>0</td>\n",
       "      <td>2020-01-01</td>\n",
       "    </tr>\n",
       "  </tbody>\n",
       "</table>\n",
       "</div>"
      ],
      "text/plain": [
       "    Observation station  Year  Month  Day Time [Local time]  \\\n",
       "0  Muonio Sammaltunturi  2020      1    1             01:00   \n",
       "1  Muonio Sammaltunturi  2020      1    1             02:00   \n",
       "2  Muonio Sammaltunturi  2020      1    1             03:00   \n",
       "\n",
       "  Inhalable particles <10 µm [µg/m3]        Date  \n",
       "0                                  0  2020-01-01  \n",
       "1                                  0  2020-01-01  \n",
       "2                                  0  2020-01-01  "
      ]
     },
     "execution_count": 11,
     "metadata": {},
     "output_type": "execute_result"
    }
   ],
   "source": [
    "muonio_df.head(3)"
   ]
  },
  {
   "cell_type": "markdown",
   "id": "b63af022",
   "metadata": {},
   "source": [
    "## References\n",
    "* [Fazzini et al. - Forecasting PM10 Levels Using Machine Learning Models in the Arctic: A Comparative Study](https://www.mdpi.com/2072-4292/15/13/3348)  \n",
    "* [ECMWF - CAMS Regional: European air quality analysis and forecast data documentation](https://confluence.ecmwf.int/display/CKB/CAMS+Regional%3A+European+air+quality+analysis+and+forecast+data+documentation)"
   ]
  },
  {
   "cell_type": "code",
   "execution_count": null,
   "id": "44c03021",
   "metadata": {},
   "outputs": [],
   "source": []
  }
 ],
 "metadata": {
  "kernelspec": {
   "display_name": "Python 3 (ipykernel)",
   "language": "python",
   "name": "python3"
  },
  "language_info": {
   "codemirror_mode": {
    "name": "ipython",
    "version": 3
   },
   "file_extension": ".py",
   "mimetype": "text/x-python",
   "name": "python",
   "nbconvert_exporter": "python",
   "pygments_lexer": "ipython3",
   "version": "3.11.3"
  }
 },
 "nbformat": 4,
 "nbformat_minor": 5
}
