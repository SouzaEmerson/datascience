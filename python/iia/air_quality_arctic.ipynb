{
 "cells": [
  {
   "cell_type": "markdown",
   "id": "f1608fb9",
   "metadata": {},
   "source": [
    "# Air Quality Assessment in the Arctic\n",
    "In this notebook we analyze the air quality in the arctic area using the data from ground stations located in European arctic\n",
    "\n",
    "* Grundartangi Groef, Iceland (EEA st.52149) \n",
    "* Kopavogur Dalsmari, Iceland (EEA st.52109)\n",
    "* Oulu Pyykoesjaervi, Finland (EEA st. 15557)\n",
    "* Oulun Keskusta 2, Finland (EEA st. 15609)\n",
    "* Tromso, Norway (EEA st. 62993) \n",
    "* Muonio Sammaltunturi, Finland (FMI st. 101983) \n",
    "\n",
    "The datasets are provided by the [Finnish Meteorological Institute (FMI)](https://en.ilmatieteenlaitos.fi/download-observations) and the [European Environmental Agency (EEA)](https://discomap.eea.europa.eu/map/fme/AirQualityExport.htm). The aim of the project is to build a model to predict the state of environmental variables such as the PM10. The prediction will be compared with that from the [CAMS service](https://ads.atmosphere.copernicus.eu/cdsapp#!/dataset/cams-europe-air-quality-forecasts). The prediction provided by the CAMS are the result of an ensemble of 9 air quality numerical models. An air quality model integrates a dynamical model of the atmosphere with the chemical-physical equations of the air components. The CAMS numerical models use as input the data assimilated from a network of ground stations and satellite sensors and return as output a grid that represents the horizontal and vertical distribution of the air quality variables with a prediction of their future state.      \n"
   ]
  },
  {
   "cell_type": "code",
   "execution_count": 2,
   "id": "54aa5555",
   "metadata": {},
   "outputs": [],
   "source": [
    "import pandas as pd\n",
    "import numpy as np\n",
    "import matplotlib.pyplot as plt"
   ]
  },
  {
   "cell_type": "markdown",
   "id": "e631a4c4",
   "metadata": {},
   "source": [
    "## The datasets\n",
    "Five of the 6 datasets can be downloaded from the EEA website by selecting the name of the country, the polluttant (PM10), and the years. Each station has a code number that can be used to filter out the files to be dowloaded. The dataset of the station managed by the FMI, Muonio Sammaltunturi, can be downloaded from the FMI website by selecting the hourly Air Quality observations of the Muonio Sammaltunturi meteorological institute for the inhalable particles <10 $\\mu m$ and the time period.    \n"
   ]
  },
  {
   "cell_type": "code",
   "execution_count": 3,
   "id": "5a9b3cce",
   "metadata": {},
   "outputs": [
    {
     "data": {
      "text/html": [
       "<div>\n",
       "<style scoped>\n",
       "    .dataframe tbody tr th:only-of-type {\n",
       "        vertical-align: middle;\n",
       "    }\n",
       "\n",
       "    .dataframe tbody tr th {\n",
       "        vertical-align: top;\n",
       "    }\n",
       "\n",
       "    .dataframe thead th {\n",
       "        text-align: right;\n",
       "    }\n",
       "</style>\n",
       "<table border=\"1\" class=\"dataframe\">\n",
       "  <thead>\n",
       "    <tr style=\"text-align: right;\">\n",
       "      <th></th>\n",
       "      <th>Observation station</th>\n",
       "      <th>Year</th>\n",
       "      <th>Month</th>\n",
       "      <th>Day</th>\n",
       "      <th>Time [Local time]</th>\n",
       "      <th>Inhalable particles &lt;10 µm [µg/m3]</th>\n",
       "    </tr>\n",
       "  </thead>\n",
       "  <tbody>\n",
       "    <tr>\n",
       "      <th>0</th>\n",
       "      <td>Muonio Sammaltunturi</td>\n",
       "      <td>2020</td>\n",
       "      <td>1</td>\n",
       "      <td>1</td>\n",
       "      <td>01:00</td>\n",
       "      <td>0</td>\n",
       "    </tr>\n",
       "    <tr>\n",
       "      <th>1</th>\n",
       "      <td>Muonio Sammaltunturi</td>\n",
       "      <td>2020</td>\n",
       "      <td>1</td>\n",
       "      <td>1</td>\n",
       "      <td>02:00</td>\n",
       "      <td>0</td>\n",
       "    </tr>\n",
       "    <tr>\n",
       "      <th>2</th>\n",
       "      <td>Muonio Sammaltunturi</td>\n",
       "      <td>2020</td>\n",
       "      <td>1</td>\n",
       "      <td>1</td>\n",
       "      <td>03:00</td>\n",
       "      <td>0</td>\n",
       "    </tr>\n",
       "  </tbody>\n",
       "</table>\n",
       "</div>"
      ],
      "text/plain": [
       "    Observation station  Year  Month  Day Time [Local time]  \\\n",
       "0  Muonio Sammaltunturi  2020      1    1             01:00   \n",
       "1  Muonio Sammaltunturi  2020      1    1             02:00   \n",
       "2  Muonio Sammaltunturi  2020      1    1             03:00   \n",
       "\n",
       "  Inhalable particles <10 µm [µg/m3]  \n",
       "0                                  0  \n",
       "1                                  0  \n",
       "2                                  0  "
      ]
     },
     "execution_count": 3,
     "metadata": {},
     "output_type": "execute_result"
    }
   ],
   "source": [
    "path_muonio = 'data/fmi/101983/Muonio_Sammaltunturi.csv'\n",
    "muonio_df = pd.read_csv(path_muonio)\n",
    "muonio_df.head(3)"
   ]
  },
  {
   "cell_type": "code",
   "execution_count": 4,
   "id": "b34cbf7f",
   "metadata": {},
   "outputs": [],
   "source": [
    "year = muonio_df['Year']\n",
    "month = muonio_df['Month']\n",
    "day = muonio_df['Day']\n",
    "\n",
    "def ddigit(value):\n",
    "    if (value < 10):\n",
    "        return '0' + str(value)\n",
    "    else:\n",
    "        return str(value)\n",
    "\n",
    "muonio_df['Date'] = year.apply(lambda year: str(year)) + '-' \\\n",
    "                  + month.apply(lambda month: ddigit(month)) + '-' \\\n",
    "                  + day.apply(lambda day: ddigit(day))"
   ]
  },
  {
   "cell_type": "code",
   "execution_count": 5,
   "id": "a266458b",
   "metadata": {},
   "outputs": [
    {
     "data": {
      "text/html": [
       "<div>\n",
       "<style scoped>\n",
       "    .dataframe tbody tr th:only-of-type {\n",
       "        vertical-align: middle;\n",
       "    }\n",
       "\n",
       "    .dataframe tbody tr th {\n",
       "        vertical-align: top;\n",
       "    }\n",
       "\n",
       "    .dataframe thead th {\n",
       "        text-align: right;\n",
       "    }\n",
       "</style>\n",
       "<table border=\"1\" class=\"dataframe\">\n",
       "  <thead>\n",
       "    <tr style=\"text-align: right;\">\n",
       "      <th></th>\n",
       "      <th>Observation station</th>\n",
       "      <th>Year</th>\n",
       "      <th>Month</th>\n",
       "      <th>Day</th>\n",
       "      <th>Time [Local time]</th>\n",
       "      <th>Inhalable particles &lt;10 µm [µg/m3]</th>\n",
       "      <th>Date</th>\n",
       "    </tr>\n",
       "  </thead>\n",
       "  <tbody>\n",
       "    <tr>\n",
       "      <th>0</th>\n",
       "      <td>Muonio Sammaltunturi</td>\n",
       "      <td>2020</td>\n",
       "      <td>1</td>\n",
       "      <td>1</td>\n",
       "      <td>01:00</td>\n",
       "      <td>0</td>\n",
       "      <td>2020-01-01</td>\n",
       "    </tr>\n",
       "    <tr>\n",
       "      <th>1</th>\n",
       "      <td>Muonio Sammaltunturi</td>\n",
       "      <td>2020</td>\n",
       "      <td>1</td>\n",
       "      <td>1</td>\n",
       "      <td>02:00</td>\n",
       "      <td>0</td>\n",
       "      <td>2020-01-01</td>\n",
       "    </tr>\n",
       "    <tr>\n",
       "      <th>2</th>\n",
       "      <td>Muonio Sammaltunturi</td>\n",
       "      <td>2020</td>\n",
       "      <td>1</td>\n",
       "      <td>1</td>\n",
       "      <td>03:00</td>\n",
       "      <td>0</td>\n",
       "      <td>2020-01-01</td>\n",
       "    </tr>\n",
       "  </tbody>\n",
       "</table>\n",
       "</div>"
      ],
      "text/plain": [
       "    Observation station  Year  Month  Day Time [Local time]  \\\n",
       "0  Muonio Sammaltunturi  2020      1    1             01:00   \n",
       "1  Muonio Sammaltunturi  2020      1    1             02:00   \n",
       "2  Muonio Sammaltunturi  2020      1    1             03:00   \n",
       "\n",
       "  Inhalable particles <10 µm [µg/m3]        Date  \n",
       "0                                  0  2020-01-01  \n",
       "1                                  0  2020-01-01  \n",
       "2                                  0  2020-01-01  "
      ]
     },
     "execution_count": 5,
     "metadata": {},
     "output_type": "execute_result"
    }
   ],
   "source": [
    "muonio_df.head(3)"
   ]
  },
  {
   "cell_type": "markdown",
   "id": "012c7d84",
   "metadata": {},
   "source": [
    "We remove some fields that are redundant"
   ]
  },
  {
   "cell_type": "code",
   "execution_count": 18,
   "id": "5ca6edbe",
   "metadata": {},
   "outputs": [],
   "source": [
    "muonio_df_prep = muonio_df.drop(['Observation station', 'Year', 'Month', 'Day'], axis=1)"
   ]
  },
  {
   "cell_type": "markdown",
   "id": "e0badc9d",
   "metadata": {},
   "source": [
    "We change the order of the fields"
   ]
  },
  {
   "cell_type": "code",
   "execution_count": 47,
   "id": "2388545d",
   "metadata": {},
   "outputs": [
    {
     "data": {
      "text/html": [
       "<div>\n",
       "<style scoped>\n",
       "    .dataframe tbody tr th:only-of-type {\n",
       "        vertical-align: middle;\n",
       "    }\n",
       "\n",
       "    .dataframe tbody tr th {\n",
       "        vertical-align: top;\n",
       "    }\n",
       "\n",
       "    .dataframe thead th {\n",
       "        text-align: right;\n",
       "    }\n",
       "</style>\n",
       "<table border=\"1\" class=\"dataframe\">\n",
       "  <thead>\n",
       "    <tr style=\"text-align: right;\">\n",
       "      <th></th>\n",
       "      <th>Date</th>\n",
       "      <th>Time [Local time]</th>\n",
       "      <th>Inhalable particles &lt;10 µm [µg/m3]</th>\n",
       "    </tr>\n",
       "  </thead>\n",
       "  <tbody>\n",
       "    <tr>\n",
       "      <th>0</th>\n",
       "      <td>2020-01-01</td>\n",
       "      <td>01:00</td>\n",
       "      <td>0</td>\n",
       "    </tr>\n",
       "    <tr>\n",
       "      <th>1</th>\n",
       "      <td>2020-01-01</td>\n",
       "      <td>02:00</td>\n",
       "      <td>0</td>\n",
       "    </tr>\n",
       "    <tr>\n",
       "      <th>2</th>\n",
       "      <td>2020-01-01</td>\n",
       "      <td>03:00</td>\n",
       "      <td>0</td>\n",
       "    </tr>\n",
       "  </tbody>\n",
       "</table>\n",
       "</div>"
      ],
      "text/plain": [
       "         Date Time [Local time] Inhalable particles <10 µm [µg/m3]\n",
       "0  2020-01-01             01:00                                  0\n",
       "1  2020-01-01             02:00                                  0\n",
       "2  2020-01-01             03:00                                  0"
      ]
     },
     "execution_count": 47,
     "metadata": {},
     "output_type": "execute_result"
    }
   ],
   "source": [
    "cols = muonio_df_prep.columns.to_list()\n",
    "cols = cols[-1:] + cols[:-1]\n",
    "muonio_df_prep1 = muonio_df_prep[cols]\n",
    "muonio_df_prep1.head(3)"
   ]
  },
  {
   "cell_type": "markdown",
   "id": "aceb9c7f",
   "metadata": {},
   "source": [
    "We rename the fields"
   ]
  },
  {
   "cell_type": "code",
   "execution_count": 48,
   "id": "cabbea57",
   "metadata": {},
   "outputs": [
    {
     "data": {
      "text/html": [
       "<div>\n",
       "<style scoped>\n",
       "    .dataframe tbody tr th:only-of-type {\n",
       "        vertical-align: middle;\n",
       "    }\n",
       "\n",
       "    .dataframe tbody tr th {\n",
       "        vertical-align: top;\n",
       "    }\n",
       "\n",
       "    .dataframe thead th {\n",
       "        text-align: right;\n",
       "    }\n",
       "</style>\n",
       "<table border=\"1\" class=\"dataframe\">\n",
       "  <thead>\n",
       "    <tr style=\"text-align: right;\">\n",
       "      <th></th>\n",
       "      <th>Date</th>\n",
       "      <th>Time</th>\n",
       "      <th>PM10</th>\n",
       "    </tr>\n",
       "  </thead>\n",
       "  <tbody>\n",
       "    <tr>\n",
       "      <th>0</th>\n",
       "      <td>2020-01-01</td>\n",
       "      <td>01:00</td>\n",
       "      <td>0</td>\n",
       "    </tr>\n",
       "    <tr>\n",
       "      <th>1</th>\n",
       "      <td>2020-01-01</td>\n",
       "      <td>02:00</td>\n",
       "      <td>0</td>\n",
       "    </tr>\n",
       "    <tr>\n",
       "      <th>2</th>\n",
       "      <td>2020-01-01</td>\n",
       "      <td>03:00</td>\n",
       "      <td>0</td>\n",
       "    </tr>\n",
       "  </tbody>\n",
       "</table>\n",
       "</div>"
      ],
      "text/plain": [
       "         Date   Time PM10\n",
       "0  2020-01-01  01:00    0\n",
       "1  2020-01-01  02:00    0\n",
       "2  2020-01-01  03:00    0"
      ]
     },
     "execution_count": 48,
     "metadata": {},
     "output_type": "execute_result"
    }
   ],
   "source": [
    "muonio_df_prep2 = muonio_df_prep1.rename(columns={'Time [Local time]':'Time', 'Inhalable particles <10 µm [µg/m3]':'PM10'})\n",
    "muonio_df_prep2.head(3)"
   ]
  },
  {
   "cell_type": "markdown",
   "id": "8f268259",
   "metadata": {},
   "source": [
    "We want to aggregate the values of each day so that for each day we have the mean value of PM10 for that day"
   ]
  },
  {
   "cell_type": "code",
   "execution_count": null,
   "id": "7c9913ac",
   "metadata": {},
   "outputs": [],
   "source": [
    "mean_pm10 = []\n",
    "for (method, group) in muonio_df_prep2.groupby('Date').sum('PM10'):\n",
    "    print(group)\n",
    "print(days)"
   ]
  },
  {
   "cell_type": "code",
   "execution_count": 52,
   "id": "4fcc613f",
   "metadata": {},
   "outputs": [
    {
     "data": {
      "text/html": [
       "<div>\n",
       "<style scoped>\n",
       "    .dataframe tbody tr th:only-of-type {\n",
       "        vertical-align: middle;\n",
       "    }\n",
       "\n",
       "    .dataframe tbody tr th {\n",
       "        vertical-align: top;\n",
       "    }\n",
       "\n",
       "    .dataframe thead th {\n",
       "        text-align: right;\n",
       "    }\n",
       "</style>\n",
       "<table border=\"1\" class=\"dataframe\">\n",
       "  <thead>\n",
       "    <tr style=\"text-align: right;\">\n",
       "      <th></th>\n",
       "      <th>Date</th>\n",
       "      <th>Time</th>\n",
       "      <th>PM10</th>\n",
       "    </tr>\n",
       "  </thead>\n",
       "  <tbody>\n",
       "    <tr>\n",
       "      <th>0</th>\n",
       "      <td>2020-01-01</td>\n",
       "      <td>01:00</td>\n",
       "      <td>0</td>\n",
       "    </tr>\n",
       "    <tr>\n",
       "      <th>1</th>\n",
       "      <td>2020-01-01</td>\n",
       "      <td>02:00</td>\n",
       "      <td>0</td>\n",
       "    </tr>\n",
       "    <tr>\n",
       "      <th>2</th>\n",
       "      <td>2020-01-01</td>\n",
       "      <td>03:00</td>\n",
       "      <td>0</td>\n",
       "    </tr>\n",
       "    <tr>\n",
       "      <th>3</th>\n",
       "      <td>2020-01-01</td>\n",
       "      <td>04:00</td>\n",
       "      <td>0.7</td>\n",
       "    </tr>\n",
       "    <tr>\n",
       "      <th>4</th>\n",
       "      <td>2020-01-01</td>\n",
       "      <td>05:00</td>\n",
       "      <td>0.2</td>\n",
       "    </tr>\n",
       "    <tr>\n",
       "      <th>...</th>\n",
       "      <td>...</td>\n",
       "      <td>...</td>\n",
       "      <td>...</td>\n",
       "    </tr>\n",
       "    <tr>\n",
       "      <th>26296</th>\n",
       "      <td>2022-12-31</td>\n",
       "      <td>20:00</td>\n",
       "      <td>1.7</td>\n",
       "    </tr>\n",
       "    <tr>\n",
       "      <th>26297</th>\n",
       "      <td>2022-12-31</td>\n",
       "      <td>21:00</td>\n",
       "      <td>1.4</td>\n",
       "    </tr>\n",
       "    <tr>\n",
       "      <th>26298</th>\n",
       "      <td>2022-12-31</td>\n",
       "      <td>22:00</td>\n",
       "      <td>1.8</td>\n",
       "    </tr>\n",
       "    <tr>\n",
       "      <th>26299</th>\n",
       "      <td>2022-12-31</td>\n",
       "      <td>23:00</td>\n",
       "      <td>1.6</td>\n",
       "    </tr>\n",
       "    <tr>\n",
       "      <th>26300</th>\n",
       "      <td>2023-01-01</td>\n",
       "      <td>00:00</td>\n",
       "      <td>1.6</td>\n",
       "    </tr>\n",
       "  </tbody>\n",
       "</table>\n",
       "<p>26301 rows × 3 columns</p>\n",
       "</div>"
      ],
      "text/plain": [
       "             Date   Time PM10\n",
       "0      2020-01-01  01:00    0\n",
       "1      2020-01-01  02:00    0\n",
       "2      2020-01-01  03:00    0\n",
       "3      2020-01-01  04:00  0.7\n",
       "4      2020-01-01  05:00  0.2\n",
       "...           ...    ...  ...\n",
       "26296  2022-12-31  20:00  1.7\n",
       "26297  2022-12-31  21:00  1.4\n",
       "26298  2022-12-31  22:00  1.8\n",
       "26299  2022-12-31  23:00  1.6\n",
       "26300  2023-01-01  00:00  1.6\n",
       "\n",
       "[26301 rows x 3 columns]"
      ]
     },
     "execution_count": 52,
     "metadata": {},
     "output_type": "execute_result"
    }
   ],
   "source": [
    "muonio_df_prep2"
   ]
  },
  {
   "cell_type": "markdown",
   "id": "b63af022",
   "metadata": {},
   "source": [
    "## References\n",
    "* [Fazzini et al. - Forecasting PM10 Levels Using Machine Learning Models in the Arctic: A Comparative Study](https://www.mdpi.com/2072-4292/15/13/3348)  \n",
    "* [ECMWF - CAMS Regional: European air quality analysis and forecast data documentation](https://confluence.ecmwf.int/display/CKB/CAMS+Regional%3A+European+air+quality+analysis+and+forecast+data+documentation)"
   ]
  },
  {
   "cell_type": "code",
   "execution_count": null,
   "id": "44c03021",
   "metadata": {},
   "outputs": [],
   "source": []
  }
 ],
 "metadata": {
  "kernelspec": {
   "display_name": "Python 3 (ipykernel)",
   "language": "python",
   "name": "python3"
  },
  "language_info": {
   "codemirror_mode": {
    "name": "ipython",
    "version": 3
   },
   "file_extension": ".py",
   "mimetype": "text/x-python",
   "name": "python",
   "nbconvert_exporter": "python",
   "pygments_lexer": "ipython3",
   "version": "3.11.3"
  }
 },
 "nbformat": 4,
 "nbformat_minor": 5
}
