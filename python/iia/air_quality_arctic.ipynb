{
 "cells": [
  {
   "cell_type": "markdown",
   "id": "f1608fb9",
   "metadata": {},
   "source": [
    "# Air Quality Assessment in the Arctic\n",
    "In this notebook we analyze the air quality in the arctic area using the data from ground stations located in European arctic\n",
    "\n",
    "* Grundartangi Groef, Iceland (EEA st.52149, OpenAQ [location 10698](https://explore.openaq.org/locations/10698) (64.3342, -21.8357)) \n",
    "* Kopavogur Dalsmari, Iceland (EEA st.52109, OpenAQ [location 7659](https://explore.openaq.org/locations/7659) (64.105, -21.889))\n",
    "* Pyykoesjaervi, Oulu, Finland (EEA st. 15557 (65.0662, 25.5838))\n",
    "* Oulu Keskusta 2, Finland (EEA st. 15609 (65.0159, 25.4694))\n",
    "* Tromso Rambergan, Norway (EEA st. 62993, OpenAQ [location 10518](https://explore.openaq.org/locations/10518), (69.6543, 18.9564)) \n",
    "* Muonio Sammaltunturi, Finland (FMI st. 101983 (67.9671, 24.1167)) \n",
    "\n",
    "The monitoring of the air composition in Eu countries is based on the [2008/50/EU directive](https://eur-lex.europa.eu/legal-content/en/ALL/?uri=CELEX:32008L0050). The datasets are provided by the [Finnish Meteorological Institute (FMI)](https://en.ilmatieteenlaitos.fi/download-observations) and [OpenAQ](https://openaq.org/). The observations retrieved are from January 2020 up to December 2022. The measurement error is considered from the number of digits of the recorded values, e.g. 6.5 $\\pm$ 0.1 $\\mu g/m^3$. The aim of the project is to build a model to predict the state of environmental variables such as the PM10. The prediction will be compared with that from the [CAMS service](https://ads.atmosphere.copernicus.eu/cdsapp#!/dataset/cams-europe-air-quality-forecasts). The prediction provided by the CAMS are the result of an ensemble of 9 air quality numerical models. An air quality model integrates a dynamical model of the atmosphere with the chemical-physical equations of the air components. The CAMS numerical models use as input the data assimilated from a network of ground stations and satellite sensors and return as output a grid that represents the horizontal and vertical distribution of the air quality variables with a prediction of their future state.      \n"
   ]
  },
  {
   "cell_type": "code",
   "execution_count": 1,
   "id": "54aa5555",
   "metadata": {},
   "outputs": [
    {
     "name": "stdout",
     "output_type": "stream",
     "text": [
      "Python version: 3.11.5\n",
      "NumPy version: 1.25.2\n",
      "Pandas version: 2.1.1\n",
      "GDAL version: 3.7.2\n",
      "GeoPandas version: 0.14.0\n"
     ]
    }
   ],
   "source": [
    "import pandas as pd\n",
    "import numpy as np\n",
    "import matplotlib.pyplot as plt\n",
    "import matplotlib.dates as mdates\n",
    "from osgeo import gdal, osr, ogr\n",
    "import geopandas as gpd\n",
    "from shapely.geometry import Point\n",
    "import warnings\n",
    "warnings.filterwarnings('ignore')\n",
    "from platform import python_version\n",
    "print(\"Python version: %s\"%python_version())\n",
    "print(\"NumPy version: %s\"%np.__version__)\n",
    "print(\"Pandas version: %s\"%pd.__version__)\n",
    "print('GDAL version: %s'%gdal.__version__)\n",
    "print(\"GeoPandas version: %s\"%gpd.__version__)"
   ]
  },
  {
   "cell_type": "markdown",
   "id": "7a9970f7-d793-4d7b-92ea-337b7677b7dc",
   "metadata": {},
   "source": [
    "## The in-situ monitoring stations\n",
    "The stations are based in three countries in the arctic region: Finland, Norway, and Island."
   ]
  },
  {
   "cell_type": "code",
   "execution_count": 2,
   "id": "9f6d5549-aeb0-43c8-bd35-42589980e860",
   "metadata": {},
   "outputs": [
    {
     "data": {
      "text/html": [
       "<div style=\"width:100%;\"><div style=\"position:relative;width:100%;height:0;padding-bottom:60%;\"><span style=\"color:#565656\">Make this Notebook Trusted to load map: File -> Trust Notebook</span><iframe srcdoc=\"&lt;!DOCTYPE html&gt;\n",
       "&lt;html&gt;\n",
       "&lt;head&gt;\n",
       "    \n",
       "    &lt;meta http-equiv=&quot;content-type&quot; content=&quot;text/html; charset=UTF-8&quot; /&gt;\n",
       "    \n",
       "        &lt;script&gt;\n",
       "            L_NO_TOUCH = false;\n",
       "            L_DISABLE_3D = false;\n",
       "        &lt;/script&gt;\n",
       "    \n",
       "    &lt;style&gt;html, body {width: 100%;height: 100%;margin: 0;padding: 0;}&lt;/style&gt;\n",
       "    &lt;style&gt;#map {position:absolute;top:0;bottom:0;right:0;left:0;}&lt;/style&gt;\n",
       "    &lt;script src=&quot;https://cdn.jsdelivr.net/npm/leaflet@1.9.3/dist/leaflet.js&quot;&gt;&lt;/script&gt;\n",
       "    &lt;script src=&quot;https://code.jquery.com/jquery-1.12.4.min.js&quot;&gt;&lt;/script&gt;\n",
       "    &lt;script src=&quot;https://cdn.jsdelivr.net/npm/bootstrap@5.2.2/dist/js/bootstrap.bundle.min.js&quot;&gt;&lt;/script&gt;\n",
       "    &lt;script src=&quot;https://cdnjs.cloudflare.com/ajax/libs/Leaflet.awesome-markers/2.0.2/leaflet.awesome-markers.js&quot;&gt;&lt;/script&gt;\n",
       "    &lt;link rel=&quot;stylesheet&quot; href=&quot;https://cdn.jsdelivr.net/npm/leaflet@1.9.3/dist/leaflet.css&quot;/&gt;\n",
       "    &lt;link rel=&quot;stylesheet&quot; href=&quot;https://cdn.jsdelivr.net/npm/bootstrap@5.2.2/dist/css/bootstrap.min.css&quot;/&gt;\n",
       "    &lt;link rel=&quot;stylesheet&quot; href=&quot;https://netdna.bootstrapcdn.com/bootstrap/3.0.0/css/bootstrap.min.css&quot;/&gt;\n",
       "    &lt;link rel=&quot;stylesheet&quot; href=&quot;https://cdn.jsdelivr.net/npm/@fortawesome/fontawesome-free@6.2.0/css/all.min.css&quot;/&gt;\n",
       "    &lt;link rel=&quot;stylesheet&quot; href=&quot;https://cdnjs.cloudflare.com/ajax/libs/Leaflet.awesome-markers/2.0.2/leaflet.awesome-markers.css&quot;/&gt;\n",
       "    &lt;link rel=&quot;stylesheet&quot; href=&quot;https://cdn.jsdelivr.net/gh/python-visualization/folium/folium/templates/leaflet.awesome.rotate.min.css&quot;/&gt;\n",
       "    \n",
       "            &lt;meta name=&quot;viewport&quot; content=&quot;width=device-width,\n",
       "                initial-scale=1.0, maximum-scale=1.0, user-scalable=no&quot; /&gt;\n",
       "            &lt;style&gt;\n",
       "                #map_f8248bff979231c32107cdf393437aeb {\n",
       "                    position: relative;\n",
       "                    width: 100.0%;\n",
       "                    height: 100.0%;\n",
       "                    left: 0.0%;\n",
       "                    top: 0.0%;\n",
       "                }\n",
       "                .leaflet-container { font-size: 1rem; }\n",
       "            &lt;/style&gt;\n",
       "        \n",
       "    \n",
       "                    &lt;style&gt;\n",
       "                        .foliumtooltip {\n",
       "                            \n",
       "                        }\n",
       "                       .foliumtooltip table{\n",
       "                            margin: auto;\n",
       "                        }\n",
       "                        .foliumtooltip tr{\n",
       "                            text-align: left;\n",
       "                        }\n",
       "                        .foliumtooltip th{\n",
       "                            padding: 2px; padding-right: 8px;\n",
       "                        }\n",
       "                    &lt;/style&gt;\n",
       "            \n",
       "&lt;/head&gt;\n",
       "&lt;body&gt;\n",
       "    \n",
       "    \n",
       "            &lt;div class=&quot;folium-map&quot; id=&quot;map_f8248bff979231c32107cdf393437aeb&quot; &gt;&lt;/div&gt;\n",
       "        \n",
       "&lt;/body&gt;\n",
       "&lt;script&gt;\n",
       "    \n",
       "    \n",
       "            var map_f8248bff979231c32107cdf393437aeb = L.map(\n",
       "                &quot;map_f8248bff979231c32107cdf393437aeb&quot;,\n",
       "                {\n",
       "                    center: [66.87965, 1.8474000000000004],\n",
       "                    crs: L.CRS.EPSG3857,\n",
       "                    zoom: 4,\n",
       "                    zoomControl: true,\n",
       "                    preferCanvas: false,\n",
       "                }\n",
       "            );\n",
       "            L.control.scale().addTo(map_f8248bff979231c32107cdf393437aeb);\n",
       "\n",
       "            \n",
       "\n",
       "        \n",
       "    \n",
       "            var tile_layer_7d459653f020762fdafce81e16c22bc3 = L.tileLayer(\n",
       "                &quot;https://{s}.tile.openstreetmap.org/{z}/{x}/{y}.png&quot;,\n",
       "                {&quot;attribution&quot;: &quot;Data by \\u0026copy; \\u003ca target=\\&quot;_blank\\&quot; href=\\&quot;http://openstreetmap.org\\&quot;\\u003eOpenStreetMap\\u003c/a\\u003e, under \\u003ca target=\\&quot;_blank\\&quot; href=\\&quot;http://www.openstreetmap.org/copyright\\&quot;\\u003eODbL\\u003c/a\\u003e.&quot;, &quot;detectRetina&quot;: false, &quot;maxNativeZoom&quot;: 18, &quot;maxZoom&quot;: 18, &quot;minZoom&quot;: 0, &quot;noWrap&quot;: false, &quot;opacity&quot;: 1, &quot;subdomains&quot;: &quot;abc&quot;, &quot;tms&quot;: false}\n",
       "            ).addTo(map_f8248bff979231c32107cdf393437aeb);\n",
       "        \n",
       "    \n",
       "        function geo_json_a68b3ed4a105ccbdb5408d2296a28c56_styler(feature) {\n",
       "            switch(feature.id) {\n",
       "                default:\n",
       "                    return {&quot;fillOpacity&quot;: 0.5, &quot;weight&quot;: 2};\n",
       "            }\n",
       "        }\n",
       "        function geo_json_a68b3ed4a105ccbdb5408d2296a28c56_highlighter(feature) {\n",
       "            switch(feature.id) {\n",
       "                default:\n",
       "                    return {&quot;fillOpacity&quot;: 0.75};\n",
       "            }\n",
       "        }\n",
       "        function geo_json_a68b3ed4a105ccbdb5408d2296a28c56_pointToLayer(feature, latlng) {\n",
       "            var opts = {&quot;bubblingMouseEvents&quot;: true, &quot;color&quot;: &quot;#3388ff&quot;, &quot;dashArray&quot;: null, &quot;dashOffset&quot;: null, &quot;fill&quot;: true, &quot;fillColor&quot;: &quot;#3388ff&quot;, &quot;fillOpacity&quot;: 0.2, &quot;fillRule&quot;: &quot;evenodd&quot;, &quot;lineCap&quot;: &quot;round&quot;, &quot;lineJoin&quot;: &quot;round&quot;, &quot;opacity&quot;: 1.0, &quot;radius&quot;: &quot;3&quot;, &quot;stroke&quot;: true, &quot;weight&quot;: 3};\n",
       "            \n",
       "            let style = geo_json_a68b3ed4a105ccbdb5408d2296a28c56_styler(feature)\n",
       "            Object.assign(opts, style)\n",
       "            \n",
       "            return new L.CircleMarker(latlng, opts)\n",
       "        }\n",
       "\n",
       "        function geo_json_a68b3ed4a105ccbdb5408d2296a28c56_onEachFeature(feature, layer) {\n",
       "            layer.on({\n",
       "                mouseout: function(e) {\n",
       "                    if(typeof e.target.setStyle === &quot;function&quot;){\n",
       "                        geo_json_a68b3ed4a105ccbdb5408d2296a28c56.resetStyle(e.target);\n",
       "                    }\n",
       "                },\n",
       "                mouseover: function(e) {\n",
       "                    if(typeof e.target.setStyle === &quot;function&quot;){\n",
       "                        const highlightStyle = geo_json_a68b3ed4a105ccbdb5408d2296a28c56_highlighter(e.target.feature)\n",
       "                        e.target.setStyle(highlightStyle);\n",
       "                    }\n",
       "                },\n",
       "            });\n",
       "        };\n",
       "        var geo_json_a68b3ed4a105ccbdb5408d2296a28c56 = L.geoJson(null, {\n",
       "                onEachFeature: geo_json_a68b3ed4a105ccbdb5408d2296a28c56_onEachFeature,\n",
       "            \n",
       "                style: geo_json_a68b3ed4a105ccbdb5408d2296a28c56_styler,\n",
       "                pointToLayer: geo_json_a68b3ed4a105ccbdb5408d2296a28c56_pointToLayer\n",
       "        });\n",
       "\n",
       "        function geo_json_a68b3ed4a105ccbdb5408d2296a28c56_add (data) {\n",
       "            geo_json_a68b3ed4a105ccbdb5408d2296a28c56\n",
       "                .addData(data)\n",
       "                .addTo(map_f8248bff979231c32107cdf393437aeb);\n",
       "        }\n",
       "            geo_json_a68b3ed4a105ccbdb5408d2296a28c56_add({&quot;bbox&quot;: [-21.889, 64.105, 25.5838, 69.6543], &quot;features&quot;: [{&quot;bbox&quot;: [-21.7754, 64.3613, -21.7754, 64.3613], &quot;geometry&quot;: {&quot;coordinates&quot;: [-21.7754, 64.3613], &quot;type&quot;: &quot;Point&quot;}, &quot;id&quot;: &quot;0&quot;, &quot;properties&quot;: {&quot;Station&quot;: &quot;Grundartangi Groef&quot;}, &quot;type&quot;: &quot;Feature&quot;}, {&quot;bbox&quot;: [-21.889, 64.105, -21.889, 64.105], &quot;geometry&quot;: {&quot;coordinates&quot;: [-21.889, 64.105], &quot;type&quot;: &quot;Point&quot;}, &quot;id&quot;: &quot;1&quot;, &quot;properties&quot;: {&quot;Station&quot;: &quot;Kopavogur Dalsmari&quot;}, &quot;type&quot;: &quot;Feature&quot;}, {&quot;bbox&quot;: [25.5838, 65.0662, 25.5838, 65.0662], &quot;geometry&quot;: {&quot;coordinates&quot;: [25.5838, 65.0662], &quot;type&quot;: &quot;Point&quot;}, &quot;id&quot;: &quot;2&quot;, &quot;properties&quot;: {&quot;Station&quot;: &quot;Pyykoesjaervi Oulu&quot;}, &quot;type&quot;: &quot;Feature&quot;}, {&quot;bbox&quot;: [25.4694, 65.0159, 25.4694, 65.0159], &quot;geometry&quot;: {&quot;coordinates&quot;: [25.4694, 65.0159], &quot;type&quot;: &quot;Point&quot;}, &quot;id&quot;: &quot;3&quot;, &quot;properties&quot;: {&quot;Station&quot;: &quot;Oulu Keskusta 2&quot;}, &quot;type&quot;: &quot;Feature&quot;}, {&quot;bbox&quot;: [18.9564, 69.6543, 18.9564, 69.6543], &quot;geometry&quot;: {&quot;coordinates&quot;: [18.9564, 69.6543], &quot;type&quot;: &quot;Point&quot;}, &quot;id&quot;: &quot;4&quot;, &quot;properties&quot;: {&quot;Station&quot;: &quot;Tromso Rambergan&quot;}, &quot;type&quot;: &quot;Feature&quot;}, {&quot;bbox&quot;: [24.1167, 67.9671, 24.1167, 67.9671], &quot;geometry&quot;: {&quot;coordinates&quot;: [24.1167, 67.9671], &quot;type&quot;: &quot;Point&quot;}, &quot;id&quot;: &quot;5&quot;, &quot;properties&quot;: {&quot;Station&quot;: &quot;Muonio Sammaltunturi&quot;}, &quot;type&quot;: &quot;Feature&quot;}], &quot;type&quot;: &quot;FeatureCollection&quot;});\n",
       "\n",
       "        \n",
       "    \n",
       "    geo_json_a68b3ed4a105ccbdb5408d2296a28c56.bindTooltip(\n",
       "    function(layer){\n",
       "    let div = L.DomUtil.create(&#x27;div&#x27;);\n",
       "    \n",
       "    let handleObject = feature=&gt;typeof(feature)==&#x27;object&#x27; ? JSON.stringify(feature) : feature;\n",
       "    let fields = [&quot;Station&quot;];\n",
       "    let aliases = [&quot;Station&quot;];\n",
       "    let table = &#x27;&lt;table&gt;&#x27; +\n",
       "        String(\n",
       "        fields.map(\n",
       "        (v,i)=&gt;\n",
       "        `&lt;tr&gt;\n",
       "            &lt;th&gt;${aliases[i]}&lt;/th&gt;\n",
       "            \n",
       "            &lt;td&gt;${handleObject(layer.feature.properties[v])}&lt;/td&gt;\n",
       "        &lt;/tr&gt;`).join(&#x27;&#x27;))\n",
       "    +&#x27;&lt;/table&gt;&#x27;;\n",
       "    div.innerHTML=table;\n",
       "    \n",
       "    return div\n",
       "    }\n",
       "    ,{&quot;className&quot;: &quot;foliumtooltip&quot;, &quot;sticky&quot;: true});\n",
       "                     \n",
       "&lt;/script&gt;\n",
       "&lt;/html&gt;\" style=\"position:absolute;width:100%;height:100%;left:0;top:0;border:none !important;\" allowfullscreen webkitallowfullscreen mozallowfullscreen></iframe></div></div>"
      ],
      "text/plain": [
       "<folium.folium.Map at 0x225ce6760d0>"
      ]
     },
     "execution_count": 2,
     "metadata": {},
     "output_type": "execute_result"
    }
   ],
   "source": [
    "GrundartangiGroef = Point(-21.7754, 64.3613)\n",
    "KopavogurDalsmari = Point(-21.889, 64.105)\n",
    "PyykoesjaerviOulu = Point(25.5838, 65.0662)\n",
    "OuluKeskusta2 = Point(25.4694, 65.0159)\n",
    "TromsoRambergan = Point(18.9564, 69.6543)\n",
    "MuonioSammaltunturi = Point(24.1167, 67.9671)\n",
    "location_names = ['Grundartangi Groef', 'Kopavogur Dalsmari', 'Pyykoesjaervi Oulu', 'Oulu Keskusta 2', 'Tromso Rambergan', 'Muonio Sammaltunturi']\n",
    "geometries = [GrundartangiGroef, KopavogurDalsmari, PyykoesjaerviOulu, OuluKeskusta2, TromsoRambergan, MuonioSammaltunturi]\n",
    "stations_dict = {'Station': location_names, 'geometry': geometries}\n",
    "stations_gdf = gpd.GeoDataFrame(stations_dict, crs='epsg:4326')\n",
    "stations_gdf.explore(zoom_start=4, marker_type='circle_marker', marker_kwds={'radius':'3'})"
   ]
  },
  {
   "cell_type": "code",
   "execution_count": 3,
   "id": "b28dc53b-7b41-42f3-a5c6-d45e4649e6cc",
   "metadata": {},
   "outputs": [
    {
     "data": {
      "text/plain": [
       "<Geographic 2D CRS: EPSG:4326>\n",
       "Name: WGS 84\n",
       "Axis Info [ellipsoidal]:\n",
       "- Lat[north]: Geodetic latitude (degree)\n",
       "- Lon[east]: Geodetic longitude (degree)\n",
       "Area of Use:\n",
       "- name: World.\n",
       "- bounds: (-180.0, -90.0, 180.0, 90.0)\n",
       "Datum: World Geodetic System 1984 ensemble\n",
       "- Ellipsoid: WGS 84\n",
       "- Prime Meridian: Greenwich"
      ]
     },
     "execution_count": 3,
     "metadata": {},
     "output_type": "execute_result"
    }
   ],
   "source": [
    "stations_gdf.crs"
   ]
  },
  {
   "cell_type": "markdown",
   "id": "e631a4c4",
   "metadata": {},
   "source": [
    "## The datasets\n",
    "Five of the 6 datasets can be downloaded from the EEA website by selecting the name of the country, the polluttant (PM10), and the years. Each station has a code number that can be used to filter out the files to be dowloaded. The dataset of the station managed by the FMI, Muonio Sammaltunturi, can be downloaded from the FMI website by selecting the hourly Air Quality observations of the Muonio Sammaltunturi meteorological institute for the inhalable particles <10 $\\mu m$ and the time period.    \n"
   ]
  },
  {
   "cell_type": "markdown",
   "id": "9d7305e5",
   "metadata": {},
   "source": [
    "## The Muonio Sammaltunturi dataset\n",
    "We use this dataset as a first exploration. Before the analysis we will perform a data preparation step by applying some transformation. The dataset is a subset of what is available from the FMI website and is related only to PM10. It contains a time series of hourly observation of the pollutant in $\\mu g/m^3$  "
   ]
  },
  {
   "cell_type": "code",
   "execution_count": 4,
   "id": "5a9b3cce",
   "metadata": {},
   "outputs": [
    {
     "data": {
      "text/html": [
       "<div>\n",
       "<style scoped>\n",
       "    .dataframe tbody tr th:only-of-type {\n",
       "        vertical-align: middle;\n",
       "    }\n",
       "\n",
       "    .dataframe tbody tr th {\n",
       "        vertical-align: top;\n",
       "    }\n",
       "\n",
       "    .dataframe thead th {\n",
       "        text-align: right;\n",
       "    }\n",
       "</style>\n",
       "<table border=\"1\" class=\"dataframe\">\n",
       "  <thead>\n",
       "    <tr style=\"text-align: right;\">\n",
       "      <th></th>\n",
       "      <th>Observation station</th>\n",
       "      <th>Year</th>\n",
       "      <th>Month</th>\n",
       "      <th>Day</th>\n",
       "      <th>Time [Local time]</th>\n",
       "      <th>Inhalable particles &lt;10 µm [µg/m3]</th>\n",
       "    </tr>\n",
       "  </thead>\n",
       "  <tbody>\n",
       "    <tr>\n",
       "      <th>0</th>\n",
       "      <td>Muonio Sammaltunturi</td>\n",
       "      <td>2020</td>\n",
       "      <td>1</td>\n",
       "      <td>1</td>\n",
       "      <td>01:00</td>\n",
       "      <td>0</td>\n",
       "    </tr>\n",
       "    <tr>\n",
       "      <th>1</th>\n",
       "      <td>Muonio Sammaltunturi</td>\n",
       "      <td>2020</td>\n",
       "      <td>1</td>\n",
       "      <td>1</td>\n",
       "      <td>02:00</td>\n",
       "      <td>0</td>\n",
       "    </tr>\n",
       "    <tr>\n",
       "      <th>2</th>\n",
       "      <td>Muonio Sammaltunturi</td>\n",
       "      <td>2020</td>\n",
       "      <td>1</td>\n",
       "      <td>1</td>\n",
       "      <td>03:00</td>\n",
       "      <td>0</td>\n",
       "    </tr>\n",
       "  </tbody>\n",
       "</table>\n",
       "</div>"
      ],
      "text/plain": [
       "    Observation station  Year  Month  Day Time [Local time]  \\\n",
       "0  Muonio Sammaltunturi  2020      1    1             01:00   \n",
       "1  Muonio Sammaltunturi  2020      1    1             02:00   \n",
       "2  Muonio Sammaltunturi  2020      1    1             03:00   \n",
       "\n",
       "  Inhalable particles <10 µm [µg/m3]  \n",
       "0                                  0  \n",
       "1                                  0  \n",
       "2                                  0  "
      ]
     },
     "execution_count": 4,
     "metadata": {},
     "output_type": "execute_result"
    }
   ],
   "source": [
    "path_muonio = 'data/fmi/101983/Muonio_Sammaltunturi.csv'\n",
    "muonio_df_tmp = pd.read_csv(path_muonio)\n",
    "muonio_df_tmp.head(3)"
   ]
  },
  {
   "cell_type": "markdown",
   "id": "b9b87a67",
   "metadata": {},
   "source": [
    "### Data preparation\n",
    "We will apply some transformations to the datasets by aggregating some of its columns and removing those that are redundant "
   ]
  },
  {
   "cell_type": "code",
   "execution_count": 5,
   "id": "b34cbf7f",
   "metadata": {},
   "outputs": [],
   "source": [
    "year = muonio_df_tmp['Year']\n",
    "month = muonio_df_tmp['Month']\n",
    "day = muonio_df_tmp['Day']\n",
    "time = muonio_df_tmp['Time [Local time]']\n",
    "\n",
    "def ddigit(value):\n",
    "    if (value < 10):\n",
    "        return '0' + str(value)\n",
    "    else:\n",
    "        return str(value)\n",
    "\n",
    "muonio_df_tmp['DateTime'] = year.apply(lambda year: str(year)) + '-' \\\n",
    "                  + month.apply(lambda month: ddigit(month)) + '-' \\\n",
    "                  + day.apply(lambda day: ddigit(day)) + ' ' \\\n",
    "                  + time.apply(lambda time: str(time)) + ':00'"
   ]
  },
  {
   "cell_type": "code",
   "execution_count": 6,
   "id": "a266458b",
   "metadata": {},
   "outputs": [
    {
     "data": {
      "text/html": [
       "<div>\n",
       "<style scoped>\n",
       "    .dataframe tbody tr th:only-of-type {\n",
       "        vertical-align: middle;\n",
       "    }\n",
       "\n",
       "    .dataframe tbody tr th {\n",
       "        vertical-align: top;\n",
       "    }\n",
       "\n",
       "    .dataframe thead th {\n",
       "        text-align: right;\n",
       "    }\n",
       "</style>\n",
       "<table border=\"1\" class=\"dataframe\">\n",
       "  <thead>\n",
       "    <tr style=\"text-align: right;\">\n",
       "      <th></th>\n",
       "      <th>Observation station</th>\n",
       "      <th>Year</th>\n",
       "      <th>Month</th>\n",
       "      <th>Day</th>\n",
       "      <th>Time [Local time]</th>\n",
       "      <th>Inhalable particles &lt;10 µm [µg/m3]</th>\n",
       "      <th>DateTime</th>\n",
       "    </tr>\n",
       "  </thead>\n",
       "  <tbody>\n",
       "    <tr>\n",
       "      <th>0</th>\n",
       "      <td>Muonio Sammaltunturi</td>\n",
       "      <td>2020</td>\n",
       "      <td>1</td>\n",
       "      <td>1</td>\n",
       "      <td>01:00</td>\n",
       "      <td>0</td>\n",
       "      <td>2020-01-01 01:00:00</td>\n",
       "    </tr>\n",
       "    <tr>\n",
       "      <th>1</th>\n",
       "      <td>Muonio Sammaltunturi</td>\n",
       "      <td>2020</td>\n",
       "      <td>1</td>\n",
       "      <td>1</td>\n",
       "      <td>02:00</td>\n",
       "      <td>0</td>\n",
       "      <td>2020-01-01 02:00:00</td>\n",
       "    </tr>\n",
       "    <tr>\n",
       "      <th>2</th>\n",
       "      <td>Muonio Sammaltunturi</td>\n",
       "      <td>2020</td>\n",
       "      <td>1</td>\n",
       "      <td>1</td>\n",
       "      <td>03:00</td>\n",
       "      <td>0</td>\n",
       "      <td>2020-01-01 03:00:00</td>\n",
       "    </tr>\n",
       "  </tbody>\n",
       "</table>\n",
       "</div>"
      ],
      "text/plain": [
       "    Observation station  Year  Month  Day Time [Local time]  \\\n",
       "0  Muonio Sammaltunturi  2020      1    1             01:00   \n",
       "1  Muonio Sammaltunturi  2020      1    1             02:00   \n",
       "2  Muonio Sammaltunturi  2020      1    1             03:00   \n",
       "\n",
       "  Inhalable particles <10 µm [µg/m3]             DateTime  \n",
       "0                                  0  2020-01-01 01:00:00  \n",
       "1                                  0  2020-01-01 02:00:00  \n",
       "2                                  0  2020-01-01 03:00:00  "
      ]
     },
     "execution_count": 6,
     "metadata": {},
     "output_type": "execute_result"
    }
   ],
   "source": [
    "muonio_df_tmp.head(3)"
   ]
  },
  {
   "cell_type": "markdown",
   "id": "012c7d84",
   "metadata": {},
   "source": [
    "We remove some fields that are redundant"
   ]
  },
  {
   "cell_type": "code",
   "execution_count": 7,
   "id": "5ca6edbe",
   "metadata": {},
   "outputs": [
    {
     "data": {
      "text/html": [
       "<div>\n",
       "<style scoped>\n",
       "    .dataframe tbody tr th:only-of-type {\n",
       "        vertical-align: middle;\n",
       "    }\n",
       "\n",
       "    .dataframe tbody tr th {\n",
       "        vertical-align: top;\n",
       "    }\n",
       "\n",
       "    .dataframe thead th {\n",
       "        text-align: right;\n",
       "    }\n",
       "</style>\n",
       "<table border=\"1\" class=\"dataframe\">\n",
       "  <thead>\n",
       "    <tr style=\"text-align: right;\">\n",
       "      <th></th>\n",
       "      <th>Inhalable particles &lt;10 µm [µg/m3]</th>\n",
       "      <th>DateTime</th>\n",
       "    </tr>\n",
       "  </thead>\n",
       "  <tbody>\n",
       "    <tr>\n",
       "      <th>0</th>\n",
       "      <td>0</td>\n",
       "      <td>2020-01-01 01:00:00</td>\n",
       "    </tr>\n",
       "    <tr>\n",
       "      <th>1</th>\n",
       "      <td>0</td>\n",
       "      <td>2020-01-01 02:00:00</td>\n",
       "    </tr>\n",
       "    <tr>\n",
       "      <th>2</th>\n",
       "      <td>0</td>\n",
       "      <td>2020-01-01 03:00:00</td>\n",
       "    </tr>\n",
       "  </tbody>\n",
       "</table>\n",
       "</div>"
      ],
      "text/plain": [
       "  Inhalable particles <10 µm [µg/m3]             DateTime\n",
       "0                                  0  2020-01-01 01:00:00\n",
       "1                                  0  2020-01-01 02:00:00\n",
       "2                                  0  2020-01-01 03:00:00"
      ]
     },
     "execution_count": 7,
     "metadata": {},
     "output_type": "execute_result"
    }
   ],
   "source": [
    "muonio_df_tmp = muonio_df_tmp.drop(['Observation station', 'Year', 'Month', 'Day', 'Time [Local time]'], axis=1)\n",
    "muonio_df_tmp.head(3)"
   ]
  },
  {
   "cell_type": "markdown",
   "id": "e0badc9d",
   "metadata": {},
   "source": [
    "We change the order of the fields"
   ]
  },
  {
   "cell_type": "code",
   "execution_count": 8,
   "id": "2388545d",
   "metadata": {},
   "outputs": [
    {
     "data": {
      "text/html": [
       "<div>\n",
       "<style scoped>\n",
       "    .dataframe tbody tr th:only-of-type {\n",
       "        vertical-align: middle;\n",
       "    }\n",
       "\n",
       "    .dataframe tbody tr th {\n",
       "        vertical-align: top;\n",
       "    }\n",
       "\n",
       "    .dataframe thead th {\n",
       "        text-align: right;\n",
       "    }\n",
       "</style>\n",
       "<table border=\"1\" class=\"dataframe\">\n",
       "  <thead>\n",
       "    <tr style=\"text-align: right;\">\n",
       "      <th></th>\n",
       "      <th>DateTime</th>\n",
       "      <th>Inhalable particles &lt;10 µm [µg/m3]</th>\n",
       "    </tr>\n",
       "  </thead>\n",
       "  <tbody>\n",
       "    <tr>\n",
       "      <th>0</th>\n",
       "      <td>2020-01-01 01:00:00</td>\n",
       "      <td>0</td>\n",
       "    </tr>\n",
       "    <tr>\n",
       "      <th>1</th>\n",
       "      <td>2020-01-01 02:00:00</td>\n",
       "      <td>0</td>\n",
       "    </tr>\n",
       "    <tr>\n",
       "      <th>2</th>\n",
       "      <td>2020-01-01 03:00:00</td>\n",
       "      <td>0</td>\n",
       "    </tr>\n",
       "  </tbody>\n",
       "</table>\n",
       "</div>"
      ],
      "text/plain": [
       "              DateTime Inhalable particles <10 µm [µg/m3]\n",
       "0  2020-01-01 01:00:00                                  0\n",
       "1  2020-01-01 02:00:00                                  0\n",
       "2  2020-01-01 03:00:00                                  0"
      ]
     },
     "execution_count": 8,
     "metadata": {},
     "output_type": "execute_result"
    }
   ],
   "source": [
    "cols = muonio_df_tmp.columns.to_list()\n",
    "cols = cols[-1:] + cols[:-1]\n",
    "muonio_df_tmp = muonio_df_tmp[cols]\n",
    "muonio_df_tmp.head(3)"
   ]
  },
  {
   "cell_type": "markdown",
   "id": "aceb9c7f",
   "metadata": {},
   "source": [
    "We rename the pollutant field"
   ]
  },
  {
   "cell_type": "code",
   "execution_count": 9,
   "id": "cabbea57",
   "metadata": {},
   "outputs": [
    {
     "data": {
      "text/html": [
       "<div>\n",
       "<style scoped>\n",
       "    .dataframe tbody tr th:only-of-type {\n",
       "        vertical-align: middle;\n",
       "    }\n",
       "\n",
       "    .dataframe tbody tr th {\n",
       "        vertical-align: top;\n",
       "    }\n",
       "\n",
       "    .dataframe thead th {\n",
       "        text-align: right;\n",
       "    }\n",
       "</style>\n",
       "<table border=\"1\" class=\"dataframe\">\n",
       "  <thead>\n",
       "    <tr style=\"text-align: right;\">\n",
       "      <th></th>\n",
       "      <th>DateTime</th>\n",
       "      <th>PM10</th>\n",
       "    </tr>\n",
       "  </thead>\n",
       "  <tbody>\n",
       "    <tr>\n",
       "      <th>0</th>\n",
       "      <td>2020-01-01 01:00:00</td>\n",
       "      <td>0</td>\n",
       "    </tr>\n",
       "    <tr>\n",
       "      <th>1</th>\n",
       "      <td>2020-01-01 02:00:00</td>\n",
       "      <td>0</td>\n",
       "    </tr>\n",
       "    <tr>\n",
       "      <th>2</th>\n",
       "      <td>2020-01-01 03:00:00</td>\n",
       "      <td>0</td>\n",
       "    </tr>\n",
       "  </tbody>\n",
       "</table>\n",
       "</div>"
      ],
      "text/plain": [
       "              DateTime PM10\n",
       "0  2020-01-01 01:00:00    0\n",
       "1  2020-01-01 02:00:00    0\n",
       "2  2020-01-01 03:00:00    0"
      ]
     },
     "execution_count": 9,
     "metadata": {},
     "output_type": "execute_result"
    }
   ],
   "source": [
    "muonio_df_tmp = muonio_df_tmp.rename(columns={'Inhalable particles <10 µm [µg/m3]':'PM10'})\n",
    "muonio_df_tmp.head(3)"
   ]
  },
  {
   "cell_type": "markdown",
   "id": "1399ad74",
   "metadata": {},
   "source": [
    "The values are stored as string so that we have to change the type into a float but before that we have to set all the string values that do not represent a number to NaN (Not a Number)"
   ]
  },
  {
   "cell_type": "code",
   "execution_count": 10,
   "id": "084a27e3",
   "metadata": {},
   "outputs": [],
   "source": [
    "muonio_df_tmp[muonio_df_tmp['PM10'] == '-'] = 'NaN'"
   ]
  },
  {
   "cell_type": "markdown",
   "id": "7053d85e",
   "metadata": {},
   "source": [
    "Now we can set the type of the column 'PM10' as float"
   ]
  },
  {
   "cell_type": "code",
   "execution_count": 11,
   "id": "c7aaf9ee",
   "metadata": {},
   "outputs": [],
   "source": [
    "muonio_df_tmp['PM10'] = muonio_df_tmp['PM10'].astype(float)"
   ]
  },
  {
   "cell_type": "markdown",
   "id": "da50096e",
   "metadata": {},
   "source": [
    "We want to use the DateTime field as the index of our time series"
   ]
  },
  {
   "cell_type": "markdown",
   "id": "8f268259",
   "metadata": {},
   "source": [
    "We want to aggregate the values of each day so that for each day we have the mean value of PM10 for that day"
   ]
  },
  {
   "cell_type": "code",
   "execution_count": 12,
   "id": "2b2a313d",
   "metadata": {},
   "outputs": [],
   "source": [
    "date_index = pd.to_datetime(muonio_df_tmp['DateTime'])\n",
    "muonio_df_tmp.drop(['DateTime'], axis=1, inplace=True)\n",
    "muonio_df = muonio_df_tmp.set_index(date_index)"
   ]
  },
  {
   "cell_type": "markdown",
   "id": "cb1c7970",
   "metadata": {},
   "source": [
    "Now we can select, for example, the observations for January 1st 2020 from midnight to 6 o' clock in the morning"
   ]
  },
  {
   "cell_type": "code",
   "execution_count": 13,
   "id": "0ee0f5e9",
   "metadata": {},
   "outputs": [
    {
     "data": {
      "text/html": [
       "<div>\n",
       "<style scoped>\n",
       "    .dataframe tbody tr th:only-of-type {\n",
       "        vertical-align: middle;\n",
       "    }\n",
       "\n",
       "    .dataframe tbody tr th {\n",
       "        vertical-align: top;\n",
       "    }\n",
       "\n",
       "    .dataframe thead th {\n",
       "        text-align: right;\n",
       "    }\n",
       "</style>\n",
       "<table border=\"1\" class=\"dataframe\">\n",
       "  <thead>\n",
       "    <tr style=\"text-align: right;\">\n",
       "      <th></th>\n",
       "      <th>PM10</th>\n",
       "    </tr>\n",
       "    <tr>\n",
       "      <th>DateTime</th>\n",
       "      <th></th>\n",
       "    </tr>\n",
       "  </thead>\n",
       "  <tbody>\n",
       "    <tr>\n",
       "      <th>2020-01-01 01:00:00</th>\n",
       "      <td>0.0</td>\n",
       "    </tr>\n",
       "    <tr>\n",
       "      <th>2020-01-01 02:00:00</th>\n",
       "      <td>0.0</td>\n",
       "    </tr>\n",
       "    <tr>\n",
       "      <th>2020-01-01 03:00:00</th>\n",
       "      <td>0.0</td>\n",
       "    </tr>\n",
       "    <tr>\n",
       "      <th>2020-01-01 04:00:00</th>\n",
       "      <td>0.7</td>\n",
       "    </tr>\n",
       "    <tr>\n",
       "      <th>2020-01-01 05:00:00</th>\n",
       "      <td>0.2</td>\n",
       "    </tr>\n",
       "    <tr>\n",
       "      <th>2020-01-01 06:00:00</th>\n",
       "      <td>0.5</td>\n",
       "    </tr>\n",
       "  </tbody>\n",
       "</table>\n",
       "</div>"
      ],
      "text/plain": [
       "                     PM10\n",
       "DateTime                 \n",
       "2020-01-01 01:00:00   0.0\n",
       "2020-01-01 02:00:00   0.0\n",
       "2020-01-01 03:00:00   0.0\n",
       "2020-01-01 04:00:00   0.7\n",
       "2020-01-01 05:00:00   0.2\n",
       "2020-01-01 06:00:00   0.5"
      ]
     },
     "execution_count": 13,
     "metadata": {},
     "output_type": "execute_result"
    }
   ],
   "source": [
    "muonio_df.dropna()['2020-01-01 00:00:00':'2020-01-01 06:00:00']"
   ]
  },
  {
   "cell_type": "markdown",
   "id": "3e0dba73",
   "metadata": {},
   "source": [
    "### Time series resampling\n",
    "The data preparation step is completed. Now we want to aggregate the observations for each single day, that is we have to compute the mean value for each day from the hourly observations. This operation technically is called resampling and since we reduce the frequency yof the observation it is called more specifically downsampling. We resample the data by day and then by month"
   ]
  },
  {
   "cell_type": "code",
   "execution_count": 14,
   "id": "7c9913ac",
   "metadata": {},
   "outputs": [
    {
     "data": {
      "text/html": [
       "<div>\n",
       "<style scoped>\n",
       "    .dataframe tbody tr th:only-of-type {\n",
       "        vertical-align: middle;\n",
       "    }\n",
       "\n",
       "    .dataframe tbody tr th {\n",
       "        vertical-align: top;\n",
       "    }\n",
       "\n",
       "    .dataframe thead th {\n",
       "        text-align: right;\n",
       "    }\n",
       "</style>\n",
       "<table border=\"1\" class=\"dataframe\">\n",
       "  <thead>\n",
       "    <tr style=\"text-align: right;\">\n",
       "      <th></th>\n",
       "      <th>PM10</th>\n",
       "    </tr>\n",
       "    <tr>\n",
       "      <th>DateTime</th>\n",
       "      <th></th>\n",
       "    </tr>\n",
       "  </thead>\n",
       "  <tbody>\n",
       "    <tr>\n",
       "      <th>2020-01-01</th>\n",
       "      <td>1.0</td>\n",
       "    </tr>\n",
       "    <tr>\n",
       "      <th>2020-01-02</th>\n",
       "      <td>1.0</td>\n",
       "    </tr>\n",
       "    <tr>\n",
       "      <th>2020-01-03</th>\n",
       "      <td>3.0</td>\n",
       "    </tr>\n",
       "    <tr>\n",
       "      <th>2020-01-04</th>\n",
       "      <td>0.8</td>\n",
       "    </tr>\n",
       "    <tr>\n",
       "      <th>2020-01-05</th>\n",
       "      <td>0.0</td>\n",
       "    </tr>\n",
       "    <tr>\n",
       "      <th>...</th>\n",
       "      <td>...</td>\n",
       "    </tr>\n",
       "    <tr>\n",
       "      <th>2022-12-28</th>\n",
       "      <td>1.3</td>\n",
       "    </tr>\n",
       "    <tr>\n",
       "      <th>2022-12-29</th>\n",
       "      <td>0.6</td>\n",
       "    </tr>\n",
       "    <tr>\n",
       "      <th>2022-12-30</th>\n",
       "      <td>2.5</td>\n",
       "    </tr>\n",
       "    <tr>\n",
       "      <th>2022-12-31</th>\n",
       "      <td>1.6</td>\n",
       "    </tr>\n",
       "    <tr>\n",
       "      <th>2023-01-01</th>\n",
       "      <td>1.6</td>\n",
       "    </tr>\n",
       "  </tbody>\n",
       "</table>\n",
       "<p>1097 rows × 1 columns</p>\n",
       "</div>"
      ],
      "text/plain": [
       "            PM10\n",
       "DateTime        \n",
       "2020-01-01   1.0\n",
       "2020-01-02   1.0\n",
       "2020-01-03   3.0\n",
       "2020-01-04   0.8\n",
       "2020-01-05   0.0\n",
       "...          ...\n",
       "2022-12-28   1.3\n",
       "2022-12-29   0.6\n",
       "2022-12-30   2.5\n",
       "2022-12-31   1.6\n",
       "2023-01-01   1.6\n",
       "\n",
       "[1097 rows x 1 columns]"
      ]
     },
     "execution_count": 14,
     "metadata": {},
     "output_type": "execute_result"
    }
   ],
   "source": [
    "muonio_days_df = round(muonio_df.resample('D').mean(), 1)\n",
    "muonio_days_df"
   ]
  },
  {
   "cell_type": "markdown",
   "id": "d570f95b",
   "metadata": {},
   "source": [
    "We resample by month and we can see that for March and April 2020 and February and March 2021 there are no observations"
   ]
  },
  {
   "cell_type": "code",
   "execution_count": 15,
   "id": "a0f2ab3f",
   "metadata": {},
   "outputs": [
    {
     "data": {
      "text/html": [
       "<div>\n",
       "<style scoped>\n",
       "    .dataframe tbody tr th:only-of-type {\n",
       "        vertical-align: middle;\n",
       "    }\n",
       "\n",
       "    .dataframe tbody tr th {\n",
       "        vertical-align: top;\n",
       "    }\n",
       "\n",
       "    .dataframe thead th {\n",
       "        text-align: right;\n",
       "    }\n",
       "</style>\n",
       "<table border=\"1\" class=\"dataframe\">\n",
       "  <thead>\n",
       "    <tr style=\"text-align: right;\">\n",
       "      <th></th>\n",
       "      <th>PM10</th>\n",
       "    </tr>\n",
       "    <tr>\n",
       "      <th>DateTime</th>\n",
       "      <th></th>\n",
       "    </tr>\n",
       "  </thead>\n",
       "  <tbody>\n",
       "    <tr>\n",
       "      <th>2020-01-31</th>\n",
       "      <td>0.6</td>\n",
       "    </tr>\n",
       "    <tr>\n",
       "      <th>2020-02-29</th>\n",
       "      <td>0.2</td>\n",
       "    </tr>\n",
       "    <tr>\n",
       "      <th>2020-03-31</th>\n",
       "      <td>NaN</td>\n",
       "    </tr>\n",
       "    <tr>\n",
       "      <th>2020-04-30</th>\n",
       "      <td>NaN</td>\n",
       "    </tr>\n",
       "    <tr>\n",
       "      <th>2020-05-31</th>\n",
       "      <td>3.0</td>\n",
       "    </tr>\n",
       "  </tbody>\n",
       "</table>\n",
       "</div>"
      ],
      "text/plain": [
       "            PM10\n",
       "DateTime        \n",
       "2020-01-31   0.6\n",
       "2020-02-29   0.2\n",
       "2020-03-31   NaN\n",
       "2020-04-30   NaN\n",
       "2020-05-31   3.0"
      ]
     },
     "execution_count": 15,
     "metadata": {},
     "output_type": "execute_result"
    }
   ],
   "source": [
    "muonio_months_df = round(muonio_days_df.resample('M').mean(), 1)\n",
    "muonio_months_df['2020-01-31':'2020-05-31']"
   ]
  },
  {
   "cell_type": "code",
   "execution_count": 16,
   "id": "3718f1b4",
   "metadata": {},
   "outputs": [
    {
     "data": {
      "text/plain": [
       "PM10    2.5\n",
       "dtype: float64"
      ]
     },
     "execution_count": 16,
     "metadata": {},
     "output_type": "execute_result"
    }
   ],
   "source": [
    "round(muonio_months_df.mean(), 1)"
   ]
  },
  {
   "cell_type": "markdown",
   "id": "64a543eb",
   "metadata": {},
   "source": [
    "### Data visualization\n",
    "We plot the monthly time series. From this first visualization we can already make some hypothesis about the pollution of PM10 in area around the station. The concentration of PM10 oscillates around 2.0 $\\mu g/m^3$. The peaks are around the end of the winter season and the end of summer.  "
   ]
  },
  {
   "cell_type": "code",
   "execution_count": 17,
   "id": "432bbedd",
   "metadata": {},
   "outputs": [
    {
     "data": {
      "text/plain": [
       "<matplotlib.legend.Legend at 0x225d26f9490>"
      ]
     },
     "execution_count": 17,
     "metadata": {},
     "output_type": "execute_result"
    },
    {
     "data": {
      "image/png": "[encoded data removed]",
      "text/plain": [
       "<Figure size 1000x500 with 1 Axes>"
      ]
     },
     "metadata": {},
     "output_type": "display_data"
    }
   ],
   "source": [
    "fig, ax = plt.subplots(figsize=(10,5))\n",
    "ax.grid(True)\n",
    "ax.set_title('Muonio Sammaltunturi PM10')\n",
    "ax.set_ylabel('[microg/m^3]')\n",
    "ax.set_xticks(muonio_months_df.index)\n",
    "ax.set_xticklabels(muonio_months_df.index, rotation=70)\n",
    "ax.xaxis.set_major_formatter(mdates.DateFormatter('%Y-%m'))\n",
    "plt_days = ax.plot(muonio_days_df, linewidth=0.5, label='daily')\n",
    "plt_months = ax.plot(muonio_months_df, label='monthly')\n",
    "plt.legend(loc='upper left')"
   ]
  },
  {
   "cell_type": "markdown",
   "id": "529d6625-5ec1-4b90-ae2a-e6efdb72eb62",
   "metadata": {},
   "source": [
    "We can plot the data with the errorbars"
   ]
  },
  {
   "cell_type": "code",
   "execution_count": 34,
   "id": "5197b2e0-156a-42d8-bdbe-0f5df57ebf21",
   "metadata": {},
   "outputs": [
    {
     "data": {
      "text/plain": [
       "<matplotlib.legend.Legend at 0x225d8a2cdd0>"
      ]
     },
     "execution_count": 34,
     "metadata": {},
     "output_type": "execute_result"
    },
    {
     "data": {
      "image/png": "[encoded data removed]",
      "text/plain": [
       "<Figure size 1000x500 with 1 Axes>"
      ]
     },
     "metadata": {},
     "output_type": "display_data"
    }
   ],
   "source": [
    "fig, ax = plt.subplots(figsize=(10,5))\n",
    "ax.grid(True)\n",
    "ax.set_title('Muonio Sammaltunturi PM10')\n",
    "ax.set_ylabel('[microg/m^3]')\n",
    "ax.set_xticks(muonio_months_df.index)\n",
    "ax.set_xticklabels(muonio_months_df.index, rotation=70)\n",
    "ax.xaxis.set_major_formatter(mdates.DateFormatter('%Y-%m'))\n",
    "plt_months = ax.plot(muonio_months_df, label='monthly', color='orange')\n",
    "plt_months= ax.errorbar(muonio_months_df.index, muonio_months_df['PM10'], yerr=0.1, color='orange', fmt='.k');\n",
    "plt.legend(loc='upper left')"
   ]
  },
  {
   "cell_type": "code",
   "execution_count": 31,
   "id": "78469ea0-a4db-4574-951d-cb1c5c58e7ec",
   "metadata": {},
   "outputs": [],
   "source": [
    "import seaborn as sns"
   ]
  },
  {
   "cell_type": "markdown",
   "id": "b63af022",
   "metadata": {},
   "source": [
    "\n",
    "## References\n",
    "* [Fazzini et al. - Forecasting PM10 Levels Using Machine Learning Models in the Arctic: A Comparative Study](https://www.mdpi.com/2072-4292/15/13/3348)  \n",
    "* [ECMWF - CAMS Regional: European air quality analysis and forecast data documentation](https://confluence.ecmwf.int/display/CKB/CAMS+Regional%3A+European+air+quality+analysis+and+forecast+data+documentation)"
   ]
  },
  {
   "cell_type": "code",
   "execution_count": null,
   "id": "44c03021",
   "metadata": {},
   "outputs": [],
   "source": []
  }
 ],
 "metadata": {
  "kernelspec": {
   "display_name": "Python 3 (ipykernel)",
   "language": "python",
   "name": "python3"
  },
  "language_info": {
   "codemirror_mode": {
    "name": "ipython",
    "version": 3
   },
   "file_extension": ".py",
   "mimetype": "text/x-python",
   "name": "python",
   "nbconvert_exporter": "python",
   "pygments_lexer": "ipython3",
   "version": "3.11.5"
  }
 },
 "nbformat": 4,
 "nbformat_minor": 5
}
