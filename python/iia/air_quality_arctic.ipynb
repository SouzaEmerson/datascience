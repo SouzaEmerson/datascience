{
 "cells": [
  {
   "cell_type": "markdown",
   "id": "f1608fb9",
   "metadata": {},
   "source": [
    "# Air Quality Assessment in the Arctic\n",
    "In this notebook we analyze the air quality in the arctic area using the data from ground stations located in European arctic\n",
    "\n",
    "* Grundartangi Groef\n",
    "* Kopavogur Dalsmari, Iceland\n",
    "* Oulu, Finland (two stations)\n",
    "* Tromso, Norway \n",
    "* Muonio, Finland\n",
    "\n",
    "The datasets are provided by the [Finnish Meteorological Institute](https://en.ilmatieteenlaitos.fi/) and the [European Environmental Agency](https://discomap.eea.europa.eu/map/fme/AirQualityExport.htm). The aim of the project is to build a model to predict the state of environmental variables such as the PM10. The prediction will be compared with that from the [CAMS service](https://ads.atmosphere.copernicus.eu/cdsapp#!/dataset/cams-europe-air-quality-forecasts). The prediction provided by the CAMS are the result of an ensemble of 9 air quality numerical models. An air quality model integrates a dynamical model of the atmosphere with the chemical-physical equations of the air components. The CAMS numerical models use as input the data assimilated from a network of ground stations and satellite sensors and return as output a grid that represents the horizontal and vertical distribution of the air quality variables with a prediction of their future state.      \n"
   ]
  },
  {
   "cell_type": "code",
   "execution_count": 2,
   "id": "54aa5555",
   "metadata": {},
   "outputs": [],
   "source": [
    "#import geopandas as gpd\n",
    "#from shapely.geometry import Point, LineString, Polygon\n",
    "import matplotlib.pyplot as plt"
   ]
  },
  {
   "cell_type": "markdown",
   "id": "b63af022",
   "metadata": {},
   "source": [
    "## References\n",
    "* [Fazzini et al. - Forecasting PM10 Levels Using Machine Learning Models in the Arctic: A Comparative Study](https://www.mdpi.com/2072-4292/15/13/3348)  \n",
    "* [ECMWF - CAMS Regional: European air quality analysis and forecast data documentation](https://confluence.ecmwf.int/display/CKB/CAMS+Regional%3A+European+air+quality+analysis+and+forecast+data+documentation)"
   ]
  },
  {
   "cell_type": "code",
   "execution_count": null,
   "id": "44c03021",
   "metadata": {},
   "outputs": [],
   "source": []
  }
 ],
 "metadata": {
  "kernelspec": {
   "display_name": "Python 3 (ipykernel)",
   "language": "python",
   "name": "python3"
  },
  "language_info": {
   "codemirror_mode": {
    "name": "ipython",
    "version": 3
   },
   "file_extension": ".py",
   "mimetype": "text/x-python",
   "name": "python",
   "nbconvert_exporter": "python",
   "pygments_lexer": "ipython3",
   "version": "3.11.3"
  }
 },
 "nbformat": 4,
 "nbformat_minor": 5
}
