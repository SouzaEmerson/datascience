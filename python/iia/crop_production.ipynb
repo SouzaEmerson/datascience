{
 "cells": [
  {
   "cell_type": "markdown",
   "id": "7d4bdc4f",
   "metadata": {},
   "source": [
    "# Crop Yelds in the Sahel \n",
    "The crop production, e.g. maize and millet, in the Sahel region depends on the precipitations, the air temperature, in particular temperature values above 30°C, and the use of fertilizers such as nitrogen and manure. It may also depend on the increase of CO2 in the air. In this notebook we model of the dependency of the crop production on the said variables using a neural network with only one hidden layer. The problem can be classified as a regression problem where the relationship between the input variables and the dependent variable is non-linear. We start by reading the data from different countries in the Sahel region. "
   ]
  },
  {
   "cell_type": "code",
   "execution_count": 1,
   "id": "0f3f9c77",
   "metadata": {},
   "outputs": [
    {
     "name": "stdout",
     "output_type": "stream",
     "text": [
      "numpy version: 1.23.1\n",
      "pandas version: 1.4.3\n",
      "matplotlib version: 3.5.2\n"
     ]
    }
   ],
   "source": [
    "import numpy as np\n",
    "import pandas as pd\n",
    "import matplotlib as mpl\n",
    "import matplotlib.pyplot as plt\n",
    "from matplotlib.pyplot import figure\n",
    "import matplotlib.dates as mdates\n",
    "import warnings\n",
    "warnings.filterwarnings('ignore')\n",
    "print(\"numpy version: %s\"%np.__version__)\n",
    "print(\"pandas version: %s\"%pd.__version__)\n",
    "print(\"matplotlib version: %s\"%mpl.__version__)"
   ]
  },
  {
   "cell_type": "code",
   "execution_count": 2,
   "id": "a259fb1f",
   "metadata": {},
   "outputs": [
    {
     "name": "stdout",
     "output_type": "stream",
     "text": [
      "Number of records for Sahel: 202\n"
     ]
    }
   ],
   "source": [
    "crop_yeld_df = pd.read_csv('data/crop_yelds_sahel.csv')\n",
    "print('Number of records for Sahel: {0:d}'.format(len(crop_yeld_df)))"
   ]
  },
  {
   "cell_type": "code",
   "execution_count": 3,
   "id": "c0d65988",
   "metadata": {},
   "outputs": [
    {
     "data": {
      "text/html": [
       "<div>\n",
       "<style scoped>\n",
       "    .dataframe tbody tr th:only-of-type {\n",
       "        vertical-align: middle;\n",
       "    }\n",
       "\n",
       "    .dataframe tbody tr th {\n",
       "        vertical-align: top;\n",
       "    }\n",
       "\n",
       "    .dataframe thead th {\n",
       "        text-align: right;\n",
       "    }\n",
       "</style>\n",
       "<table border=\"1\" class=\"dataframe\">\n",
       "  <thead>\n",
       "    <tr style=\"text-align: right;\">\n",
       "      <th></th>\n",
       "      <th>Year</th>\n",
       "      <th>Area</th>\n",
       "      <th>pcp</th>\n",
       "      <th>tmp</th>\n",
       "      <th>tmp30sr</th>\n",
       "      <th>mean CO2</th>\n",
       "      <th>unc CO2</th>\n",
       "      <th>N [kg/ha]</th>\n",
       "      <th>P2O5 [kg/ha]</th>\n",
       "      <th>K2O [kg/ha]</th>\n",
       "      <th>Manure applied to Soils [kg/ha]</th>\n",
       "      <th>N + Manure [kg/ha]</th>\n",
       "      <th>Maize [hg/ha]</th>\n",
       "      <th>Millet [hg/ha]</th>\n",
       "    </tr>\n",
       "  </thead>\n",
       "  <tbody>\n",
       "    <tr>\n",
       "      <th>0</th>\n",
       "      <td>1980</td>\n",
       "      <td>Burkina Faso</td>\n",
       "      <td>79.903095</td>\n",
       "      <td>26.477923</td>\n",
       "      <td>584.412288</td>\n",
       "      <td>338.76</td>\n",
       "      <td>0.12</td>\n",
       "      <td>0.45</td>\n",
       "      <td>0.69</td>\n",
       "      <td>0.41</td>\n",
       "      <td>3.2465</td>\n",
       "      <td>3.6965</td>\n",
       "      <td>9029</td>\n",
       "      <td>4871</td>\n",
       "    </tr>\n",
       "    <tr>\n",
       "      <th>1</th>\n",
       "      <td>1981</td>\n",
       "      <td>Burkina Faso</td>\n",
       "      <td>91.976429</td>\n",
       "      <td>25.869713</td>\n",
       "      <td>514.558300</td>\n",
       "      <td>340.12</td>\n",
       "      <td>0.12</td>\n",
       "      <td>1.08</td>\n",
       "      <td>1.55</td>\n",
       "      <td>0.84</td>\n",
       "      <td>3.6697</td>\n",
       "      <td>4.7497</td>\n",
       "      <td>8297</td>\n",
       "      <td>4801</td>\n",
       "    </tr>\n",
       "    <tr>\n",
       "      <th>2</th>\n",
       "      <td>1982</td>\n",
       "      <td>Burkina Faso</td>\n",
       "      <td>49.251481</td>\n",
       "      <td>27.276417</td>\n",
       "      <td>834.173411</td>\n",
       "      <td>341.48</td>\n",
       "      <td>0.12</td>\n",
       "      <td>1.15</td>\n",
       "      <td>1.59</td>\n",
       "      <td>0.87</td>\n",
       "      <td>3.9769</td>\n",
       "      <td>5.1269</td>\n",
       "      <td>8235</td>\n",
       "      <td>4853</td>\n",
       "    </tr>\n",
       "  </tbody>\n",
       "</table>\n",
       "</div>"
      ],
      "text/plain": [
       "   Year          Area        pcp        tmp     tmp30sr  mean CO2  unc CO2  \\\n",
       "0  1980  Burkina Faso  79.903095  26.477923  584.412288    338.76     0.12   \n",
       "1  1981  Burkina Faso  91.976429  25.869713  514.558300    340.12     0.12   \n",
       "2  1982  Burkina Faso  49.251481  27.276417  834.173411    341.48     0.12   \n",
       "\n",
       "   N [kg/ha]  P2O5 [kg/ha]  K2O [kg/ha]  Manure applied to Soils [kg/ha]  \\\n",
       "0       0.45          0.69         0.41                           3.2465   \n",
       "1       1.08          1.55         0.84                           3.6697   \n",
       "2       1.15          1.59         0.87                           3.9769   \n",
       "\n",
       "   N + Manure [kg/ha]  Maize [hg/ha]  Millet [hg/ha]  \n",
       "0              3.6965           9029            4871  \n",
       "1              4.7497           8297            4801  \n",
       "2              5.1269           8235            4853  "
      ]
     },
     "execution_count": 3,
     "metadata": {},
     "output_type": "execute_result"
    }
   ],
   "source": [
    "crop_yeld_df[:3]"
   ]
  },
  {
   "cell_type": "code",
   "execution_count": 10,
   "id": "6a10d381",
   "metadata": {},
   "outputs": [
    {
     "name": "stdout",
     "output_type": "stream",
     "text": [
      "Number of records for Burkina Faso: 31\n"
     ]
    }
   ],
   "source": [
    "crop_yeld_bf_df = crop_yeld_df[crop_yeld_df['Area'] == 'Burkina Faso']\n",
    "print('Number of records for Burkina Faso: {0:d}'.format(len(crop_yeld_bf_df)))"
   ]
  },
  {
   "cell_type": "code",
   "execution_count": 11,
   "id": "fb2cedee",
   "metadata": {},
   "outputs": [
    {
     "data": {
      "text/html": [
       "<div>\n",
       "<style scoped>\n",
       "    .dataframe tbody tr th:only-of-type {\n",
       "        vertical-align: middle;\n",
       "    }\n",
       "\n",
       "    .dataframe tbody tr th {\n",
       "        vertical-align: top;\n",
       "    }\n",
       "\n",
       "    .dataframe thead th {\n",
       "        text-align: right;\n",
       "    }\n",
       "</style>\n",
       "<table border=\"1\" class=\"dataframe\">\n",
       "  <thead>\n",
       "    <tr style=\"text-align: right;\">\n",
       "      <th></th>\n",
       "      <th>Year</th>\n",
       "      <th>Area</th>\n",
       "      <th>pcp</th>\n",
       "      <th>tmp</th>\n",
       "      <th>tmp30sr</th>\n",
       "      <th>mean CO2</th>\n",
       "      <th>unc CO2</th>\n",
       "      <th>N [kg/ha]</th>\n",
       "      <th>P2O5 [kg/ha]</th>\n",
       "      <th>K2O [kg/ha]</th>\n",
       "      <th>Manure applied to Soils [kg/ha]</th>\n",
       "      <th>N + Manure [kg/ha]</th>\n",
       "      <th>Maize [hg/ha]</th>\n",
       "      <th>Millet [hg/ha]</th>\n",
       "    </tr>\n",
       "  </thead>\n",
       "  <tbody>\n",
       "    <tr>\n",
       "      <th>0</th>\n",
       "      <td>1980</td>\n",
       "      <td>Burkina Faso</td>\n",
       "      <td>79.903095</td>\n",
       "      <td>26.477923</td>\n",
       "      <td>584.412288</td>\n",
       "      <td>338.76</td>\n",
       "      <td>0.12</td>\n",
       "      <td>0.45</td>\n",
       "      <td>0.69</td>\n",
       "      <td>0.41</td>\n",
       "      <td>3.2465</td>\n",
       "      <td>3.6965</td>\n",
       "      <td>9029</td>\n",
       "      <td>4871</td>\n",
       "    </tr>\n",
       "    <tr>\n",
       "      <th>1</th>\n",
       "      <td>1981</td>\n",
       "      <td>Burkina Faso</td>\n",
       "      <td>91.976429</td>\n",
       "      <td>25.869713</td>\n",
       "      <td>514.558300</td>\n",
       "      <td>340.12</td>\n",
       "      <td>0.12</td>\n",
       "      <td>1.08</td>\n",
       "      <td>1.55</td>\n",
       "      <td>0.84</td>\n",
       "      <td>3.6697</td>\n",
       "      <td>4.7497</td>\n",
       "      <td>8297</td>\n",
       "      <td>4801</td>\n",
       "    </tr>\n",
       "    <tr>\n",
       "      <th>2</th>\n",
       "      <td>1982</td>\n",
       "      <td>Burkina Faso</td>\n",
       "      <td>49.251481</td>\n",
       "      <td>27.276417</td>\n",
       "      <td>834.173411</td>\n",
       "      <td>341.48</td>\n",
       "      <td>0.12</td>\n",
       "      <td>1.15</td>\n",
       "      <td>1.59</td>\n",
       "      <td>0.87</td>\n",
       "      <td>3.9769</td>\n",
       "      <td>5.1269</td>\n",
       "      <td>8235</td>\n",
       "      <td>4853</td>\n",
       "    </tr>\n",
       "  </tbody>\n",
       "</table>\n",
       "</div>"
      ],
      "text/plain": [
       "   Year          Area        pcp        tmp     tmp30sr  mean CO2  unc CO2  \\\n",
       "0  1980  Burkina Faso  79.903095  26.477923  584.412288    338.76     0.12   \n",
       "1  1981  Burkina Faso  91.976429  25.869713  514.558300    340.12     0.12   \n",
       "2  1982  Burkina Faso  49.251481  27.276417  834.173411    341.48     0.12   \n",
       "\n",
       "   N [kg/ha]  P2O5 [kg/ha]  K2O [kg/ha]  Manure applied to Soils [kg/ha]  \\\n",
       "0       0.45          0.69         0.41                           3.2465   \n",
       "1       1.08          1.55         0.84                           3.6697   \n",
       "2       1.15          1.59         0.87                           3.9769   \n",
       "\n",
       "   N + Manure [kg/ha]  Maize [hg/ha]  Millet [hg/ha]  \n",
       "0              3.6965           9029            4871  \n",
       "1              4.7497           8297            4801  \n",
       "2              5.1269           8235            4853  "
      ]
     },
     "execution_count": 11,
     "metadata": {},
     "output_type": "execute_result"
    }
   ],
   "source": [
    "crop_yeld_bf_df[:3]"
   ]
  },
  {
   "cell_type": "code",
   "execution_count": 12,
   "id": "e1f3dbc0",
   "metadata": {},
   "outputs": [
    {
     "data": {
      "text/plain": [
       "0    1980\n",
       "1    1981\n",
       "2    1982\n",
       "dtype: int64"
      ]
     },
     "execution_count": 12,
     "metadata": {},
     "output_type": "execute_result"
    }
   ],
   "source": [
    "year_index = pd.Series(pd.date_range('1980', periods=31, freq=\"Y\")).dt.year\n",
    "year_index[:3]"
   ]
  },
  {
   "cell_type": "code",
   "execution_count": 13,
   "id": "8862c199",
   "metadata": {},
   "outputs": [
    {
     "data": {
      "text/html": [
       "<div>\n",
       "<style scoped>\n",
       "    .dataframe tbody tr th:only-of-type {\n",
       "        vertical-align: middle;\n",
       "    }\n",
       "\n",
       "    .dataframe tbody tr th {\n",
       "        vertical-align: top;\n",
       "    }\n",
       "\n",
       "    .dataframe thead th {\n",
       "        text-align: right;\n",
       "    }\n",
       "</style>\n",
       "<table border=\"1\" class=\"dataframe\">\n",
       "  <thead>\n",
       "    <tr style=\"text-align: right;\">\n",
       "      <th></th>\n",
       "      <th>Area</th>\n",
       "      <th>pcp</th>\n",
       "      <th>tmp</th>\n",
       "      <th>tmp30sr</th>\n",
       "      <th>mean CO2</th>\n",
       "      <th>unc CO2</th>\n",
       "      <th>N [kg/ha]</th>\n",
       "      <th>P2O5 [kg/ha]</th>\n",
       "      <th>K2O [kg/ha]</th>\n",
       "      <th>Manure applied to Soils [kg/ha]</th>\n",
       "      <th>N + Manure [kg/ha]</th>\n",
       "      <th>Maize [hg/ha]</th>\n",
       "      <th>Millet [hg/ha]</th>\n",
       "    </tr>\n",
       "  </thead>\n",
       "  <tbody>\n",
       "    <tr>\n",
       "      <th>1980</th>\n",
       "      <td>Burkina Faso</td>\n",
       "      <td>79.903095</td>\n",
       "      <td>26.477923</td>\n",
       "      <td>584.412288</td>\n",
       "      <td>338.76</td>\n",
       "      <td>0.12</td>\n",
       "      <td>0.45</td>\n",
       "      <td>0.69</td>\n",
       "      <td>0.41</td>\n",
       "      <td>3.2465</td>\n",
       "      <td>3.6965</td>\n",
       "      <td>9029</td>\n",
       "      <td>4871</td>\n",
       "    </tr>\n",
       "    <tr>\n",
       "      <th>1981</th>\n",
       "      <td>Burkina Faso</td>\n",
       "      <td>91.976429</td>\n",
       "      <td>25.869713</td>\n",
       "      <td>514.558300</td>\n",
       "      <td>340.12</td>\n",
       "      <td>0.12</td>\n",
       "      <td>1.08</td>\n",
       "      <td>1.55</td>\n",
       "      <td>0.84</td>\n",
       "      <td>3.6697</td>\n",
       "      <td>4.7497</td>\n",
       "      <td>8297</td>\n",
       "      <td>4801</td>\n",
       "    </tr>\n",
       "    <tr>\n",
       "      <th>1982</th>\n",
       "      <td>Burkina Faso</td>\n",
       "      <td>49.251481</td>\n",
       "      <td>27.276417</td>\n",
       "      <td>834.173411</td>\n",
       "      <td>341.48</td>\n",
       "      <td>0.12</td>\n",
       "      <td>1.15</td>\n",
       "      <td>1.59</td>\n",
       "      <td>0.87</td>\n",
       "      <td>3.9769</td>\n",
       "      <td>5.1269</td>\n",
       "      <td>8235</td>\n",
       "      <td>4853</td>\n",
       "    </tr>\n",
       "  </tbody>\n",
       "</table>\n",
       "</div>"
      ],
      "text/plain": [
       "              Area        pcp        tmp     tmp30sr  mean CO2  unc CO2  \\\n",
       "1980  Burkina Faso  79.903095  26.477923  584.412288    338.76     0.12   \n",
       "1981  Burkina Faso  91.976429  25.869713  514.558300    340.12     0.12   \n",
       "1982  Burkina Faso  49.251481  27.276417  834.173411    341.48     0.12   \n",
       "\n",
       "      N [kg/ha]  P2O5 [kg/ha]  K2O [kg/ha]  Manure applied to Soils [kg/ha]  \\\n",
       "1980       0.45          0.69         0.41                           3.2465   \n",
       "1981       1.08          1.55         0.84                           3.6697   \n",
       "1982       1.15          1.59         0.87                           3.9769   \n",
       "\n",
       "      N + Manure [kg/ha]  Maize [hg/ha]  Millet [hg/ha]  \n",
       "1980              3.6965           9029            4871  \n",
       "1981              4.7497           8297            4801  \n",
       "1982              5.1269           8235            4853  "
      ]
     },
     "execution_count": 13,
     "metadata": {},
     "output_type": "execute_result"
    }
   ],
   "source": [
    "crop_yeld_bf_df.drop(['Year'], axis=1, inplace=True)\n",
    "crop_yeld_bf_df = crop_yeld_bf_df.set_index(year_index)\n",
    "crop_yeld_bf_df[:3]"
   ]
  },
  {
   "cell_type": "code",
   "execution_count": 14,
   "id": "4aa2ade9",
   "metadata": {},
   "outputs": [
    {
     "data": {
      "text/plain": [
       "[<matplotlib.lines.Line2D at 0x1d05f637a30>]"
      ]
     },
     "execution_count": 14,
     "metadata": {},
     "output_type": "execute_result"
    },
    {
     "data": {
      "image/png": "[encoded data removed]",
      "text/plain": [
       "<Figure size 864x432 with 1 Axes>"
      ]
     },
     "metadata": {
      "needs_background": "light"
     },
     "output_type": "display_data"
    }
   ],
   "source": [
    "fig = plt.figure(figsize=(12, 6))\n",
    "ax = fig.add_subplot()\n",
    "ax.set_title('Burkina Faso')\n",
    "ax.set_xlabel('Year')\n",
    "ax.set_ylabel('Maize [hg/ha]');\n",
    "ax.set_xticks(crop_yeld_bf_df.index)\n",
    "ax.set_xticklabels(crop_yeld_bf_df.index, rotation=70)\n",
    "ax.grid(True, which='both')\n",
    "plt.plot(crop_yeld_bf_df['Maize [hg/ha]'])"
   ]
  },
  {
   "cell_type": "code",
   "execution_count": null,
   "id": "cf5fa88d",
   "metadata": {},
   "outputs": [],
   "source": []
  }
 ],
 "metadata": {
  "kernelspec": {
   "display_name": "Python 3 (ipykernel)",
   "language": "python",
   "name": "python3"
  },
  "language_info": {
   "codemirror_mode": {
    "name": "ipython",
    "version": 3
   },
   "file_extension": ".py",
   "mimetype": "text/x-python",
   "name": "python",
   "nbconvert_exporter": "python",
   "pygments_lexer": "ipython3",
   "version": "3.9.13"
  }
 },
 "nbformat": 4,
 "nbformat_minor": 5
}
