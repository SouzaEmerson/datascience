{
 "cells": [
  {
   "cell_type": "markdown",
   "id": "7d4bdc4f",
   "metadata": {},
   "source": [
    "# Crop Yelds in the Sahel \n",
    "The crop production, e.g. maize and millet, in the Sahel region depends on the precipitations, the air temperature, in particular temperature values above 30°C, and the use of fertilizers such as nitrogen and manure. It may also depend on the increase of CO2 in the air. In this notebook, since the dataset is small, we model the dependency of the crop production on the said variables using a neural network with only one hidden layer. This choise is based on the fact that [it has been proven](https://en.wikipedia.org/wiki/Universal_approximation_theorem) that a neural network with only one hidden layer, with an arbitrary number of units, can approximate any function. The problem can be classified as a regression problem where the relationship between the input variables and the dependent variable is non-linear. We start by reading the data from different countries in the Sahel region. "
   ]
  },
  {
   "cell_type": "code",
   "execution_count": 1,
   "id": "0f3f9c77",
   "metadata": {},
   "outputs": [
    {
     "name": "stdout",
     "output_type": "stream",
     "text": [
      "numpy version: 1.25.0\n",
      "pandas version: 1.5.3\n",
      "matplotlib version: 3.7.1\n"
     ]
    }
   ],
   "source": [
    "import numpy as np\n",
    "import pandas as pd\n",
    "import matplotlib as mpl\n",
    "import matplotlib.pyplot as plt\n",
    "from matplotlib.pyplot import figure\n",
    "import matplotlib.dates as mdates\n",
    "import warnings\n",
    "warnings.filterwarnings('ignore')\n",
    "print(\"numpy version: %s\"%np.__version__)\n",
    "print(\"pandas version: %s\"%pd.__version__)\n",
    "print(\"matplotlib version: %s\"%mpl.__version__)"
   ]
  },
  {
   "cell_type": "markdown",
   "id": "35f1cd98",
   "metadata": {},
   "source": [
    "## The dataset\n",
    "The dataset that we will use in this notebook contains the annual production of two crops, maize and millet, in some countries in the Sahel region from 1980 up to 2010."
   ]
  },
  {
   "cell_type": "code",
   "execution_count": 11,
   "id": "a259fb1f",
   "metadata": {},
   "outputs": [
    {
     "name": "stdout",
     "output_type": "stream",
     "text": [
      "Number of records for Sahel: 202\n"
     ]
    }
   ],
   "source": [
    "crop_yeld_df = pd.read_csv('data/crop_yelds_sahel.csv')\n",
    "print('Number of records for Sahel: {0:d}'.format(len(crop_yeld_df)))"
   ]
  },
  {
   "cell_type": "code",
   "execution_count": 12,
   "id": "c0d65988",
   "metadata": {},
   "outputs": [
    {
     "data": {
      "text/html": [
       "<div>\n",
       "<style scoped>\n",
       "    .dataframe tbody tr th:only-of-type {\n",
       "        vertical-align: middle;\n",
       "    }\n",
       "\n",
       "    .dataframe tbody tr th {\n",
       "        vertical-align: top;\n",
       "    }\n",
       "\n",
       "    .dataframe thead th {\n",
       "        text-align: right;\n",
       "    }\n",
       "</style>\n",
       "<table border=\"1\" class=\"dataframe\">\n",
       "  <thead>\n",
       "    <tr style=\"text-align: right;\">\n",
       "      <th></th>\n",
       "      <th>Year</th>\n",
       "      <th>Area</th>\n",
       "      <th>pcp</th>\n",
       "      <th>tmp</th>\n",
       "      <th>tmp30sr</th>\n",
       "      <th>mean CO2</th>\n",
       "      <th>unc CO2</th>\n",
       "      <th>N [kg/ha]</th>\n",
       "      <th>P2O5 [kg/ha]</th>\n",
       "      <th>K2O [kg/ha]</th>\n",
       "      <th>Manure applied to Soils [kg/ha]</th>\n",
       "      <th>N + Manure [kg/ha]</th>\n",
       "      <th>Maize [hg/ha]</th>\n",
       "      <th>Millet [hg/ha]</th>\n",
       "    </tr>\n",
       "  </thead>\n",
       "  <tbody>\n",
       "    <tr>\n",
       "      <th>0</th>\n",
       "      <td>1980</td>\n",
       "      <td>Burkina Faso</td>\n",
       "      <td>79.903095</td>\n",
       "      <td>26.477923</td>\n",
       "      <td>584.412288</td>\n",
       "      <td>338.76</td>\n",
       "      <td>0.12</td>\n",
       "      <td>0.45</td>\n",
       "      <td>0.69</td>\n",
       "      <td>0.41</td>\n",
       "      <td>3.2465</td>\n",
       "      <td>3.6965</td>\n",
       "      <td>9029</td>\n",
       "      <td>4871</td>\n",
       "    </tr>\n",
       "    <tr>\n",
       "      <th>1</th>\n",
       "      <td>1981</td>\n",
       "      <td>Burkina Faso</td>\n",
       "      <td>91.976429</td>\n",
       "      <td>25.869713</td>\n",
       "      <td>514.558300</td>\n",
       "      <td>340.12</td>\n",
       "      <td>0.12</td>\n",
       "      <td>1.08</td>\n",
       "      <td>1.55</td>\n",
       "      <td>0.84</td>\n",
       "      <td>3.6697</td>\n",
       "      <td>4.7497</td>\n",
       "      <td>8297</td>\n",
       "      <td>4801</td>\n",
       "    </tr>\n",
       "    <tr>\n",
       "      <th>2</th>\n",
       "      <td>1982</td>\n",
       "      <td>Burkina Faso</td>\n",
       "      <td>49.251481</td>\n",
       "      <td>27.276417</td>\n",
       "      <td>834.173411</td>\n",
       "      <td>341.48</td>\n",
       "      <td>0.12</td>\n",
       "      <td>1.15</td>\n",
       "      <td>1.59</td>\n",
       "      <td>0.87</td>\n",
       "      <td>3.9769</td>\n",
       "      <td>5.1269</td>\n",
       "      <td>8235</td>\n",
       "      <td>4853</td>\n",
       "    </tr>\n",
       "  </tbody>\n",
       "</table>\n",
       "</div>"
      ],
      "text/plain": [
       "   Year          Area        pcp        tmp     tmp30sr  mean CO2  unc CO2  \\\n",
       "0  1980  Burkina Faso  79.903095  26.477923  584.412288    338.76     0.12   \n",
       "1  1981  Burkina Faso  91.976429  25.869713  514.558300    340.12     0.12   \n",
       "2  1982  Burkina Faso  49.251481  27.276417  834.173411    341.48     0.12   \n",
       "\n",
       "   N [kg/ha]  P2O5 [kg/ha]  K2O [kg/ha]  Manure applied to Soils [kg/ha]  \\\n",
       "0       0.45          0.69         0.41                           3.2465   \n",
       "1       1.08          1.55         0.84                           3.6697   \n",
       "2       1.15          1.59         0.87                           3.9769   \n",
       "\n",
       "   N + Manure [kg/ha]  Maize [hg/ha]  Millet [hg/ha]  \n",
       "0              3.6965           9029            4871  \n",
       "1              4.7497           8297            4801  \n",
       "2              5.1269           8235            4853  "
      ]
     },
     "execution_count": 12,
     "metadata": {},
     "output_type": "execute_result"
    }
   ],
   "source": [
    "crop_yeld_df[:3]"
   ]
  },
  {
   "cell_type": "markdown",
   "id": "13438720",
   "metadata": {},
   "source": [
    "## How to look at the data\n",
    "When we try to build a model from a dataset we have to understand what kind of relationship exists between the independent variables, in our case precipitation, temperature and others, and the dependent ones that is the yelds of maize and millet. We might think that the production of maize (m) does not depend on the year (t), it only depends on the (mean yearly) precipitations (p), mean temperature (T) , and the amount of fertilizers (N), that is\n",
    "\n",
    "$$m = f(p, T, N)$$\n",
    "\n",
    "We also assume, as a simplifying assumption, that the variable p and T are indipendent, even if that is not really the case. In this case we want to find a function $\\hat{m}$ that can approximate the real unknown one using the data. Since we do not include the time, the model once available could be used to predict the production of maize at any year depending on the amount of precipitation, temperature, and fertilizer. The input data to train our model would be a matrix of examples [p, T, N, Maize] and there would be no need to take into account the order of the rows. A neural network would have three inputs and one output. \n",
    "\n",
    "![Neural Network](images/neural_network.jpg)\n",
    "\n",
    "We can imagine the function f(p,T,N) as a surface in a 4-dimensional space. As a second hypothesis, we might think that there is a dependency of the production of maize on the year since at least p, T and N depend on it. In this case the dependency looks like\n",
    "\n",
    "$$m = f(p(t), T(t), N(t), t)$$\n",
    "\n",
    "The function can be seen like a line in a 5-dimensional space. The example data can be represented as matrix [y, p, T, N, Maize]. Also in this case we do not need to consider the order of the rows. Our neural network would have 4 inputs and one output. \n",
    "\n",
    "![Neural Network](images/neural_network_4_inputs.jpg)\n",
    "\n",
    "Finally, we might think that the production of maize not only depends on the year but also on the yeld of the previous year or even on the two previous years. For instance the land might have less nutrients after the previous yeld. In this last case the function can still be seen like a line in a 5-dimensional space but it will look different from the previous one if our assumption about its dependency on the past holds and we would have to consider the order of the rows."
   ]
  },
  {
   "cell_type": "markdown",
   "id": "c54a869f",
   "metadata": {},
   "source": [
    "## The neural network model\n",
    "The model is based on a small neural network with an input layer for the meteo-climatic data and the fertilizers, an hidden layer to model the relationships among the predictors and the dependency of the yeld of maize and millet, the target variables, from them. The predictors chosen for the yeld of maize and millet in the Sahel region are\n",
    "\n",
    "* Annual mean temperature (in °C)\n",
    "* Number of hours with temperature > 30°C during the growing season per year\n",
    "* Annual total precipitation (in mm)\n",
    "* Atmospheric $CO_2$ concentration (in ppm, only for millet)\n",
    "* Sum of annual amount of chemical fertilizer (nitrogen + manure, kg per hectares)\n",
    "\n",
    "The cost function contains a momentum regularization. In order to reduce the variability due to the initial random choice of the parameter values, the model is run several times with different weights initialization values as in an ensemble technique and the mean value of the ensemble is used for the yeld. In the paper 20 models with the same architecture but different weight initialization values are used as members of an ensemble. The training is performed using the k-fold cross-validation technique for which k examples are removed from the examples and used as a test set. In our case k=n so that only one example is used as test for each epoch (leave-one-out). A validation test is performed using a subset of the example set. The training process is  stopped as soon as the error increases (early stopping).      \n",
    "\n",
    "* Model: neural network with one hidden layer using the tanh activation function (see [scikit-learn Multi-layer Perceptron](https://scikit-learn.org/stable/modules/neural_networks_supervised.html))\n",
    "* Cost function: quadratic loss (or mean squared error) with momentum regularization\n",
    "* Training procedure: [leave-one-out](https://scikit-learn.org/stable/modules/cross_validation.html#leave-one-out-loo) cross validation (one example used for test, a subset (10% random examples) used for validation and the rest for training) with [early stopping](https://scikit-learn.org/stable/auto_examples/linear_model/plot_sgd_early_stopping.html)\n",
    "* Optimization algorithm: stochastic gradient descent (fixed learning rate) or Quasi-Newton BFGS (see scikit-learn Multi-layer Perceptron [algorithms](https://scikit-learn.org/stable/modules/neural_networks_supervised.html#algorithms))  \n",
    "* Data pre-processing: mean normalization \n",
    "* [Ensemble method](https://scikit-learn.org/stable/modules/ensemble.html): neural network models with different weights initialization and validation set (bootstrap replicates: sampling with replacement from the training dataset after the test set has been selected)\n",
    "\n",
    "\n",
    "We create an MLP with one hidden layer to approximate a function that represents the yeld of a crop (maize or millet) depending on the yearly values of precipitation, temperature, number of hours with temperatures above 30°C, amount of nitrogen fertilizer, and amount of manure fertilizer. We use a 4-5-1 architecture. We can compute the preactivation of the hidden layer by a matrix multiplications between the units of the input layer and the units of the hidden layer.\n",
    "\n",
    "$$z_h = W_{xh}x + b_h$$\n",
    "\n",
    "The output of the hidden layer is then computed by applying an activation function $\\sigma_h$ to the result of the preactivations\n",
    "\n",
    "$$a_h = \\sigma_h (W_{xh}x + b_h)$$\n",
    "\n",
    "The output of the neural network is computed in the same way by a matrix multiplication between the units of the hidden layer and the output unit. Considering the bias for each unit, the number of paramenters (weights) for a 4-5-1 neural network is 31."
   ]
  },
  {
   "cell_type": "markdown",
   "id": "c71d680c",
   "metadata": {},
   "source": [
    "$$ℒ = \\frac{1}{2}||y(x, w) - y^*(x)||^2 + \\mu ||w||^2$$"
   ]
  },
  {
   "cell_type": "markdown",
   "id": "79087373",
   "metadata": {},
   "source": [
    "$$w_{i+1} = w_i - γ∇_wℒ$$"
   ]
  },
  {
   "cell_type": "markdown",
   "id": "698875b3",
   "metadata": {},
   "source": [
    "## Ensemble method\n",
    "The methodology can be described algorithmically. The same procedure is used for the two ensembles, one for maize model (4 input units, 5 hidden, 1 output) and one for millet model (5 input units, 5 hidden, 1 output). The execution of the estimators from the bootstrap samples can be done in [parallel](https://scikit-learn.org/stable/computing/parallelism.html) on a multicore CPU.\n"
   ]
  },
  {
   "cell_type": "markdown",
   "id": "cbf56f34",
   "metadata": {},
   "source": [
    "````\n",
    "N = 202 # number of records\n",
    "\n",
    "# Hyper parameters setting\n",
    "E = 20 # number of ensemble members\n",
    "V = 15 # size of the validation set\n",
    "M = 5000 # number of epochs (training cycles using all the records in the training set) \n",
    "m = 0.6 # momentum\n",
    "l = 0.35 # learning rate\n",
    "\n",
    "model_maize[E] = array[E]\n",
    "\n",
    "# Training procedure\n",
    "for ensemble in range(0, E): \n",
    "  init_weights(model_maize[ensemble])\n",
    "  for test in range(0, N):\n",
    "    dataset = dataset - record[test]\n",
    "    val_set = select_val_set(dataset)\n",
    "    train_set = dataset - val_set\n",
    "    for epoch in range(0, M):\n",
    "      train_model(model_maize[ensemble], train_set) \n",
    "      val_model(model_maize[ensemble], val_set) # apply early stopping when validation error increases\n",
    "    save(model_maize[ensemble])\n",
    "\n",
    "# Inference procedure\n",
    "sum_model_out[N] = array[N]\n",
    "for test in range(0, N):\n",
    "  sum_model_out[test] = 0\n",
    "  for ensemble in range(0, E):\n",
    "    model_output[test] = model_maize[ensemble](test)\n",
    "    sum_model_out[test] = sum_model_out[test] + model_output[test]\n",
    "  sum_model_out[test] = sum_model_out[test] / E\n",
    "````"
   ]
  },
  {
   "cell_type": "markdown",
   "id": "6fefd5ff",
   "metadata": {},
   "source": [
    "## scikit-learn\n",
    "Scikit-Learn is an open source machine learning Python package that implements several algorithms for classification and regression tasks. The API is based on classes that allow the user to choose classification and optimization algorithms, transformations for data pre-processing and constructs to build processing workflows. The scikit-learn library with other Python packages such as Pandas, NumPy, and Matplotlib, provide all the components required for this project. "
   ]
  },
  {
   "cell_type": "markdown",
   "id": "0f4174af",
   "metadata": {},
   "source": [
    "## Data pre-processing\n",
    "We process the data for each country. We scale the yeld data to be withing the range [-1, 1]"
   ]
  },
  {
   "cell_type": "markdown",
   "id": "0fdc6139",
   "metadata": {},
   "source": [
    "### Burkina Faso"
   ]
  },
  {
   "cell_type": "code",
   "execution_count": 4,
   "id": "e1f3dbc0",
   "metadata": {},
   "outputs": [
    {
     "data": {
      "text/plain": [
       "0    1980\n",
       "1    1981\n",
       "2    1982\n",
       "dtype: int64"
      ]
     },
     "execution_count": 4,
     "metadata": {},
     "output_type": "execute_result"
    }
   ],
   "source": [
    "year_index = pd.Series(pd.date_range('1980', periods=31, freq=\"Y\")).dt.year\n",
    "year_index[:3]"
   ]
  },
  {
   "cell_type": "markdown",
   "id": "485fa497",
   "metadata": {},
   "source": [
    "We select the records for Burkina Faso"
   ]
  },
  {
   "cell_type": "code",
   "execution_count": 7,
   "id": "6a10d381",
   "metadata": {},
   "outputs": [
    {
     "name": "stdout",
     "output_type": "stream",
     "text": [
      "Number of records for Burkina Faso: 31\n"
     ]
    }
   ],
   "source": [
    "crop_yeld_bf_df = crop_yeld_df[crop_yeld_df['Area'] == 'Burkina Faso']\n",
    "print('Number of records for Burkina Faso: {0:d}'.format(len(crop_yeld_bf_df)))"
   ]
  },
  {
   "cell_type": "code",
   "execution_count": 8,
   "id": "8862c199",
   "metadata": {},
   "outputs": [
    {
     "data": {
      "text/html": [
       "<div>\n",
       "<style scoped>\n",
       "    .dataframe tbody tr th:only-of-type {\n",
       "        vertical-align: middle;\n",
       "    }\n",
       "\n",
       "    .dataframe tbody tr th {\n",
       "        vertical-align: top;\n",
       "    }\n",
       "\n",
       "    .dataframe thead th {\n",
       "        text-align: right;\n",
       "    }\n",
       "</style>\n",
       "<table border=\"1\" class=\"dataframe\">\n",
       "  <thead>\n",
       "    <tr style=\"text-align: right;\">\n",
       "      <th></th>\n",
       "      <th>Area</th>\n",
       "      <th>pcp</th>\n",
       "      <th>tmp</th>\n",
       "      <th>tmp30sr</th>\n",
       "      <th>mean CO2</th>\n",
       "      <th>unc CO2</th>\n",
       "      <th>N [kg/ha]</th>\n",
       "      <th>P2O5 [kg/ha]</th>\n",
       "      <th>K2O [kg/ha]</th>\n",
       "      <th>Manure applied to Soils [kg/ha]</th>\n",
       "      <th>N + Manure [kg/ha]</th>\n",
       "      <th>Maize [hg/ha]</th>\n",
       "      <th>Millet [hg/ha]</th>\n",
       "    </tr>\n",
       "  </thead>\n",
       "  <tbody>\n",
       "    <tr>\n",
       "      <th>1980</th>\n",
       "      <td>Burkina Faso</td>\n",
       "      <td>79.903095</td>\n",
       "      <td>26.477923</td>\n",
       "      <td>584.412288</td>\n",
       "      <td>338.76</td>\n",
       "      <td>0.12</td>\n",
       "      <td>0.45</td>\n",
       "      <td>0.69</td>\n",
       "      <td>0.41</td>\n",
       "      <td>3.2465</td>\n",
       "      <td>3.6965</td>\n",
       "      <td>9029</td>\n",
       "      <td>4871</td>\n",
       "    </tr>\n",
       "    <tr>\n",
       "      <th>1981</th>\n",
       "      <td>Burkina Faso</td>\n",
       "      <td>91.976429</td>\n",
       "      <td>25.869713</td>\n",
       "      <td>514.558300</td>\n",
       "      <td>340.12</td>\n",
       "      <td>0.12</td>\n",
       "      <td>1.08</td>\n",
       "      <td>1.55</td>\n",
       "      <td>0.84</td>\n",
       "      <td>3.6697</td>\n",
       "      <td>4.7497</td>\n",
       "      <td>8297</td>\n",
       "      <td>4801</td>\n",
       "    </tr>\n",
       "    <tr>\n",
       "      <th>1982</th>\n",
       "      <td>Burkina Faso</td>\n",
       "      <td>49.251481</td>\n",
       "      <td>27.276417</td>\n",
       "      <td>834.173411</td>\n",
       "      <td>341.48</td>\n",
       "      <td>0.12</td>\n",
       "      <td>1.15</td>\n",
       "      <td>1.59</td>\n",
       "      <td>0.87</td>\n",
       "      <td>3.9769</td>\n",
       "      <td>5.1269</td>\n",
       "      <td>8235</td>\n",
       "      <td>4853</td>\n",
       "    </tr>\n",
       "  </tbody>\n",
       "</table>\n",
       "</div>"
      ],
      "text/plain": [
       "              Area        pcp        tmp     tmp30sr  mean CO2  unc CO2  \\\n",
       "1980  Burkina Faso  79.903095  26.477923  584.412288    338.76     0.12   \n",
       "1981  Burkina Faso  91.976429  25.869713  514.558300    340.12     0.12   \n",
       "1982  Burkina Faso  49.251481  27.276417  834.173411    341.48     0.12   \n",
       "\n",
       "      N [kg/ha]  P2O5 [kg/ha]  K2O [kg/ha]  Manure applied to Soils [kg/ha]  \\\n",
       "1980       0.45          0.69         0.41                           3.2465   \n",
       "1981       1.08          1.55         0.84                           3.6697   \n",
       "1982       1.15          1.59         0.87                           3.9769   \n",
       "\n",
       "      N + Manure [kg/ha]  Maize [hg/ha]  Millet [hg/ha]  \n",
       "1980              3.6965           9029            4871  \n",
       "1981              4.7497           8297            4801  \n",
       "1982              5.1269           8235            4853  "
      ]
     },
     "execution_count": 8,
     "metadata": {},
     "output_type": "execute_result"
    }
   ],
   "source": [
    "crop_yeld_bf_df.drop(['Year'], axis=1, inplace=True)\n",
    "crop_yeld_bf_df = crop_yeld_bf_df.set_index(year_index)\n",
    "crop_yeld_bf_df[:3]"
   ]
  },
  {
   "cell_type": "markdown",
   "id": "0710b395",
   "metadata": {},
   "source": [
    "We plot the yeld data for maize and millet"
   ]
  },
  {
   "cell_type": "code",
   "execution_count": 9,
   "id": "4aa2ade9",
   "metadata": {},
   "outputs": [
    {
     "data": {
      "text/plain": [
       "[<matplotlib.lines.Line2D at 0x1d502fb5410>]"
      ]
     },
     "execution_count": 9,
     "metadata": {},
     "output_type": "execute_result"
    },
    {
     "data": {
      "image/png": "[encoded data removed]",
      "text/plain": [
       "<Figure size 1200x600 with 1 Axes>"
      ]
     },
     "metadata": {},
     "output_type": "display_data"
    }
   ],
   "source": [
    "fig = plt.figure(figsize=(12, 6))\n",
    "ax = fig.add_subplot()\n",
    "ax.set_title('Maize Yeld of Burkina Faso')\n",
    "ax.set_xlabel('Year')\n",
    "ax.set_ylabel('Maize Yeld [hg/ha]');\n",
    "ax.set_xticks(crop_yeld_bf_df.index)\n",
    "ax.set_xticklabels(crop_yeld_bf_df.index, rotation=70)\n",
    "ax.grid(True, which='both')\n",
    "plt.plot(crop_yeld_bf_df['Maize [hg/ha]'])"
   ]
  },
  {
   "cell_type": "code",
   "execution_count": 10,
   "id": "129a44a9",
   "metadata": {},
   "outputs": [
    {
     "data": {
      "text/plain": [
       "[<matplotlib.lines.Line2D at 0x1d503126b90>]"
      ]
     },
     "execution_count": 10,
     "metadata": {},
     "output_type": "execute_result"
    },
    {
     "data": {
      "image/png": "[encoded data removed]",
      "text/plain": [
       "<Figure size 1200x600 with 1 Axes>"
      ]
     },
     "metadata": {},
     "output_type": "display_data"
    }
   ],
   "source": [
    "fig = plt.figure(figsize=(12, 6))\n",
    "ax = fig.add_subplot()\n",
    "ax.set_title('Millet Yeld of Burkina Faso')\n",
    "ax.set_xlabel('Year')\n",
    "ax.set_ylabel('Millet Yeld [hg/ha]');\n",
    "ax.set_xticks(crop_yeld_bf_df.index)\n",
    "ax.set_xticklabels(crop_yeld_bf_df.index, rotation=70)\n",
    "ax.grid(True, which='both')\n",
    "plt.plot(crop_yeld_bf_df['Millet [hg/ha]'])"
   ]
  },
  {
   "cell_type": "code",
   "execution_count": 10,
   "id": "1341dbd4",
   "metadata": {},
   "outputs": [
    {
     "name": "stdout",
     "output_type": "stream",
     "text": [
      "Mean maize yeld for Burkina Faso: 13207.90\n"
     ]
    }
   ],
   "source": [
    "N = crop_yeld_bf_df.shape[0]\n",
    "mean_maize_bf = crop_yeld_bf_df['Maize [hg/ha]'].sum() / N\n",
    "print('Mean maize yeld for Burkina Faso: {0:.2f}'.format(mean_maize_bf))"
   ]
  },
  {
   "cell_type": "code",
   "execution_count": 11,
   "id": "87f76dc2",
   "metadata": {},
   "outputs": [
    {
     "data": {
      "text/plain": [
       "1980   -0.071282\n",
       "1981   -0.146575\n",
       "1982   -0.152952\n",
       "Name: Maize [hg/ha], dtype: float64"
      ]
     },
     "execution_count": 11,
     "metadata": {},
     "output_type": "execute_result"
    }
   ],
   "source": [
    "max_maize_bf = crop_yeld_bf_df['Maize [hg/ha]'].max() * 1.0\n",
    "maize_yeld_bf_norm_df = (crop_yeld_bf_df['Maize [hg/ha]'] / max_maize_bf - 0.5) * 2\n",
    "maize_yeld_bf_norm_df[:3]"
   ]
  },
  {
   "cell_type": "code",
   "execution_count": 12,
   "id": "c61a1c0e",
   "metadata": {},
   "outputs": [
    {
     "name": "stdout",
     "output_type": "stream",
     "text": [
      "Mean millet yeld for Burkina Faso: 6688.29\n"
     ]
    }
   ],
   "source": [
    "mean_millet_bf = crop_yeld_bf_df['Millet [hg/ha]'].sum() / N\n",
    "print('Mean millet yeld for Burkina Faso: {0:.2f}'.format(mean_millet_bf))"
   ]
  },
  {
   "cell_type": "code",
   "execution_count": 13,
   "id": "1f76636f",
   "metadata": {},
   "outputs": [
    {
     "data": {
      "text/plain": [
       "1980    0.014475\n",
       "1981   -0.000104\n",
       "1982    0.010726\n",
       "Name: Millet [hg/ha], dtype: float64"
      ]
     },
     "execution_count": 13,
     "metadata": {},
     "output_type": "execute_result"
    }
   ],
   "source": [
    "max_millet_bf = crop_yeld_bf_df['Millet [hg/ha]'].max() * 1.0\n",
    "millet_yeld_bf_norm_df = (crop_yeld_bf_df['Millet [hg/ha]'] / max_millet_bf - 0.5) * 2\n",
    "millet_yeld_bf_norm_df[:3]"
   ]
  },
  {
   "cell_type": "code",
   "execution_count": 14,
   "id": "c80415b4",
   "metadata": {},
   "outputs": [
    {
     "data": {
      "text/html": [
       "<div>\n",
       "<style scoped>\n",
       "    .dataframe tbody tr th:only-of-type {\n",
       "        vertical-align: middle;\n",
       "    }\n",
       "\n",
       "    .dataframe tbody tr th {\n",
       "        vertical-align: top;\n",
       "    }\n",
       "\n",
       "    .dataframe thead th {\n",
       "        text-align: right;\n",
       "    }\n",
       "</style>\n",
       "<table border=\"1\" class=\"dataframe\">\n",
       "  <thead>\n",
       "    <tr style=\"text-align: right;\">\n",
       "      <th></th>\n",
       "      <th>Millet</th>\n",
       "      <th>Maize</th>\n",
       "    </tr>\n",
       "  </thead>\n",
       "  <tbody>\n",
       "    <tr>\n",
       "      <th>1980</th>\n",
       "      <td>0.014475</td>\n",
       "      <td>-0.071282</td>\n",
       "    </tr>\n",
       "    <tr>\n",
       "      <th>1981</th>\n",
       "      <td>-0.000104</td>\n",
       "      <td>-0.146575</td>\n",
       "    </tr>\n",
       "    <tr>\n",
       "      <th>1982</th>\n",
       "      <td>0.010726</td>\n",
       "      <td>-0.152952</td>\n",
       "    </tr>\n",
       "    <tr>\n",
       "      <th>1983</th>\n",
       "      <td>-0.122149</td>\n",
       "      <td>-0.419152</td>\n",
       "    </tr>\n",
       "    <tr>\n",
       "      <th>1984</th>\n",
       "      <td>0.071957</td>\n",
       "      <td>-0.340876</td>\n",
       "    </tr>\n",
       "    <tr>\n",
       "      <th>1985</th>\n",
       "      <td>0.254191</td>\n",
       "      <td>0.019338</td>\n",
       "    </tr>\n",
       "    <tr>\n",
       "      <th>1986</th>\n",
       "      <td>0.208164</td>\n",
       "      <td>-0.034355</td>\n",
       "    </tr>\n",
       "    <tr>\n",
       "      <th>1987</th>\n",
       "      <td>0.126939</td>\n",
       "      <td>-0.238017</td>\n",
       "    </tr>\n",
       "    <tr>\n",
       "      <th>1988</th>\n",
       "      <td>0.332084</td>\n",
       "      <td>-0.157169</td>\n",
       "    </tr>\n",
       "    <tr>\n",
       "      <th>1989</th>\n",
       "      <td>0.058419</td>\n",
       "      <td>0.195536</td>\n",
       "    </tr>\n",
       "    <tr>\n",
       "      <th>1990</th>\n",
       "      <td>-0.085078</td>\n",
       "      <td>0.502983</td>\n",
       "    </tr>\n",
       "    <tr>\n",
       "      <th>1991</th>\n",
       "      <td>0.462251</td>\n",
       "      <td>0.735034</td>\n",
       "    </tr>\n",
       "    <tr>\n",
       "      <th>1992</th>\n",
       "      <td>0.355826</td>\n",
       "      <td>0.567373</td>\n",
       "    </tr>\n",
       "    <tr>\n",
       "      <th>1993</th>\n",
       "      <td>0.448089</td>\n",
       "      <td>0.411438</td>\n",
       "    </tr>\n",
       "    <tr>\n",
       "      <th>1994</th>\n",
       "      <td>0.320212</td>\n",
       "      <td>0.650072</td>\n",
       "    </tr>\n",
       "    <tr>\n",
       "      <th>1995</th>\n",
       "      <td>0.498907</td>\n",
       "      <td>0.176815</td>\n",
       "    </tr>\n",
       "    <tr>\n",
       "      <th>1996</th>\n",
       "      <td>0.567635</td>\n",
       "      <td>0.596482</td>\n",
       "    </tr>\n",
       "    <tr>\n",
       "      <th>1997</th>\n",
       "      <td>0.089451</td>\n",
       "      <td>0.561921</td>\n",
       "    </tr>\n",
       "    <tr>\n",
       "      <th>1998</th>\n",
       "      <td>0.628866</td>\n",
       "      <td>0.431701</td>\n",
       "    </tr>\n",
       "    <tr>\n",
       "      <th>1999</th>\n",
       "      <td>0.533271</td>\n",
       "      <td>0.670541</td>\n",
       "    </tr>\n",
       "    <tr>\n",
       "      <th>2000</th>\n",
       "      <td>0.327294</td>\n",
       "      <td>0.804464</td>\n",
       "    </tr>\n",
       "    <tr>\n",
       "      <th>2001</th>\n",
       "      <td>0.588462</td>\n",
       "      <td>0.863300</td>\n",
       "    </tr>\n",
       "    <tr>\n",
       "      <th>2002</th>\n",
       "      <td>0.490784</td>\n",
       "      <td>0.787801</td>\n",
       "    </tr>\n",
       "    <tr>\n",
       "      <th>2003</th>\n",
       "      <td>0.753619</td>\n",
       "      <td>0.572105</td>\n",
       "    </tr>\n",
       "    <tr>\n",
       "      <th>2004</th>\n",
       "      <td>0.619910</td>\n",
       "      <td>0.302818</td>\n",
       "    </tr>\n",
       "    <tr>\n",
       "      <th>2005</th>\n",
       "      <td>0.902322</td>\n",
       "      <td>0.857437</td>\n",
       "    </tr>\n",
       "    <tr>\n",
       "      <th>2006</th>\n",
       "      <td>1.000000</td>\n",
       "      <td>1.000000</td>\n",
       "    </tr>\n",
       "    <tr>\n",
       "      <th>2007</th>\n",
       "      <td>0.701135</td>\n",
       "      <td>0.207159</td>\n",
       "    </tr>\n",
       "    <tr>\n",
       "      <th>2008</th>\n",
       "      <td>0.657399</td>\n",
       "      <td>0.713845</td>\n",
       "    </tr>\n",
       "    <tr>\n",
       "      <th>2009</th>\n",
       "      <td>0.611163</td>\n",
       "      <td>0.572310</td>\n",
       "    </tr>\n",
       "    <tr>\n",
       "      <th>2010</th>\n",
       "      <td>0.755493</td>\n",
       "      <td>0.475211</td>\n",
       "    </tr>\n",
       "  </tbody>\n",
       "</table>\n",
       "</div>"
      ],
      "text/plain": [
       "        Millet     Maize\n",
       "1980  0.014475 -0.071282\n",
       "1981 -0.000104 -0.146575\n",
       "1982  0.010726 -0.152952\n",
       "1983 -0.122149 -0.419152\n",
       "1984  0.071957 -0.340876\n",
       "1985  0.254191  0.019338\n",
       "1986  0.208164 -0.034355\n",
       "1987  0.126939 -0.238017\n",
       "1988  0.332084 -0.157169\n",
       "1989  0.058419  0.195536\n",
       "1990 -0.085078  0.502983\n",
       "1991  0.462251  0.735034\n",
       "1992  0.355826  0.567373\n",
       "1993  0.448089  0.411438\n",
       "1994  0.320212  0.650072\n",
       "1995  0.498907  0.176815\n",
       "1996  0.567635  0.596482\n",
       "1997  0.089451  0.561921\n",
       "1998  0.628866  0.431701\n",
       "1999  0.533271  0.670541\n",
       "2000  0.327294  0.804464\n",
       "2001  0.588462  0.863300\n",
       "2002  0.490784  0.787801\n",
       "2003  0.753619  0.572105\n",
       "2004  0.619910  0.302818\n",
       "2005  0.902322  0.857437\n",
       "2006  1.000000  1.000000\n",
       "2007  0.701135  0.207159\n",
       "2008  0.657399  0.713845\n",
       "2009  0.611163  0.572310\n",
       "2010  0.755493  0.475211"
      ]
     },
     "execution_count": 14,
     "metadata": {},
     "output_type": "execute_result"
    }
   ],
   "source": [
    "x_yeld_bf_df = pd.DataFrame({'Millet': millet_yeld_bf_norm_df, 'Maize': maize_yeld_bf_norm_df})\n",
    "x_yeld_bf_df"
   ]
  },
  {
   "cell_type": "markdown",
   "id": "755c3ea9",
   "metadata": {},
   "source": [
    "## Train, validation, and test set\n",
    "The dataset is divided into a train and validation set and a test set. The train and validation set is then split into a train set and a validation set."
   ]
  },
  {
   "cell_type": "code",
   "execution_count": null,
   "id": "ee4bfe46",
   "metadata": {},
   "outputs": [],
   "source": [
    "from sklearn.model_selection import train_test_split"
   ]
  },
  {
   "cell_type": "markdown",
   "id": "baf25f08",
   "metadata": {},
   "source": [
    "## References\n",
    "* [Pasini et al. - Influence of Meteo-Climatic Variables and Fertilizer Use on Crop Yelds in the Sahel: A Nonlinear Neural-Network Analysis](https://www.mdpi.com/2225-1154/10/12/193)\n",
    "* [Pasini - Artificial neural network for small dataset analysis](https://jtd.amegroups.org/article/view/4418/4811)\n",
    "* [LeCun et al. - Efficient BackProp](https://cseweb.ucsd.edu/classes/wi08/cse253/Handouts/lecun-98b.pdf)\n",
    "* [Nocedal - Numerical Optimization, 2nd Ed.](https://link.springer.com/book/10.1007/978-0-387-40065-5)\n",
    "* [Buitinck et al. - API design for machine learning software: experiences from scikit-learn project](https://arxiv.org/abs/1309.0238)"
   ]
  },
  {
   "cell_type": "code",
   "execution_count": null,
   "id": "cf257b90",
   "metadata": {},
   "outputs": [],
   "source": []
  }
 ],
 "metadata": {
  "kernelspec": {
   "display_name": "Python 3 (ipykernel)",
   "language": "python",
   "name": "python3"
  },
  "language_info": {
   "codemirror_mode": {
    "name": "ipython",
    "version": 3
   },
   "file_extension": ".py",
   "mimetype": "text/x-python",
   "name": "python",
   "nbconvert_exporter": "python",
   "pygments_lexer": "ipython3",
   "version": "3.11.4"
  }
 },
 "nbformat": 4,
 "nbformat_minor": 5
}
