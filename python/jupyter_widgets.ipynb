{
 "cells": [
  {
   "cell_type": "markdown",
   "id": "0c61c3d5-9758-4fab-9c01-1bc8ddb3cd9b",
   "metadata": {},
   "source": [
    "# Jupyter widgets\n",
    "[Jupyter widgets](https://ipywidgets.readthedocs.io/en/latest/index.html) are visual components that enhance the interaction with a Jupyter notebook. In this notebook we test some of the widgets. "
   ]
  },
  {
   "cell_type": "code",
   "execution_count": 1,
   "id": "9f89e038-4e57-475c-957f-6cd7dde506df",
   "metadata": {},
   "outputs": [
    {
     "name": "stdout",
     "output_type": "stream",
     "text": [
      "NumPy version: 1.26.4\n",
      "GDAL version: 3.9.2\n"
     ]
    }
   ],
   "source": [
    "import os\n",
    "import numpy as np\n",
    "from osgeo import gdal, osr, ogr\n",
    "import matplotlib.pyplot as plt\n",
    "from skimage import io\n",
    "from skimage import exposure\n",
    "from skimage.io import imsave, imread\n",
    "#from rasterio.plot import show\n",
    "from IPython.display import display\n",
    "from ipywidgets import Checkbox, VBox, HBox, Layout, Text, Image\n",
    "from ipywidgets import interact, interactive, fixed, interact_manual\n",
    "import ipywidgets as widgets\n",
    "import warnings\n",
    "print(\"NumPy version: %s\"%np.__version__)\n",
    "print(\"GDAL version: %s\"%gdal.__version__)\n",
    "warnings.filterwarnings('ignore')"
   ]
  },
  {
   "cell_type": "markdown",
   "id": "f23fab09-ca3a-4847-8ff7-dbb6960961d7",
   "metadata": {},
   "source": [
    "## Interact\n",
    "It is a widget that returns the value of a function for each value of its arguments passed through the widget. The type of widget depends on the type of argument passed to the function. For example, if we pass an integer interval thw widget used will be an integer slider."
   ]
  },
  {
   "cell_type": "code",
   "execution_count": 2,
   "id": "9658351a-12c9-4e53-a5b2-2dee5bc32591",
   "metadata": {},
   "outputs": [],
   "source": [
    "def f(x):\n",
    "    return x * x"
   ]
  },
  {
   "cell_type": "code",
   "execution_count": 4,
   "id": "1ccc2b8c-de3e-4758-a4cd-a8c9c4845453",
   "metadata": {},
   "outputs": [
    {
     "data": {
      "application/vnd.jupyter.widget-view+json": {
       "model_id": "6337d985be5e4a5d8e167b314cd58154",
       "version_major": 2,
       "version_minor": 0
      },
      "text/plain": [
       "interactive(children=(IntSlider(value=4, description='x', max=9), Output()), _dom_classes=('widget-interact',)…"
      ]
     },
     "metadata": {},
     "output_type": "display_data"
    }
   ],
   "source": [
    "w = interact(f, x=(0,9));"
   ]
  },
  {
   "cell_type": "code",
   "execution_count": 5,
   "id": "7d8f048d-137d-46c9-894d-1c3c5bef32eb",
   "metadata": {},
   "outputs": [
    {
     "data": {
      "text/plain": [
       "4"
      ]
     },
     "execution_count": 5,
     "metadata": {},
     "output_type": "execute_result"
    }
   ],
   "source": [
    "x = w.widget.children[0].get_state('value')['value']\n",
    "x"
   ]
  },
  {
   "cell_type": "code",
   "execution_count": 6,
   "id": "85e4f399-f432-4549-a72d-e2ece48f3014",
   "metadata": {},
   "outputs": [
    {
     "data": {
      "text/plain": [
       "16"
      ]
     },
     "execution_count": 6,
     "metadata": {},
     "output_type": "execute_result"
    }
   ],
   "source": [
    "f(x)"
   ]
  },
  {
   "cell_type": "markdown",
   "id": "cf403c5b-eb56-4e4c-b967-1684194cd1d2",
   "metadata": {},
   "source": [
    "## Slider"
   ]
  },
  {
   "cell_type": "code",
   "execution_count": 52,
   "id": "b55f2717-1422-47a9-a725-428c478cef23",
   "metadata": {},
   "outputs": [
    {
     "data": {
      "application/vnd.jupyter.widget-view+json": {
       "model_id": "0ba0a52d908d45aa9cf676b42d043c8a",
       "version_major": 2,
       "version_minor": 0
      },
      "text/plain": [
       "IntSlider(value=0, max=10)"
      ]
     },
     "metadata": {},
     "output_type": "display_data"
    }
   ],
   "source": [
    "slider = widgets.IntSlider(value=0, min=0, max=10, step=1)\n",
    "display(slider)"
   ]
  },
  {
   "cell_type": "code",
   "execution_count": 53,
   "id": "87b6579a-a3eb-486b-a826-91415224bcf8",
   "metadata": {},
   "outputs": [
    {
     "name": "stdout",
     "output_type": "stream",
     "text": [
      "Slider value: 4\n"
     ]
    }
   ],
   "source": [
    "current_value = slider.value\n",
    "print('Slider value: {:d}'.format(current_value))"
   ]
  },
  {
   "cell_type": "markdown",
   "id": "f435e42f-f9d6-4ca6-84f7-815702e5da86",
   "metadata": {},
   "source": [
    "## Checkbox\n",
    "Checkboxes are used to select multiple elements from a collection, e.g. images."
   ]
  },
  {
   "cell_type": "code",
   "execution_count": 63,
   "id": "1c36cc79-3f68-421d-95a2-1bdb8da26bf1",
   "metadata": {},
   "outputs": [
    {
     "data": {
      "application/vnd.jupyter.widget-view+json": {
       "model_id": "1c8190c59fbf47e29af23e2c620998bc",
       "version_major": 2,
       "version_minor": 0
      },
      "text/plain": [
       "Checkbox(value=False, description='Check me')"
      ]
     },
     "metadata": {},
     "output_type": "display_data"
    }
   ],
   "source": [
    "c = widgets.Checkbox(value=False, description='Check me')\n",
    "display(c)"
   ]
  },
  {
   "cell_type": "code",
   "execution_count": 65,
   "id": "fcba1919-879d-4641-bdd0-f047ab35100b",
   "metadata": {},
   "outputs": [
    {
     "data": {
      "text/plain": [
       "True"
      ]
     },
     "execution_count": 65,
     "metadata": {},
     "output_type": "execute_result"
    }
   ],
   "source": [
    "c.value"
   ]
  },
  {
   "cell_type": "code",
   "execution_count": 142,
   "id": "f0959875-18c1-4408-ac6a-d9c17f1a42d2",
   "metadata": {},
   "outputs": [],
   "source": [
    "img_path = 'images/'\n",
    "img_list = []\n",
    "for file in os.listdir(img_path):\n",
    "    if file.endswith(\".tif\"):\n",
    "        img_list.append(os.path.join(img_path, file))"
   ]
  },
  {
   "cell_type": "code",
   "execution_count": 143,
   "id": "f82bbbfc-85e8-4183-a908-5c01f7cc431b",
   "metadata": {},
   "outputs": [
    {
     "data": {
      "text/plain": [
       "['images/Building1.tif',\n",
       " 'images/Building2.tif',\n",
       " 'images/Building3.tif',\n",
       " 'images/Building4.tif',\n",
       " 'images/Building5.tif',\n",
       " 'images/Building6.tif',\n",
       " 'images/Building7.tif',\n",
       " 'images/Building8.tif']"
      ]
     },
     "execution_count": 143,
     "metadata": {},
     "output_type": "execute_result"
    }
   ],
   "source": [
    "img_list"
   ]
  },
  {
   "cell_type": "code",
   "execution_count": 144,
   "id": "93ba2e03-6150-45e6-a32d-a2fff00ce028",
   "metadata": {},
   "outputs": [],
   "source": [
    "def f(delete):\n",
    "    return delete"
   ]
  },
  {
   "cell_type": "code",
   "execution_count": 145,
   "id": "9e52522e-a57a-4098-8cf4-f1738028b14f",
   "metadata": {},
   "outputs": [],
   "source": [
    "def browse_images(img_list):\n",
    "    '''\n",
    "    This function uses a widget to show and flag the images\n",
    "    '''\n",
    "    n = len(img_list)\n",
    "    check_list = []\n",
    "    for i in range(n):\n",
    "        #check = interactive(f, delete=False, description='Check me');\n",
    "        check = widgets.Checkbox(description='Remove')\n",
    "        check_list.append(check)\n",
    "        \n",
    "    def view_image(i):\n",
    "        img_or = io.imread(img_list[i])\n",
    "        img = exposure.equalize_hist(img_or)\n",
    "        plt.imshow(img, cmap=plt.cm.gray_r, interpolation='nearest')\n",
    "        title = img_list[i][-10:-4]\n",
    "        plt.title('Training: %s' % title)\n",
    "        display(check_list[i])\n",
    "        plt.show()\n",
    "    \n",
    "    interact(view_image, i = (0, n - 1))\n",
    "    return check_list"
   ]
  },
  {
   "cell_type": "code",
   "execution_count": 146,
   "id": "8a32fc4d-90f0-49bf-87d1-96a394bbf264",
   "metadata": {},
   "outputs": [
    {
     "data": {
      "application/vnd.jupyter.widget-view+json": {
       "model_id": "e64f8174823f474bb14c9f8e81b4b33d",
       "version_major": 2,
       "version_minor": 0
      },
      "text/plain": [
       "interactive(children=(IntSlider(value=3, description='i', max=7), Output()), _dom_classes=('widget-interact',)…"
      ]
     },
     "metadata": {},
     "output_type": "display_data"
    }
   ],
   "source": [
    "check_list = browse_images(img_list)"
   ]
  },
  {
   "cell_type": "code",
   "execution_count": 148,
   "id": "5989a9e5-9d75-4839-8708-00dca7e4ba61",
   "metadata": {},
   "outputs": [
    {
     "name": "stdout",
     "output_type": "stream",
     "text": [
      "True\n",
      "False\n",
      "True\n",
      "False\n",
      "True\n",
      "False\n",
      "True\n",
      "False\n"
     ]
    }
   ],
   "source": [
    "for i in range(len(check_list)):\n",
    "    print(check_list[i].value)"
   ]
  },
  {
   "cell_type": "code",
   "execution_count": null,
   "id": "9dad7519-64f7-47ba-962e-8098c310b74c",
   "metadata": {},
   "outputs": [],
   "source": []
  }
 ],
 "metadata": {
  "kernelspec": {
   "display_name": "Python 3 (ipykernel)",
   "language": "python",
   "name": "python3"
  },
  "language_info": {
   "codemirror_mode": {
    "name": "ipython",
    "version": 3
   },
   "file_extension": ".py",
   "mimetype": "text/x-python",
   "name": "python",
   "nbconvert_exporter": "python",
   "pygments_lexer": "ipython3",
   "version": "3.12.5"
  }
 },
 "nbformat": 4,
 "nbformat_minor": 5
}
