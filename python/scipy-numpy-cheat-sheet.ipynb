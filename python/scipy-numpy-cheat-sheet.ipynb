{
 "cells": [
  {
   "cell_type": "markdown",
   "metadata": {},
   "source": [
    "# SciPy and NumPy Cheat Sheet\n",
    "The main libraries in Python are NumPy, SciPy, Matplotlib and Pandas\n",
    "NumPy provides homogeneous multidimensional arrays, SciPy provides functions and operators for mathematical computation\n",
    "Matplotlib can be used to plot functions and Pandas is used for non-homogeneous data manipulation and reading and writing files."
   ]
  },
  {
   "cell_type": "code",
   "execution_count": 1,
   "metadata": {},
   "outputs": [],
   "source": [
    "%matplotlib inline"
   ]
  },
  {
   "cell_type": "markdown",
   "metadata": {},
   "source": [
    "## Python built-in data structures\n",
    "Python offers the following built-in data structures: tutple, list, dictionary and set. We will discuss the array data structure in a following sextion about the NumPy numerical package. "
   ]
  },
  {
   "cell_type": "markdown",
   "metadata": {},
   "source": [
    "### Tuple\n",
    "A tutple is an immutable collection of immutable items that can be of different types: int, float, bool, string. A tuple provides few operators such as count() and index()"
   ]
  },
  {
   "cell_type": "code",
   "execution_count": 20,
   "metadata": {},
   "outputs": [
    {
     "name": "stdout",
     "output_type": "stream",
     "text": [
      "Number of occurrences: 2\n",
      "Index of 1st occurrence: 2\n",
      "\n"
     ]
    }
   ],
   "source": [
    "t = 1, 2.6, 'New York', 'New York'\n",
    "c = t.count('New York') \n",
    "i = t.index('New York')\n",
    "print(\"Number of occurrences: {0:d}\\nIndex of 1st occurrence: {1:d}\\n\".format(c, i))"
   ]
  },
  {
   "cell_type": "markdown",
   "metadata": {},
   "source": [
    "### List\n",
    "A Python list is a mutable collection of mutable items that can be of different types. In other words, a list can be expanded and reduced and its items are mutable. The functions used to expand a list are: append(), extend(), insert(). "
   ]
  },
  {
   "cell_type": "code",
   "execution_count": 57,
   "metadata": {},
   "outputs": [
    {
     "name": "stdout",
     "output_type": "stream",
     "text": [
      "[1, 2, 5]\n",
      "1\n"
     ]
    }
   ],
   "source": [
    "alist = [1,2,5]\n",
    "print(alist) # prints the list\n",
    "print(alist[0]) # prints the 1st element of the list"
   ]
  },
  {
   "cell_type": "markdown",
   "metadata": {},
   "source": [
    "We can add one item at a time to the end of the list using append()"
   ]
  },
  {
   "cell_type": "code",
   "execution_count": 58,
   "metadata": {},
   "outputs": [
    {
     "name": "stdout",
     "output_type": "stream",
     "text": [
      "[1, 2, 5, 7]\n"
     ]
    }
   ],
   "source": [
    "alist.append(7)\n",
    "print(alist)"
   ]
  },
  {
   "cell_type": "markdown",
   "metadata": {},
   "source": [
    "We can use extend() to add more items"
   ]
  },
  {
   "cell_type": "code",
   "execution_count": 59,
   "metadata": {},
   "outputs": [
    {
     "name": "stdout",
     "output_type": "stream",
     "text": [
      "[1, 2, 5, 7, 8, 3, 2]\n"
     ]
    }
   ],
   "source": [
    "alist.extend([8, 3, 2])\n",
    "print(alist)"
   ]
  },
  {
   "cell_type": "markdown",
   "metadata": {},
   "source": [
    "Finally, we can add an element at a certain index in the list"
   ]
  },
  {
   "cell_type": "code",
   "execution_count": 60,
   "metadata": {},
   "outputs": [
    {
     "name": "stdout",
     "output_type": "stream",
     "text": [
      "[1, 'New York', 2, 5, 7, 8, 3, 2]\n"
     ]
    }
   ],
   "source": [
    "alist.insert(1, 'New York')\n",
    "print(alist)"
   ]
  },
  {
   "cell_type": "markdown",
   "metadata": {},
   "source": [
    "We can remove the 1st occurrence of an item that contains a particular value from the list "
   ]
  },
  {
   "cell_type": "code",
   "execution_count": 61,
   "metadata": {},
   "outputs": [
    {
     "name": "stdout",
     "output_type": "stream",
     "text": [
      "[1, 2, 5, 7, 8, 3, 2]\n"
     ]
    }
   ],
   "source": [
    "alist.remove('New York')\n",
    "print(alist)"
   ]
  },
  {
   "cell_type": "markdown",
   "metadata": {},
   "source": [
    "We can also return an item with a certain index value and remove it from the list"
   ]
  },
  {
   "cell_type": "code",
   "execution_count": 62,
   "metadata": {},
   "outputs": [
    {
     "data": {
      "text/plain": [
       "7"
      ]
     },
     "execution_count": 62,
     "metadata": {},
     "output_type": "execute_result"
    }
   ],
   "source": [
    "v = alist.pop(3)\n",
    "v"
   ]
  },
  {
   "cell_type": "code",
   "execution_count": 63,
   "metadata": {},
   "outputs": [
    {
     "name": "stdout",
     "output_type": "stream",
     "text": [
      "[1, 2, 5, 8, 3, 2]\n"
     ]
    }
   ],
   "source": [
    "print(alist)"
   ]
  },
  {
   "cell_type": "markdown",
   "metadata": {},
   "source": [
    "We can slice a tuple or a list to select subsets of those collections"
   ]
  },
  {
   "cell_type": "code",
   "execution_count": 64,
   "metadata": {},
   "outputs": [
    {
     "data": {
      "text/plain": [
       "[5, 8]"
      ]
     },
     "execution_count": 64,
     "metadata": {},
     "output_type": "execute_result"
    }
   ],
   "source": [
    "alist[2:4]"
   ]
  },
  {
   "cell_type": "markdown",
   "metadata": {},
   "source": [
    "### Multi-dimensional list"
   ]
  },
  {
   "cell_type": "code",
   "execution_count": 78,
   "metadata": {},
   "outputs": [
    {
     "name": "stdout",
     "output_type": "stream",
     "text": [
      "[[0.1, 2], [3, 4]]\n"
     ]
    },
    {
     "data": {
      "text/plain": [
       "0.1"
      ]
     },
     "execution_count": 78,
     "metadata": {},
     "output_type": "execute_result"
    }
   ],
   "source": [
    "alist2d = [[0.1, 2], [3, 4]]\n",
    "print(alist2d)\n",
    "alist2d[0][0]"
   ]
  },
  {
   "cell_type": "markdown",
   "metadata": {},
   "source": [
    "### List comprehension\n",
    "List comprehension can be used to apply a function to a list of objects like a map() function or a lambda function."
   ]
  },
  {
   "cell_type": "code",
   "execution_count": 65,
   "metadata": {},
   "outputs": [],
   "source": [
    "families = [\"Pippo/Pluto\", \"Qui/Quo/Qua\"]"
   ]
  },
  {
   "cell_type": "markdown",
   "metadata": {},
   "source": [
    "Let's define a function that splits the tokens in a string and extracts the last element"
   ]
  },
  {
   "cell_type": "code",
   "execution_count": 66,
   "metadata": {},
   "outputs": [],
   "source": [
    "def leaf(family):\n",
    "    length = len(family.split(\"/\"))\n",
    "    leaf = family.split(\"/\")[length - 1]\n",
    "    return leaf"
   ]
  },
  {
   "cell_type": "markdown",
   "metadata": {},
   "source": [
    "Now we apply the function to a list of strings using a list comprehension"
   ]
  },
  {
   "cell_type": "code",
   "execution_count": 67,
   "metadata": {},
   "outputs": [
    {
     "data": {
      "text/plain": [
       "['Pluto', 'Qua']"
      ]
     },
     "execution_count": 67,
     "metadata": {},
     "output_type": "execute_result"
    }
   ],
   "source": [
    "[leaf(family) for family in families]"
   ]
  },
  {
   "cell_type": "markdown",
   "metadata": {},
   "source": [
    "We can achieve the same result with the following line, kind of lambda function"
   ]
  },
  {
   "cell_type": "code",
   "execution_count": 68,
   "metadata": {},
   "outputs": [
    {
     "data": {
      "text/plain": [
       "['Pluto', 'Qua']"
      ]
     },
     "execution_count": 68,
     "metadata": {},
     "output_type": "execute_result"
    }
   ],
   "source": [
    "[family.split(\"/\")[len(family.split(\"/\")) -1] for family in families ]"
   ]
  },
  {
   "cell_type": "markdown",
   "metadata": {},
   "source": [
    "### Functional programming\n",
    "We can get the same result by applying the leaf() function to each object in the families list using the map() function."
   ]
  },
  {
   "cell_type": "code",
   "execution_count": 70,
   "metadata": {},
   "outputs": [
    {
     "data": {
      "text/plain": [
       "['Pluto', 'Qua']"
      ]
     },
     "execution_count": 70,
     "metadata": {},
     "output_type": "execute_result"
    }
   ],
   "source": [
    "list(map(leaf, families))"
   ]
  },
  {
   "cell_type": "markdown",
   "metadata": {},
   "source": [
    "### Dictionary\n",
    "A dictionary is a symbol table: a collection of objects in which each object is associated to a key. The collection can be expanded and reduced."
   ]
  },
  {
   "cell_type": "code",
   "execution_count": 41,
   "metadata": {},
   "outputs": [],
   "source": [
    "cartoon_characters = {\"Pippo\":    5,\n",
    "                      \"Pluto\":    4,\n",
    "                      \"Topolino\": 2}"
   ]
  },
  {
   "cell_type": "code",
   "execution_count": 42,
   "metadata": {},
   "outputs": [
    {
     "name": "stdout",
     "output_type": "stream",
     "text": [
      "Name: Pippo, score: 5\n",
      "Name: Pluto, score: 4\n",
      "Name: Topolino, score: 2\n"
     ]
    },
    {
     "data": {
      "text/plain": [
       "[None, None, None]"
      ]
     },
     "execution_count": 42,
     "metadata": {},
     "output_type": "execute_result"
    }
   ],
   "source": [
    "[print(\"Name: \" + name + \", score: \" + str(score)) for name, score in cartoon_characters.items()]"
   ]
  },
  {
   "cell_type": "markdown",
   "metadata": {},
   "source": [
    "We can print the objects' keys"
   ]
  },
  {
   "cell_type": "code",
   "execution_count": 81,
   "metadata": {},
   "outputs": [
    {
     "data": {
      "text/plain": [
       "['Pippo', 'Pluto', 'Topolino']"
      ]
     },
     "execution_count": 81,
     "metadata": {},
     "output_type": "execute_result"
    }
   ],
   "source": [
    "list(cartoon_characters.keys())"
   ]
  },
  {
   "cell_type": "markdown",
   "metadata": {},
   "source": [
    "and the values"
   ]
  },
  {
   "cell_type": "code",
   "execution_count": 83,
   "metadata": {},
   "outputs": [
    {
     "data": {
      "text/plain": [
       "[5, 4, 2]"
      ]
     },
     "execution_count": 83,
     "metadata": {},
     "output_type": "execute_result"
    }
   ],
   "source": [
    "list(cartoon_characters.values())"
   ]
  },
  {
   "cell_type": "markdown",
   "metadata": {},
   "source": [
    "## NumPy \n",
    "A list can be used as an array: a collection of mutable objects of the same type: chars, integers or float or bool. Let's import the NumPy library"
   ]
  },
  {
   "cell_type": "code",
   "execution_count": 1,
   "metadata": {},
   "outputs": [],
   "source": [
    "import numpy as np"
   ]
  },
  {
   "cell_type": "markdown",
   "metadata": {},
   "source": [
    "A NumPy array can be created from a list"
   ]
  },
  {
   "cell_type": "code",
   "execution_count": 2,
   "metadata": {},
   "outputs": [
    {
     "name": "stdout",
     "output_type": "stream",
     "text": [
      "[1 2 4]\n"
     ]
    },
    {
     "data": {
      "text/plain": [
       "numpy.ndarray"
      ]
     },
     "execution_count": 2,
     "metadata": {},
     "output_type": "execute_result"
    }
   ],
   "source": [
    "l = [1, 2, 4]\n",
    "array = np.array(l)\n",
    "print(array)  # prints the full array\n",
    "type(array)"
   ]
  },
  {
   "cell_type": "markdown",
   "metadata": {},
   "source": [
    "or from a range of number with start, end and step"
   ]
  },
  {
   "cell_type": "code",
   "execution_count": 3,
   "metadata": {},
   "outputs": [
    {
     "name": "stdout",
     "output_type": "stream",
     "text": [
      "[0 1 2 3 4 5 6 7 8]\n"
     ]
    }
   ],
   "source": [
    "arange = np.arange(0, 9, 1) # an array from 0 to 9 with increment 1\n",
    "print(arange)"
   ]
  },
  {
   "cell_type": "markdown",
   "metadata": {},
   "source": [
    "A Python array is an object, an instance of a class, that contains a list of data of the same type and offers many functions to transform the data. We can write the data into a file"
   ]
  },
  {
   "cell_type": "code",
   "execution_count": 4,
   "metadata": {},
   "outputs": [],
   "source": [
    "path = 'physics/data/myarray.txt'\n",
    "with open(path, 'wb') as f:\n",
    "    arange.tofile(f)"
   ]
  },
  {
   "cell_type": "markdown",
   "metadata": {},
   "source": [
    "Then we can read the file and put the data into a new array"
   ]
  },
  {
   "cell_type": "code",
   "execution_count": 5,
   "metadata": {},
   "outputs": [
    {
     "name": "stdout",
     "output_type": "stream",
     "text": [
      "[0 1 2 3 4 5 6 7 8]\n"
     ]
    }
   ],
   "source": [
    "with open(path, 'rb') as f:\n",
    "    c = np.fromfile(f, dtype='int')\n",
    "print(c)"
   ]
  },
  {
   "cell_type": "markdown",
   "metadata": {},
   "source": [
    "We can compute the sum, the mean, and the standard deviation of the elements in the array"
   ]
  },
  {
   "cell_type": "code",
   "execution_count": 6,
   "metadata": {},
   "outputs": [
    {
     "name": "stdout",
     "output_type": "stream",
     "text": [
      "Sum: 36.0\n",
      "Mean: 4.0\n",
      "Standard deviation: 2.582\n"
     ]
    }
   ],
   "source": [
    "s = c.sum()\n",
    "m = c.mean()\n",
    "e = c.std()\n",
    "print(\"Sum: {0:.1f}\\nMean: {1:.1f}\\nStandard deviation: {2:.3f}\".format(s, m, e))"
   ]
  },
  {
   "cell_type": "markdown",
   "metadata": {},
   "source": [
    "### Vectorized operators\n",
    "An important feature of Python array is that mathematical operators on arrays do not need to use loops, an operator is applied to all members of an array"
   ]
  },
  {
   "cell_type": "code",
   "execution_count": 7,
   "metadata": {},
   "outputs": [
    {
     "data": {
      "text/plain": [
       "array([ 5.,  8., 11., 14., 17., 20., 23., 26., 29.])"
      ]
     },
     "execution_count": 7,
     "metadata": {},
     "output_type": "execute_result"
    }
   ],
   "source": [
    "x = np.arange(0., 9., 1)\n",
    "y = 3 * x + 5\n",
    "y"
   ]
  },
  {
   "cell_type": "markdown",
   "metadata": {},
   "source": [
    "### Bi-dimensional array\n"
   ]
  },
  {
   "cell_type": "code",
   "execution_count": 12,
   "metadata": {},
   "outputs": [
    {
     "name": "stdout",
     "output_type": "stream",
     "text": [
      "[[1 2 3]\n",
      " [4 5 6]\n",
      " [7 8 9]]\n"
     ]
    }
   ],
   "source": [
    "array2d = np.array(((1,2,3),(4,5,6),(7,8,9)))\n",
    "print(array2d) # prints the 2D array"
   ]
  },
  {
   "cell_type": "markdown",
   "metadata": {},
   "source": [
    "Let's print the element in the 3rd row and 2nd column"
   ]
  },
  {
   "cell_type": "code",
   "execution_count": 15,
   "metadata": {},
   "outputs": [
    {
     "name": "stdout",
     "output_type": "stream",
     "text": [
      "8\n"
     ]
    }
   ],
   "source": [
    "print(array2d[2, 1]) "
   ]
  },
  {
   "cell_type": "markdown",
   "metadata": {},
   "source": [
    "An n-dimensional array is used to represent a transformation into an n-dimesional space. "
   ]
  },
  {
   "cell_type": "code",
   "execution_count": 19,
   "metadata": {},
   "outputs": [
    {
     "name": "stdout",
     "output_type": "stream",
     "text": [
      "Array dimension: 2\n"
     ]
    }
   ],
   "source": [
    "d = array2d.ndim # dimension of the array \n",
    "print(\"Array dimension: {0:d}\".format(d))"
   ]
  },
  {
   "cell_type": "markdown",
   "metadata": {},
   "source": [
    "Each dimension consists of a tuple of numbers that represents its shape."
   ]
  },
  {
   "cell_type": "code",
   "execution_count": 20,
   "metadata": {},
   "outputs": [
    {
     "data": {
      "text/plain": [
       "(3, 3)"
      ]
     },
     "execution_count": 20,
     "metadata": {},
     "output_type": "execute_result"
    }
   ],
   "source": [
    "array2d.shape # shape of the multidimensional array"
   ]
  },
  {
   "cell_type": "markdown",
   "metadata": {},
   "source": [
    "We can compute the sum of the values of the array along one dimension or axix, for example along the columns "
   ]
  },
  {
   "cell_type": "code",
   "execution_count": 22,
   "metadata": {},
   "outputs": [
    {
     "data": {
      "text/plain": [
       "array([12, 15, 18])"
      ]
     },
     "execution_count": 22,
     "metadata": {},
     "output_type": "execute_result"
    }
   ],
   "source": [
    "array2d.sum(axis=0)"
   ]
  },
  {
   "cell_type": "markdown",
   "metadata": {},
   "source": [
    "or along the rows"
   ]
  },
  {
   "cell_type": "code",
   "execution_count": 23,
   "metadata": {},
   "outputs": [
    {
     "data": {
      "text/plain": [
       "array([ 6, 15, 24])"
      ]
     },
     "execution_count": 23,
     "metadata": {},
     "output_type": "execute_result"
    }
   ],
   "source": [
    "array2d.sum(axis=1)"
   ]
  },
  {
   "cell_type": "markdown",
   "metadata": {},
   "source": [
    "We may want to initialize an array with zeros"
   ]
  },
  {
   "cell_type": "code",
   "execution_count": 24,
   "metadata": {},
   "outputs": [
    {
     "name": "stdout",
     "output_type": "stream",
     "text": [
      "[[0. 0. 0.]\n",
      " [0. 0. 0.]\n",
      " [0. 0. 0.]]\n"
     ]
    }
   ],
   "source": [
    "zeros2d = np.zeros((3,3))\n",
    "print(zeros2d)"
   ]
  },
  {
   "cell_type": "markdown",
   "metadata": {},
   "source": [
    "or with ones"
   ]
  },
  {
   "cell_type": "code",
   "execution_count": 25,
   "metadata": {},
   "outputs": [
    {
     "name": "stdout",
     "output_type": "stream",
     "text": [
      "[[1. 1. 1.]\n",
      " [1. 1. 1.]\n",
      " [1. 1. 1.]]\n"
     ]
    }
   ],
   "source": [
    "ones2d = np.ones((3, 3))\n",
    "print(ones2d)"
   ]
  },
  {
   "cell_type": "markdown",
   "metadata": {},
   "source": [
    "or we might need an identity matrix, a square matrix whose diagonal values are ones and all the rest zeros"
   ]
  },
  {
   "cell_type": "code",
   "execution_count": 29,
   "metadata": {},
   "outputs": [
    {
     "data": {
      "text/plain": [
       "array([[1., 0., 0.],\n",
       "       [0., 1., 0.],\n",
       "       [0., 0., 1.]])"
      ]
     },
     "execution_count": 29,
     "metadata": {},
     "output_type": "execute_result"
    }
   ],
   "source": [
    "np.eye(3)"
   ]
  },
  {
   "cell_type": "markdown",
   "metadata": {},
   "source": [
    "Sometimes we need a sample of real numbers from an interval that are equally spaced. The linspace() function can be used to create such samples. It takes as input the two endpoints of the interval and the number of sample data points equally spaced within that interval. It is similar to range() but instead of setting the step we set the number of data points in the sample. "
   ]
  },
  {
   "cell_type": "code",
   "execution_count": 44,
   "metadata": {},
   "outputs": [
    {
     "data": {
      "text/plain": [
       "array([0. , 0.1, 0.2, 0.3, 0.4, 0.5, 0.6, 0.7, 0.8, 0.9, 1. ])"
      ]
     },
     "execution_count": 44,
     "metadata": {},
     "output_type": "execute_result"
    }
   ],
   "source": [
    "x = np.linspace(0., 1., 11)\n",
    "x"
   ]
  },
  {
   "cell_type": "markdown",
   "metadata": {},
   "source": [
    "### Reshaping\n",
    "The data points to be represented in a matrix, or in another multi-dimesional array, may come from a sequence so that once they are in a unidimensional array we have to change its shape adding the missing dimensions and putting the data points in the right place. After a reshaping operation The number of elements will stay the same but the shape of the array will be different."
   ]
  },
  {
   "cell_type": "code",
   "execution_count": 54,
   "metadata": {},
   "outputs": [
    {
     "name": "stdout",
     "output_type": "stream",
     "text": [
      "[[1 2 3]\n",
      " [4 5 6]\n",
      " [7 8 9]]\n"
     ]
    }
   ],
   "source": [
    "l = 1, 2, 3, 4, 5, 6, 7, 8, 9\n",
    "m1 = np.array(l)\n",
    "m2 = m1.reshape(3,3) # this is the same array but represented as a 3x3 matrix\n",
    "print(m2)"
   ]
  },
  {
   "cell_type": "markdown",
   "metadata": {},
   "source": [
    "We can also flatten the data back to its original shape"
   ]
  },
  {
   "cell_type": "code",
   "execution_count": 59,
   "metadata": {},
   "outputs": [
    {
     "data": {
      "text/plain": [
       "array([1, 2, 3, 4, 5, 6, 7, 8, 9])"
      ]
     },
     "execution_count": 59,
     "metadata": {},
     "output_type": "execute_result"
    }
   ],
   "source": [
    "m2.flatten()"
   ]
  },
  {
   "cell_type": "markdown",
   "metadata": {},
   "source": [
    "As said at the beginning of this section an array contains mutable object, that is, each object can change value (not type)"
   ]
  },
  {
   "cell_type": "code",
   "execution_count": 60,
   "metadata": {},
   "outputs": [
    {
     "name": "stdout",
     "output_type": "stream",
     "text": [
      "[[1 2 3]\n",
      " [4 0 6]\n",
      " [7 8 9]]\n"
     ]
    }
   ],
   "source": [
    "m2[1, 1] = 0\n",
    "print(m2)"
   ]
  },
  {
   "cell_type": "markdown",
   "metadata": {},
   "source": [
    "### Resizing\n",
    "We may need to create a new array, for example the column vectors from a matrix, by resizing an array. After the risizing the shape will be different but the dimensions will stay the same so to create a column vector we have to create a nwe array and copy the values of the resized (or of the original matrix) into it."
   ]
  },
  {
   "cell_type": "code",
   "execution_count": 89,
   "metadata": {},
   "outputs": [
    {
     "data": {
      "text/plain": [
       "array([1., 2., 3.])"
      ]
     },
     "execution_count": 89,
     "metadata": {},
     "output_type": "execute_result"
    }
   ],
   "source": [
    "v_shape = 3\n",
    "v1 = np.resize(m2, (v_shape, 1))\n",
    "v1\n",
    "v2 = np.zeros(3)\n",
    "for i in range(0, 3):\n",
    "    v2[i] = v1[i];\n",
    "v2"
   ]
  },
  {
   "cell_type": "markdown",
   "metadata": {},
   "source": [
    "### Concatenation\n",
    "Let's say we have four 2x2 matrices A, B, C and D and we want to concatenate them in one 4x4 matrix M\n",
    "\n",
    "$$ M = \\begin{bmatrix} A & B \\\\ C & D \\end{bmatrix} $$"
   ]
  },
  {
   "cell_type": "code",
   "execution_count": 120,
   "metadata": {},
   "outputs": [
    {
     "data": {
      "text/plain": [
       "(array([[1, 2],\n",
       "        [3, 4]]), array([[5, 6],\n",
       "        [7, 8]]), array([[0., 0.],\n",
       "        [0., 0.]]), array([[1., 1.],\n",
       "        [1., 1.]]))"
      ]
     },
     "execution_count": 120,
     "metadata": {},
     "output_type": "execute_result"
    }
   ],
   "source": [
    "A = np.array(((1, 2), (3, 4)))\n",
    "B = np.array(((5, 6), (7, 8)))\n",
    "C = np.zeros((2, 2))\n",
    "D = np.ones((2, 2))\n",
    "A, B, C, D"
   ]
  },
  {
   "cell_type": "code",
   "execution_count": 121,
   "metadata": {},
   "outputs": [
    {
     "data": {
      "text/plain": [
       "array([[1., 2., 5., 6.],\n",
       "       [3., 4., 7., 8.],\n",
       "       [0., 0., 1., 1.],\n",
       "       [0., 0., 1., 1.]])"
      ]
     },
     "execution_count": 121,
     "metadata": {},
     "output_type": "execute_result"
    }
   ],
   "source": [
    "M_up = np.concatenate((A, B), axis=1)\n",
    "M_down = np.concatenate((C, D), axis=1)\n",
    "M = np.concatenate((M_up, M_down), axis=0)\n",
    "M"
   ]
  },
  {
   "cell_type": "markdown",
   "metadata": {},
   "source": [
    "### Matrix multiplication for collaborative filtering\n",
    "A case is the computation of item similarities. Given an interaction matrix A where the rows are users and the columns represent\n",
    "items, a 1 represent an interaction between a user and an item. A similarity measure between items can be computed from the interaction matrix A as shown below."
   ]
  },
  {
   "cell_type": "code",
   "execution_count": 122,
   "metadata": {},
   "outputs": [
    {
     "data": {
      "text/plain": [
       "array([[3, 2, 1, 2],\n",
       "       [2, 2, 1, 1],\n",
       "       [1, 1, 1, 0],\n",
       "       [2, 1, 0, 2]])"
      ]
     },
     "execution_count": 122,
     "metadata": {},
     "output_type": "execute_result"
    }
   ],
   "source": [
    "A = np.array([[1,1,0,1], [1,1,1,0], [1,0,0,1]]) # 3 users and 4 items\n",
    "AT = A.transpose()\n",
    "S = AT.dot(A) # S is symmetric\n",
    "S"
   ]
  },
  {
   "cell_type": "markdown",
   "metadata": {},
   "source": [
    "We can also consider the ratings of the users on the items, e.g. on a scale from 1 to 5 (0 means not rated) "
   ]
  },
  {
   "cell_type": "code",
   "execution_count": 123,
   "metadata": {},
   "outputs": [
    {
     "data": {
      "text/plain": [
       "array([[50, 15, 12, 17],\n",
       "       [15,  9,  0,  6],\n",
       "       [12,  0,  9,  3],\n",
       "       [17,  6,  3,  6]])"
      ]
     },
     "execution_count": 123,
     "metadata": {},
     "output_type": "execute_result"
    }
   ],
   "source": [
    "A = np.array([[5,3,0,2], [4,0,3,1], [3,0,0,1]])\n",
    "AT = A.transpose()\n",
    "S = AT.dot(A)\n",
    "S"
   ]
  },
  {
   "cell_type": "markdown",
   "metadata": {},
   "source": [
    "We can now recommend items to a user by multiplying the user's ratings by the similarity matrix. The output is a vector of values that represent how much the user should rate each item. We will have to remove from the list the items that have been already rated by the user in order to recommend previously unseen items."
   ]
  },
  {
   "cell_type": "code",
   "execution_count": 124,
   "metadata": {},
   "outputs": [
    {
     "name": "stdout",
     "output_type": "stream",
     "text": [
      "[329 114  66 115]\n"
     ]
    }
   ],
   "source": [
    "u1 = A[0] # user 1 interactions\n",
    "r1 = S.dot(u1)\n",
    "print(r1)"
   ]
  },
  {
   "cell_type": "code",
   "execution_count": 125,
   "metadata": {},
   "outputs": [
    {
     "name": "stdout",
     "output_type": "stream",
     "text": [
      "66 (array([2], dtype=int64),)\n"
     ]
    }
   ],
   "source": [
    "u1_nr = (u1 == 0) # find items not rated by user 1\n",
    "item_i = np.where(u1_nr) # find the index of the 1st not rated item\n",
    "print(r1.dot(u1_nr), item_i)"
   ]
  },
  {
   "cell_type": "code",
   "execution_count": 126,
   "metadata": {},
   "outputs": [
    {
     "name": "stdout",
     "output_type": "stream",
     "text": [
      "[253  66  78  83]\n"
     ]
    }
   ],
   "source": [
    "u2 = A[1]\n",
    "r2 = S.dot(u2)\n",
    "print(r2)"
   ]
  },
  {
   "cell_type": "code",
   "execution_count": 127,
   "metadata": {},
   "outputs": [
    {
     "name": "stdout",
     "output_type": "stream",
     "text": [
      "1329 (array([1], dtype=int64),)\n"
     ]
    }
   ],
   "source": [
    "u2_nr = (u2 == 0)\n",
    "item_i = np.where(u2_nr)\n",
    "print(r2.dot(u2), item_i)"
   ]
  },
  {
   "cell_type": "code",
   "execution_count": 128,
   "metadata": {},
   "outputs": [
    {
     "data": {
      "text/plain": [
       "array([167,  51,  39,  57])"
      ]
     },
     "execution_count": 128,
     "metadata": {},
     "output_type": "execute_result"
    }
   ],
   "source": [
    "u3 = A[2]\n",
    "S.dot(u3)"
   ]
  },
  {
   "cell_type": "markdown",
   "metadata": {},
   "source": [
    "## Record array\n",
    "A record array can contain objects of different types in different colums, e.g. all integers in a column and all strings in another column"
   ]
  },
  {
   "cell_type": "code",
   "execution_count": 23,
   "metadata": {},
   "outputs": [
    {
     "name": "stdout",
     "output_type": "stream",
     "text": [
      "[(0, 0., b'') (0, 0., b'')]\n"
     ]
    }
   ],
   "source": [
    "recarray = np.zeros((2,), dtype=[('Integers','i4'),('Float','f4'),('Strings','a10')]) # a record array of two empty records (dtype is optional)\n",
    "print(recarray)"
   ]
  },
  {
   "cell_type": "code",
   "execution_count": 35,
   "metadata": {},
   "outputs": [
    {
     "name": "stdout",
     "output_type": "stream",
     "text": [
      "[array([1, 2]), array([1.5, 2.5]), array(['Rome', 'Paris'], dtype='<U5')]\n",
      "['Rome' 'Paris']\n"
     ]
    }
   ],
   "source": [
    "# prepare three arrays each of the same type: integer, float, string\n",
    "column1 = np.array((1,2), dtype='int')\n",
    "column2 = np.array((1.5,2.5), dtype='float')\n",
    "column3 = np.array(('Rome','Paris'), dtype='str')\n",
    "recarray = [column1, column2, column3] # puts together the three arrays in a record array \n",
    "print(recarray[:])\n",
    "print(recarray[2])"
   ]
  },
  {
   "cell_type": "code",
   "execution_count": 36,
   "metadata": {},
   "outputs": [
    {
     "name": "stdout",
     "output_type": "stream",
     "text": [
      "[b'New York' b'Moscow']\n"
     ]
    }
   ],
   "source": [
    "# another way of creating a record array\n",
    "recarray2 = np.rec.array([(1,1.5,'New York'),(2,3.7,'Moscow')],dtype=[('Integers','i4'),('Float','f4'),('Strings','a10')])\n",
    "print(recarray2.Strings) # prints all the values in column 'Strings'"
   ]
  },
  {
   "cell_type": "markdown",
   "metadata": {},
   "source": [
    "## Read & Write\n",
    "Pandas works much better than NumPy in reading and writing files"
   ]
  },
  {
   "cell_type": "code",
   "execution_count": 40,
   "metadata": {
    "scrolled": true
   },
   "outputs": [
    {
     "data": {
      "text/html": [
       "<div>\n",
       "<style scoped>\n",
       "    .dataframe tbody tr th:only-of-type {\n",
       "        vertical-align: middle;\n",
       "    }\n",
       "\n",
       "    .dataframe tbody tr th {\n",
       "        vertical-align: top;\n",
       "    }\n",
       "\n",
       "    .dataframe thead th {\n",
       "        text-align: right;\n",
       "    }\n",
       "</style>\n",
       "<table border=\"1\" class=\"dataframe\">\n",
       "  <thead>\n",
       "    <tr style=\"text-align: right;\">\n",
       "      <th></th>\n",
       "      <th>open</th>\n",
       "      <th>high</th>\n",
       "      <th>low</th>\n",
       "      <th>close</th>\n",
       "      <th>volume</th>\n",
       "    </tr>\n",
       "  </thead>\n",
       "  <tbody>\n",
       "    <tr>\n",
       "      <th>0</th>\n",
       "      <td>29.01</td>\n",
       "      <td>29.29</td>\n",
       "      <td>28.70</td>\n",
       "      <td>29.00</td>\n",
       "      <td>422606</td>\n",
       "    </tr>\n",
       "    <tr>\n",
       "      <th>1</th>\n",
       "      <td>28.81</td>\n",
       "      <td>29.15</td>\n",
       "      <td>28.71</td>\n",
       "      <td>28.93</td>\n",
       "      <td>265548</td>\n",
       "    </tr>\n",
       "  </tbody>\n",
       "</table>\n",
       "</div>"
      ],
      "text/plain": [
       "    open   high    low  close  volume\n",
       "0  29.01  29.29  28.70  29.00  422606\n",
       "1  28.81  29.15  28.71  28.93  265548"
      ]
     },
     "execution_count": 40,
     "metadata": {},
     "output_type": "execute_result"
    }
   ],
   "source": [
    "import pandas as pd\n",
    "path = 'covid19/data/tui-dat.csv'\n",
    "df = pd.read_csv(path)\n",
    "df[0:2]"
   ]
  },
  {
   "cell_type": "markdown",
   "metadata": {},
   "source": [
    "## Linear Algebra"
   ]
  },
  {
   "cell_type": "code",
   "execution_count": 41,
   "metadata": {},
   "outputs": [
    {
     "name": "stdout",
     "output_type": "stream",
     "text": [
      "[[1.75]\n",
      " [1.75]\n",
      " [0.75]]\n",
      "[[12.]\n",
      " [-2.]\n",
      " [10.]]\n"
     ]
    }
   ],
   "source": [
    "# Solve the linear system AX = B\n",
    "A = np.array([[3, 6, -5],   \n",
    "[1, -3, 2],\n",
    "[5, -1, 4]])\n",
    "\n",
    "B = np.array([[12],\n",
    "[-2],\n",
    "[10]])\n",
    "\n",
    "Ainv = np.linalg.inv(A) # inverse of A\n",
    "\n",
    "X = Ainv.dot(B)  # X = A^(-1)B\n",
    "print(X)\n",
    "\n",
    "print(A.dot(X)) # returns B"
   ]
  },
  {
   "cell_type": "code",
   "execution_count": 42,
   "metadata": {},
   "outputs": [
    {
     "name": "stdout",
     "output_type": "stream",
     "text": [
      "-2.0\n",
      "[ 1.  2. -1.]\n"
     ]
    }
   ],
   "source": [
    "# Determinant of a squared matrix\n",
    "#     1 2 3\n",
    "# S = 0 2 1\n",
    "#     0 0 -1\n",
    "\n",
    "S = np.array([[1,2,3],\n",
    "              [0,2,1],\n",
    "              [0,0,-1]])\n",
    "det = np.linalg.det(S)\n",
    "print(det)\n",
    "l = np.linalg.eigvals(S) # eigenvalues\n",
    "print(l)"
   ]
  },
  {
   "cell_type": "markdown",
   "metadata": {},
   "source": [
    "## Histograms"
   ]
  },
  {
   "cell_type": "code",
   "execution_count": 62,
   "metadata": {
    "scrolled": true
   },
   "outputs": [
    {
     "data": {
      "image/png": "[encoded data removed]",
      "text/plain": [
       "<Figure size 360x360 with 1 Axes>"
      ]
     },
     "metadata": {
      "needs_background": "light"
     },
     "output_type": "display_data"
    }
   ],
   "source": [
    "import matplotlib.pyplot as plt\n",
    "mu, sigma = 0.0, 1.0  # mean value and standard deviation\n",
    "sample_size = 10000\n",
    "v = np.random.normal(mu,sigma, sample_size) # Normal distribution\n",
    "fig, ax = plt.subplots(nrows=1, ncols=1, figsize=(5, 5))\n",
    "n = ax.hist(v, bins=100) # n contains the number of samples in each bin, the one-dimensional grid values and the plot object"
   ]
  },
  {
   "cell_type": "markdown",
   "metadata": {},
   "source": [
    "# SciPy\n",
    "Let's import the SciPy library and the Matplotlib library for visualization"
   ]
  },
  {
   "cell_type": "code",
   "execution_count": 63,
   "metadata": {},
   "outputs": [],
   "source": [
    "from scipy.optimize import curve_fit"
   ]
  },
  {
   "cell_type": "markdown",
   "metadata": {},
   "source": [
    "## Linear fitting"
   ]
  },
  {
   "cell_type": "code",
   "execution_count": 64,
   "metadata": {},
   "outputs": [
    {
     "name": "stdout",
     "output_type": "stream",
     "text": [
      "[0.95238973 2.36591872]\n"
     ]
    },
    {
     "data": {
      "text/plain": [
       "[<matplotlib.lines.Line2D at 0x21631047970>]"
      ]
     },
     "execution_count": 64,
     "metadata": {},
     "output_type": "execute_result"
    },
    {
     "data": {
      "image/png": "[encoded data removed]",
      "text/plain": [
       "<Figure size 432x288 with 1 Axes>"
      ]
     },
     "metadata": {
      "needs_background": "light"
     },
     "output_type": "display_data"
    }
   ],
   "source": [
    "# Creating a linear function to model and create data\n",
    "def linearfunc(x, a, b):\n",
    "    return a * x + b\n",
    "\n",
    "x = np.linspace(0, 10, 100) # start = 0, stop = 0, samples = 100\n",
    "y = linearfunc(x, 1, 2) # linear function defined in [0,10]\n",
    "plt.figure()\n",
    "plt.plot(x, y)\n",
    "# Adding noise to the data\n",
    "yn = y + 0.9 * np.random.normal(size=len(x))\n",
    "plt.plot(x,yn)\n",
    "# Executing curve_fit on noisy data\n",
    "popt, pcov = curve_fit(linearfunc, x, yn) # estimates the parameters of the linear function a, b\n",
    "print(popt)\n",
    "yfit = linearfunc(x,popt[0],popt[1]) # the fitted linear function overlaps with the original one\n",
    "plt.plot(x,yfit)"
   ]
  },
  {
   "cell_type": "markdown",
   "metadata": {},
   "source": [
    "## Gaussian fitting"
   ]
  },
  {
   "cell_type": "code",
   "execution_count": 65,
   "metadata": {},
   "outputs": [
    {
     "name": "stdout",
     "output_type": "stream",
     "text": [
      "[ 0.95739452  4.97470048 -2.11449439]\n"
     ]
    },
    {
     "data": {
      "text/plain": [
       "[<matplotlib.lines.Line2D at 0x216311a5880>]"
      ]
     },
     "execution_count": 65,
     "metadata": {},
     "output_type": "execute_result"
    },
    {
     "data": {
      "image/png": "[encoded data removed]",
      "text/plain": [
       "<Figure size 432x288 with 1 Axes>"
      ]
     },
     "metadata": {
      "needs_background": "light"
     },
     "output_type": "display_data"
    }
   ],
   "source": [
    "# Creating a Gaussian function to model and create data\n",
    "def gaussfunc(x, a, b, c):\n",
    "    return a*np.exp(-(x-b)**2/(2*c**2))\n",
    "\n",
    "# Generating clean data\n",
    "x = np.linspace(0, 10, 100)\n",
    "y = gaussfunc(x, 1, 5, 2)\n",
    "\n",
    "# Adding noise (gaussian) to the data (also gaussian)\n",
    "yn = y + 0.2 * np.random.normal(size=len(x))\n",
    "plt.figure()\n",
    "plt.plot(x,yn) # plot the gaussian function with random noise - red color\n",
    "# Executing curve_fit on noisy data\n",
    "popt, pcov = curve_fit(gaussfunc, x, yn) # estimates the parameters of the gaussian function a, b, c\n",
    "print(popt)\n",
    "yfit = gaussfunc(x,popt[0],popt[1],popt[2]) # plot the fitted gaussian\n",
    "plt.plot(x,yfit)"
   ]
  },
  {
   "cell_type": "markdown",
   "metadata": {},
   "source": [
    "## Solve equations"
   ]
  },
  {
   "cell_type": "code",
   "execution_count": 68,
   "metadata": {},
   "outputs": [
    {
     "name": "stdout",
     "output_type": "stream",
     "text": [
      "[1.]\n",
      "[2.]\n"
     ]
    }
   ],
   "source": [
    "from scipy.optimize import fsolve\n",
    "curve = lambda x: (x - 1)*(x - 2)\n",
    "solution1 = fsolve(curve, 0)\n",
    "print(solution1)\n",
    "solution2 = fsolve(curve,3)\n",
    "print(solution2)"
   ]
  },
  {
   "cell_type": "markdown",
   "metadata": {},
   "source": [
    "## Univariate interpolation"
   ]
  },
  {
   "cell_type": "code",
   "execution_count": 69,
   "metadata": {},
   "outputs": [
    {
     "data": {
      "text/plain": [
       "<matplotlib.legend.Legend at 0x216310a54f0>"
      ]
     },
     "execution_count": 69,
     "metadata": {},
     "output_type": "execute_result"
    },
    {
     "data": {
      "image/png": "[encoded data removed]",
      "text/plain": [
       "<Figure size 432x288 with 1 Axes>"
      ]
     },
     "metadata": {
      "needs_background": "light"
     },
     "output_type": "display_data"
    }
   ],
   "source": [
    "from scipy.interpolate import interp1d\n",
    "x = np.linspace(0, 3*np.pi, 10)\n",
    "y = np.sin(x)\n",
    "\n",
    "# create a linear interpolation function\n",
    "linearfunc = interp1d(x, y, kind='linear')\n",
    "# create a quadratic interpolation function\n",
    "quadraticfunc = interp1d(x, y, kind='quadratic')\n",
    "# interpolate on a grid of 1,000 points\n",
    "x_interp = np.linspace(0, 3*np.pi, 100)\n",
    "linear_interp = linearfunc(x_interp)\n",
    "quadratic_interp = quadraticfunc(x_interp)\n",
    "# plot the results\n",
    "plt.figure() # new figure\n",
    "plt.plot(x, y,'o') # plot the data points\n",
    "plt.plot(x_interp, linear_interp, x_interp, quadratic_interp); # plot the linear and quadratic interpolations\n",
    "plt.legend(['data', 'linear', 'quadratic'], loc='best')"
   ]
  },
  {
   "cell_type": "code",
   "execution_count": 70,
   "metadata": {},
   "outputs": [
    {
     "data": {
      "text/plain": [
       "<matplotlib.legend.Legend at 0x216317a4eb0>"
      ]
     },
     "execution_count": 70,
     "metadata": {},
     "output_type": "execute_result"
    },
    {
     "data": {
      "image/png": "[encoded data removed]",
      "text/plain": [
       "<Figure size 432x288 with 1 Axes>"
      ]
     },
     "metadata": {
      "needs_background": "light"
     },
     "output_type": "display_data"
    }
   ],
   "source": [
    "# Interpolation of noisy data\n",
    "from scipy.interpolate import UnivariateSpline\n",
    "sample = 30\n",
    "x = np.linspace(0.5, 10*np.pi, sample)\n",
    "y = np.cos(x) + np.log10(x) + np.random.randn(sample) / 10\n",
    "linearfunc = interp1d(x, y, kind='linear')\n",
    "splinefunc = UnivariateSpline(x, y, s=1)\n",
    "x_interp = np.linspace(0.5, 10*np.pi, 1000)\n",
    "linear_interp = linearfunc(x_interp)\n",
    "spline_interp = splinefunc(x_interp)\n",
    "plt.figure()\n",
    "plt.plot(x,y,'o')\n",
    "plt.plot(x_interp, linear_interp, x_interp, spline_interp)\n",
    "plt.legend(['data', 'linear', 'spline'], loc='best')"
   ]
  },
  {
   "cell_type": "markdown",
   "metadata": {},
   "source": [
    "## Multivariate Interpolation"
   ]
  },
  {
   "cell_type": "code",
   "execution_count": 71,
   "metadata": {},
   "outputs": [
    {
     "data": {
      "text/plain": [
       "Text(0.5, 1.0, 'Interpolated')"
      ]
     },
     "execution_count": 71,
     "metadata": {},
     "output_type": "execute_result"
    },
    {
     "data": {
      "image/png": "[encoded data removed]",
      "text/plain": [
       "<Figure size 432x288 with 2 Axes>"
      ]
     },
     "metadata": {
      "needs_background": "light"
     },
     "output_type": "display_data"
    }
   ],
   "source": [
    "from scipy.interpolate import griddata\n",
    "def func(x, y):\n",
    "    return np.sqrt(x**2 + y**2)+np.sin(x**2 + y**2)\n",
    "\n",
    "# creates a 2D grid of 1000x1000 points with coordinates values from 0 to 5 for both x and y\n",
    "grid_x, grid_y = np.mgrid[0:5:1000j, 0:5:1000j]  \n",
    "\n",
    "# sample data points\n",
    "xy = np.random.rand(1000, 2)\n",
    "z = func(xy[:,0]*5, xy[:,1]*5)\n",
    "\n",
    "# interpolating data\n",
    "grid_z0 = griddata(xy*5, z, (grid_x, grid_y), method='cubic')\n",
    "\n",
    "plt.subplot(121)\n",
    "plt.imshow(func(grid_x, grid_y).T, extent=(0,1,0,1), origin='lower') # shows the image generated on the grid points \n",
    "plt.plot(xy[:,0], xy[:,1], 'k.', ms=1) # print the ramdom sample points\n",
    "plt.title('Original')\n",
    "\n",
    "plt.subplot(122)\n",
    "plt.imshow(grid_z0.T, extent=(0,1,0,1), origin='lower') # shows the interpolated image\n",
    "plt.title('Interpolated')"
   ]
  },
  {
   "cell_type": "markdown",
   "metadata": {},
   "source": [
    "## 3D Plotting"
   ]
  },
  {
   "cell_type": "code",
   "execution_count": 116,
   "metadata": {},
   "outputs": [
    {
     "data": {
      "text/plain": [
       "<matplotlib.contour.QuadContourSet at 0x21639608610>"
      ]
     },
     "execution_count": 116,
     "metadata": {},
     "output_type": "execute_result"
    },
    {
     "data": {
      "image/png": "[encoded data removed]",
      "text/plain": [
       "<Figure size 432x288 with 1 Axes>"
      ]
     },
     "metadata": {
      "needs_background": "light"
     },
     "output_type": "display_data"
    }
   ],
   "source": [
    "def f(x, y):\n",
    "    return np.exp(-(x*x + y*y) / 1.0)\n",
    "\n",
    "x = np.linspace(-3, 3, 30)\n",
    "y = np.linspace(-3, 3, 30)\n",
    "X, Y = np.meshgrid(x, y) # generates a grid from one-dimensional arrays\n",
    "z = f(X, Y)\n",
    "fig = plt.figure()\n",
    "ax = plt.axes(projection='3d')\n",
    "ax.contour3D(X, Y, z, 50, cmap='binary')"
   ]
  },
  {
   "cell_type": "code",
   "execution_count": null,
   "metadata": {},
   "outputs": [],
   "source": []
  }
 ],
 "metadata": {
  "kernelspec": {
   "display_name": "Python 3",
   "language": "python",
   "name": "python3"
  },
  "language_info": {
   "codemirror_mode": {
    "name": "ipython",
    "version": 3
   },
   "file_extension": ".py",
   "mimetype": "text/x-python",
   "name": "python",
   "nbconvert_exporter": "python",
   "pygments_lexer": "ipython3",
   "version": "3.7.4"
  }
 },
 "nbformat": 4,
 "nbformat_minor": 4
}
