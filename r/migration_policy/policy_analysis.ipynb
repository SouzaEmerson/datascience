{
 "cells": [
  {
   "cell_type": "markdown",
   "id": "825f5a03-9c1e-48b5-ad78-9019fa1753f0",
   "metadata": {},
   "source": [
    "# Migration policy in Switzerland\n",
    "Migration policy in Switzerland\r\n",
    "DPS is an institute of the International Migration Institute (IMI) at the University of Oxford, focusing on research on international migration and its impact on societies, economies, and politics. In this exercise, a graph is created and analyzed using data from DPS. Specifically, political initiatives in Switzerland since 2000 are examined in relation to the affected migration groups. After the initial reading of the classified text passages, the coding for \"Affected Migration Groups\" was initially divided into binary (0 = Workers and 1 = Asylum Seekers/Refugees). As the coding progressed, it became clear that there were many instances in the dataset that either affected all migrants or could not be assigned. Subsequently, the coding was specified as follows: 0 = No information, 1 = Workers, 2 = Asylum Seekers/Refugees, 3 = All Migrants. The last category includes measures that affect both workers and asylum seekers/refugees. Many aspects targeting irregular migration are present in the text passages. Since it was not explicitly clear which migration groups were affected, they were assigned to the category \"0 = No information,\" which may introduce a bias in this study. Another bias is that the developments in the dataset only go up to 2013. Since then, not only globally but also in Swiss migration policy, much has changed. The aim of this exercise is to illustrate and examine the impacts of this policy-making and development in Switzerland on specific migration groups. The results will be presented graphically and further analyzed."
   ]
  },
  {
   "cell_type": "code",
   "execution_count": 15,
   "id": "65e9cd14-6542-4270-b388-92847ce814a5",
   "metadata": {},
   "outputs": [],
   "source": [
    "#setwd('policy_analysis')"
   ]
  },
  {
   "cell_type": "code",
   "execution_count": 14,
   "id": "f9a98561-42a1-43e1-ab5d-deb4a1bfc23c",
   "metadata": {},
   "outputs": [],
   "source": [
    "file_path = 'data/policy_database_switzerland.csv'\n",
    "ds<-read.csv(file_path, header = TRUE)\n",
    "num_rows<-nrow(ds)\n",
    "years<-unique(ds['Year'])"
   ]
  },
  {
   "cell_type": "code",
   "execution_count": null,
   "id": "e58a9aba-6cb1-44e6-9665-97e5515da20f",
   "metadata": {},
   "outputs": [],
   "source": [
    "num_years<-nrow(years)\n",
    "\n",
    "# Group array initialization \n",
    "g0<-matrix(c(years[1:num_years,1], integer(num_years)), nrow = num_years, ncol = 2)\n",
    "g1<-matrix(c(years[1:num_years,1], integer(num_years)), nrow = num_years, ncol = 2)\n",
    "g2<-matrix(c(years[1:num_years,1], integer(num_years)), nrow = num_years, ncol = 2)\n",
    "g3<-matrix(c(years[1:num_years,1], integer(num_years)), nrow = num_years, ncol = 2)\n",
    "\n",
    "# Counting the number of group appearance for each year\n",
    "for (i in 1:num_years) {\n",
    "  year <- years[i, 1]\n",
    "\n",
    "  for (j in 1:num_rows) {\n",
    "    if (ds[j, 1] == year) {\n",
    "      group <- ds[j, 2]\n",
    "      if (group == 0) {\n",
    "        index <- which(g0 == year)\n",
    "        g0[i,2] <- g0[i,2] + 1 \n",
    "      } \n",
    "      if (group == 1) {\n",
    "        index <- which(g1 == year)\n",
    "        g1[i,2] <- g1[i,2] + 1 \n",
    "      } \n",
    "      if (group == 2) {\n",
    "        index <- which(g2 == year)\n",
    "        g2[i,2] <- g2[i,2] + 1 \n",
    "      } \n",
    "      if (group == 3) {\n",
    "        index <- which(g3 == year)\n",
    "        g3[i,2] <- g3[i,2] + 1 \n",
    "      } \n",
    "    }\n",
    "  }\n",
    "}"
   ]
  },
  {
   "cell_type": "code",
   "execution_count": 17,
   "id": "9b5e26c9-34aa-41fb-bafc-fd1be64e770d",
   "metadata": {},
   "outputs": [
    {
     "data": {
      "image/png": "[encoded data removed]",
      "text/plain": [
       "plot without title"
      ]
     },
     "metadata": {
      "image/png": {
       "height": 420,
       "width": 420
      }
     },
     "output_type": "display_data"
    }
   ],
   "source": [
    "x<-g0[,1]\n",
    "plot(x, g0[,2], type = 'b', col = 'red', ylim = c(0, 5), ylab='Counts', xlab = 'Year')\n",
    "lines(x, g1[,2], type = 'b', col = 'green')\n",
    "lines(x, g2[,2], type = 'b', col = 'blue')\n",
    "lines(x, g3[,2], type = 'b', col = 'black')\n",
    "legend(\"topleft\", legend=c('G0', 'G1', 'G2', 'G3'), col=c('red', 'green', 'blue', 'black'), lty = 1:4, cex=0.8)  "
   ]
  },
  {
   "cell_type": "code",
   "execution_count": null,
   "id": "871a4f5e-03d5-410a-9f07-ce281b901dfa",
   "metadata": {},
   "outputs": [],
   "source": []
  }
 ],
 "metadata": {
  "kernelspec": {
   "display_name": "R",
   "language": "R",
   "name": "ir"
  },
  "language_info": {
   "codemirror_mode": "r",
   "file_extension": ".r",
   "mimetype": "text/x-r-source",
   "name": "R",
   "pygments_lexer": "r",
   "version": "4.1.3"
  }
 },
 "nbformat": 4,
 "nbformat_minor": 5
}
